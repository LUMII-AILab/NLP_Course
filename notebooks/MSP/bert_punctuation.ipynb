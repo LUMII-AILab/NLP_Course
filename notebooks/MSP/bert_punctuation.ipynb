{
  "cells": [
    {
      "cell_type": "markdown",
      "id": "3c1f7fc1",
      "metadata": {
        "id": "3c1f7fc1"
      },
      "source": [
        "# Comma Restoration with Token Classification using BERT\n",
        "This notebook fine-tunes a transformer encoder (e.g., mBERT, LvBERT) to restore commas in text as a token classification task. Each token receives one of two labels: COMMA (a comma should follow this word) or O (no comma). At inference time, existing commas are stripped, labels are predicted, and the sentence is rebuilt by inserting commas after tokens predicted as COMMA.\n",
        "Models to try:\n",
        "- https://huggingface.co/google-bert/bert-base-multilingual-cased\n",
        "- https://huggingface.co/AiLab-IMCS-UL/lvbert\n",
        "- https://huggingface.co/FacebookAI/xlm-roberta-base\n",
        "- https://huggingface.co/EMBEDDIA/litlat-bert\n",
        "- https://huggingface.co/jhu-clsp/mmBERT-small"
      ]
    },
    {
      "cell_type": "markdown",
      "id": "f1891982",
      "metadata": {
        "id": "f1891982"
      },
      "source": [
        "# Prepare environment"
      ]
    },
    {
      "cell_type": "code",
      "execution_count": null,
      "id": "68105191",
      "metadata": {
        "colab": {
          "base_uri": "https://localhost:8080/"
        },
        "id": "68105191",
        "outputId": "9a96e50b-4169-4dd3-a6fe-00d202f4002b"
      },
      "outputs": [
        {
          "output_type": "stream",
          "name": "stdout",
          "text": [
            "Python 3.12.11\n",
            "pip 24.1.2 from /usr/local/lib/python3.12/dist-packages/pip (python 3.12)\n",
            "Requirement already satisfied: numpy in /usr/local/lib/python3.12/dist-packages (2.0.2)\n",
            "Requirement already satisfied: scikit-learn in /usr/local/lib/python3.12/dist-packages (1.6.1)\n",
            "Requirement already satisfied: datasets in /usr/local/lib/python3.12/dist-packages (4.0.0)\n",
            "Requirement already satisfied: torch in /usr/local/lib/python3.12/dist-packages (2.8.0+cu126)\n",
            "Requirement already satisfied: tiktoken in /usr/local/lib/python3.12/dist-packages (0.11.0)\n",
            "Requirement already satisfied: blobfile in /usr/local/lib/python3.12/dist-packages (3.1.0)\n",
            "Requirement already satisfied: protobuf in /usr/local/lib/python3.12/dist-packages (5.29.5)\n",
            "Requirement already satisfied: sentencepiece in /usr/local/lib/python3.12/dist-packages (0.2.1)\n",
            "Requirement already satisfied: wandb in /usr/local/lib/python3.12/dist-packages (0.21.3)\n",
            "Requirement already satisfied: transformers[torch] in /usr/local/lib/python3.12/dist-packages (4.56.1)\n",
            "Requirement already satisfied: filelock in /usr/local/lib/python3.12/dist-packages (from transformers[torch]) (3.19.1)\n",
            "Requirement already satisfied: huggingface-hub<1.0,>=0.34.0 in /usr/local/lib/python3.12/dist-packages (from transformers[torch]) (0.34.4)\n",
            "Requirement already satisfied: packaging>=20.0 in /usr/local/lib/python3.12/dist-packages (from transformers[torch]) (25.0)\n",
            "Requirement already satisfied: pyyaml>=5.1 in /usr/local/lib/python3.12/dist-packages (from transformers[torch]) (6.0.2)\n",
            "Requirement already satisfied: regex!=2019.12.17 in /usr/local/lib/python3.12/dist-packages (from transformers[torch]) (2024.11.6)\n",
            "Requirement already satisfied: requests in /usr/local/lib/python3.12/dist-packages (from transformers[torch]) (2.32.4)\n",
            "Requirement already satisfied: tokenizers<=0.23.0,>=0.22.0 in /usr/local/lib/python3.12/dist-packages (from transformers[torch]) (0.22.0)\n",
            "Requirement already satisfied: safetensors>=0.4.3 in /usr/local/lib/python3.12/dist-packages (from transformers[torch]) (0.6.2)\n",
            "Requirement already satisfied: tqdm>=4.27 in /usr/local/lib/python3.12/dist-packages (from transformers[torch]) (4.67.1)\n",
            "Requirement already satisfied: accelerate>=0.26.0 in /usr/local/lib/python3.12/dist-packages (from transformers[torch]) (1.10.1)\n",
            "Requirement already satisfied: scipy>=1.6.0 in /usr/local/lib/python3.12/dist-packages (from scikit-learn) (1.16.1)\n",
            "Requirement already satisfied: joblib>=1.2.0 in /usr/local/lib/python3.12/dist-packages (from scikit-learn) (1.5.2)\n",
            "Requirement already satisfied: threadpoolctl>=3.1.0 in /usr/local/lib/python3.12/dist-packages (from scikit-learn) (3.6.0)\n",
            "Requirement already satisfied: pyarrow>=15.0.0 in /usr/local/lib/python3.12/dist-packages (from datasets) (18.1.0)\n",
            "Requirement already satisfied: dill<0.3.9,>=0.3.0 in /usr/local/lib/python3.12/dist-packages (from datasets) (0.3.8)\n",
            "Requirement already satisfied: pandas in /usr/local/lib/python3.12/dist-packages (from datasets) (2.2.2)\n",
            "Requirement already satisfied: xxhash in /usr/local/lib/python3.12/dist-packages (from datasets) (3.5.0)\n",
            "Requirement already satisfied: multiprocess<0.70.17 in /usr/local/lib/python3.12/dist-packages (from datasets) (0.70.16)\n",
            "Requirement already satisfied: fsspec<=2025.3.0,>=2023.1.0 in /usr/local/lib/python3.12/dist-packages (from fsspec[http]<=2025.3.0,>=2023.1.0->datasets) (2025.3.0)\n",
            "Requirement already satisfied: typing-extensions>=4.10.0 in /usr/local/lib/python3.12/dist-packages (from torch) (4.15.0)\n",
            "Requirement already satisfied: setuptools in /usr/local/lib/python3.12/dist-packages (from torch) (75.2.0)\n",
            "Requirement already satisfied: sympy>=1.13.3 in /usr/local/lib/python3.12/dist-packages (from torch) (1.13.3)\n",
            "Requirement already satisfied: networkx in /usr/local/lib/python3.12/dist-packages (from torch) (3.5)\n",
            "Requirement already satisfied: jinja2 in /usr/local/lib/python3.12/dist-packages (from torch) (3.1.6)\n",
            "Requirement already satisfied: nvidia-cuda-nvrtc-cu12==12.6.77 in /usr/local/lib/python3.12/dist-packages (from torch) (12.6.77)\n",
            "Requirement already satisfied: nvidia-cuda-runtime-cu12==12.6.77 in /usr/local/lib/python3.12/dist-packages (from torch) (12.6.77)\n",
            "Requirement already satisfied: nvidia-cuda-cupti-cu12==12.6.80 in /usr/local/lib/python3.12/dist-packages (from torch) (12.6.80)\n",
            "Requirement already satisfied: nvidia-cudnn-cu12==9.10.2.21 in /usr/local/lib/python3.12/dist-packages (from torch) (9.10.2.21)\n",
            "Requirement already satisfied: nvidia-cublas-cu12==12.6.4.1 in /usr/local/lib/python3.12/dist-packages (from torch) (12.6.4.1)\n",
            "Requirement already satisfied: nvidia-cufft-cu12==11.3.0.4 in /usr/local/lib/python3.12/dist-packages (from torch) (11.3.0.4)\n",
            "Requirement already satisfied: nvidia-curand-cu12==10.3.7.77 in /usr/local/lib/python3.12/dist-packages (from torch) (10.3.7.77)\n",
            "Requirement already satisfied: nvidia-cusolver-cu12==11.7.1.2 in /usr/local/lib/python3.12/dist-packages (from torch) (11.7.1.2)\n",
            "Requirement already satisfied: nvidia-cusparse-cu12==12.5.4.2 in /usr/local/lib/python3.12/dist-packages (from torch) (12.5.4.2)\n",
            "Requirement already satisfied: nvidia-cusparselt-cu12==0.7.1 in /usr/local/lib/python3.12/dist-packages (from torch) (0.7.1)\n",
            "Requirement already satisfied: nvidia-nccl-cu12==2.27.3 in /usr/local/lib/python3.12/dist-packages (from torch) (2.27.3)\n",
            "Requirement already satisfied: nvidia-nvtx-cu12==12.6.77 in /usr/local/lib/python3.12/dist-packages (from torch) (12.6.77)\n",
            "Requirement already satisfied: nvidia-nvjitlink-cu12==12.6.85 in /usr/local/lib/python3.12/dist-packages (from torch) (12.6.85)\n",
            "Requirement already satisfied: nvidia-cufile-cu12==1.11.1.6 in /usr/local/lib/python3.12/dist-packages (from torch) (1.11.1.6)\n",
            "Requirement already satisfied: triton==3.4.0 in /usr/local/lib/python3.12/dist-packages (from torch) (3.4.0)\n",
            "Requirement already satisfied: pycryptodomex>=3.8 in /usr/local/lib/python3.12/dist-packages (from blobfile) (3.23.0)\n",
            "Requirement already satisfied: urllib3<3,>=1.25.3 in /usr/local/lib/python3.12/dist-packages (from blobfile) (2.5.0)\n",
            "Requirement already satisfied: lxml>=4.9 in /usr/local/lib/python3.12/dist-packages (from blobfile) (5.4.0)\n",
            "Requirement already satisfied: click>=8.0.1 in /usr/local/lib/python3.12/dist-packages (from wandb) (8.2.1)\n",
            "Requirement already satisfied: gitpython!=3.1.29,>=1.0.0 in /usr/local/lib/python3.12/dist-packages (from wandb) (3.1.45)\n",
            "Requirement already satisfied: platformdirs in /usr/local/lib/python3.12/dist-packages (from wandb) (4.4.0)\n",
            "Requirement already satisfied: pydantic<3 in /usr/local/lib/python3.12/dist-packages (from wandb) (2.11.7)\n",
            "Requirement already satisfied: sentry-sdk>=2.0.0 in /usr/local/lib/python3.12/dist-packages (from wandb) (2.37.1)\n",
            "Requirement already satisfied: psutil in /usr/local/lib/python3.12/dist-packages (from accelerate>=0.26.0->transformers[torch]) (5.9.5)\n",
            "Requirement already satisfied: aiohttp!=4.0.0a0,!=4.0.0a1 in /usr/local/lib/python3.12/dist-packages (from fsspec[http]<=2025.3.0,>=2023.1.0->datasets) (3.12.15)\n",
            "Requirement already satisfied: gitdb<5,>=4.0.1 in /usr/local/lib/python3.12/dist-packages (from gitpython!=3.1.29,>=1.0.0->wandb) (4.0.12)\n",
            "Requirement already satisfied: hf-xet<2.0.0,>=1.1.3 in /usr/local/lib/python3.12/dist-packages (from huggingface-hub<1.0,>=0.34.0->transformers[torch]) (1.1.9)\n",
            "Requirement already satisfied: annotated-types>=0.6.0 in /usr/local/lib/python3.12/dist-packages (from pydantic<3->wandb) (0.7.0)\n",
            "Requirement already satisfied: pydantic-core==2.33.2 in /usr/local/lib/python3.12/dist-packages (from pydantic<3->wandb) (2.33.2)\n",
            "Requirement already satisfied: typing-inspection>=0.4.0 in /usr/local/lib/python3.12/dist-packages (from pydantic<3->wandb) (0.4.1)\n",
            "Requirement already satisfied: charset_normalizer<4,>=2 in /usr/local/lib/python3.12/dist-packages (from requests->transformers[torch]) (3.4.3)\n",
            "Requirement already satisfied: idna<4,>=2.5 in /usr/local/lib/python3.12/dist-packages (from requests->transformers[torch]) (3.10)\n",
            "Requirement already satisfied: certifi>=2017.4.17 in /usr/local/lib/python3.12/dist-packages (from requests->transformers[torch]) (2025.8.3)\n",
            "Requirement already satisfied: mpmath<1.4,>=1.1.0 in /usr/local/lib/python3.12/dist-packages (from sympy>=1.13.3->torch) (1.3.0)\n",
            "Requirement already satisfied: MarkupSafe>=2.0 in /usr/local/lib/python3.12/dist-packages (from jinja2->torch) (3.0.2)\n",
            "Requirement already satisfied: python-dateutil>=2.8.2 in /usr/local/lib/python3.12/dist-packages (from pandas->datasets) (2.9.0.post0)\n",
            "Requirement already satisfied: pytz>=2020.1 in /usr/local/lib/python3.12/dist-packages (from pandas->datasets) (2025.2)\n",
            "Requirement already satisfied: tzdata>=2022.7 in /usr/local/lib/python3.12/dist-packages (from pandas->datasets) (2025.2)\n",
            "Requirement already satisfied: aiohappyeyeballs>=2.5.0 in /usr/local/lib/python3.12/dist-packages (from aiohttp!=4.0.0a0,!=4.0.0a1->fsspec[http]<=2025.3.0,>=2023.1.0->datasets) (2.6.1)\n",
            "Requirement already satisfied: aiosignal>=1.4.0 in /usr/local/lib/python3.12/dist-packages (from aiohttp!=4.0.0a0,!=4.0.0a1->fsspec[http]<=2025.3.0,>=2023.1.0->datasets) (1.4.0)\n",
            "Requirement already satisfied: attrs>=17.3.0 in /usr/local/lib/python3.12/dist-packages (from aiohttp!=4.0.0a0,!=4.0.0a1->fsspec[http]<=2025.3.0,>=2023.1.0->datasets) (25.3.0)\n",
            "Requirement already satisfied: frozenlist>=1.1.1 in /usr/local/lib/python3.12/dist-packages (from aiohttp!=4.0.0a0,!=4.0.0a1->fsspec[http]<=2025.3.0,>=2023.1.0->datasets) (1.7.0)\n",
            "Requirement already satisfied: multidict<7.0,>=4.5 in /usr/local/lib/python3.12/dist-packages (from aiohttp!=4.0.0a0,!=4.0.0a1->fsspec[http]<=2025.3.0,>=2023.1.0->datasets) (6.6.4)\n",
            "Requirement already satisfied: propcache>=0.2.0 in /usr/local/lib/python3.12/dist-packages (from aiohttp!=4.0.0a0,!=4.0.0a1->fsspec[http]<=2025.3.0,>=2023.1.0->datasets) (0.3.2)\n",
            "Requirement already satisfied: yarl<2.0,>=1.17.0 in /usr/local/lib/python3.12/dist-packages (from aiohttp!=4.0.0a0,!=4.0.0a1->fsspec[http]<=2025.3.0,>=2023.1.0->datasets) (1.20.1)\n",
            "Requirement already satisfied: smmap<6,>=3.0.1 in /usr/local/lib/python3.12/dist-packages (from gitdb<5,>=4.0.1->gitpython!=3.1.29,>=1.0.0->wandb) (5.0.2)\n",
            "Requirement already satisfied: six>=1.5 in /usr/local/lib/python3.12/dist-packages (from python-dateutil>=2.8.2->pandas->datasets) (1.17.0)\n"
          ]
        }
      ],
      "source": [
        "!python -V\n",
        "!pip -V\n",
        "!pip install numpy transformers[torch] scikit-learn datasets torch tiktoken blobfile protobuf sentencepiece wandb"
      ]
    },
    {
      "cell_type": "code",
      "execution_count": null,
      "id": "5bdc0695",
      "metadata": {
        "colab": {
          "base_uri": "https://localhost:8080/"
        },
        "id": "5bdc0695",
        "outputId": "ca129176-35c6-4121-f227-f7b9c90ff2e7"
      },
      "outputs": [
        {
          "output_type": "stream",
          "name": "stdout",
          "text": [
            "CUDA device: Tesla T4 (7, 5) bf16 False\n",
            "Memory: 14992.12 MB free / 15095.06 MB total\n"
          ]
        }
      ],
      "source": [
        "import torch\n",
        "if torch.cuda.is_available():\n",
        "    print('CUDA device:', torch.cuda.get_device_name(0), torch.cuda.get_device_capability(0), 'bf16', torch.cuda.is_bf16_supported(False))\n",
        "    free_mem, total_mem = torch.cuda.mem_get_info(torch.device('cuda:0'))\n",
        "    print(f'Memory: {free_mem / 1024 ** 2:.2f} MB free / {total_mem / 1024 ** 2:.2f} MB total')\n",
        "else:\n",
        "    print('No CUDA device available')"
      ]
    },
    {
      "cell_type": "code",
      "execution_count": null,
      "id": "5a1fb23e",
      "metadata": {
        "id": "5a1fb23e"
      },
      "outputs": [],
      "source": [
        "import json\n",
        "import re\n",
        "\n",
        "import numpy as np\n",
        "import requests\n",
        "import torch\n",
        "from datasets import load_dataset\n",
        "from sklearn.metrics import precision_recall_fscore_support, accuracy_score\n",
        "from torch.utils.data import DataLoader\n",
        "from transformers import (\n",
        "    AutoTokenizer,\n",
        "    AutoModelForTokenClassification,\n",
        "    DataCollatorForTokenClassification,\n",
        "    TrainingArguments,\n",
        "    Trainer,\n",
        "    set_seed,\n",
        ")\n",
        "import wandb"
      ]
    },
    {
      "cell_type": "code",
      "execution_count": null,
      "id": "8735ed6e",
      "metadata": {
        "colab": {
          "base_uri": "https://localhost:8080/",
          "height": 225
        },
        "id": "8735ed6e",
        "outputId": "14988c2a-8e2e-4ef7-e53d-039dc7701a8e"
      },
      "outputs": [
        {
          "output_type": "stream",
          "name": "stderr",
          "text": [
            "/usr/local/lib/python3.12/dist-packages/notebook/notebookapp.py:191: SyntaxWarning: invalid escape sequence '\\/'\n",
            "  | |_| | '_ \\/ _` / _` |  _/ -_)\n"
          ]
        },
        {
          "output_type": "display_data",
          "data": {
            "text/plain": [
              "<IPython.core.display.Javascript object>"
            ],
            "application/javascript": [
              "\n",
              "        window._wandbApiKey = new Promise((resolve, reject) => {\n",
              "            function loadScript(url) {\n",
              "            return new Promise(function(resolve, reject) {\n",
              "                let newScript = document.createElement(\"script\");\n",
              "                newScript.onerror = reject;\n",
              "                newScript.onload = resolve;\n",
              "                document.body.appendChild(newScript);\n",
              "                newScript.src = url;\n",
              "            });\n",
              "            }\n",
              "            loadScript(\"https://cdn.jsdelivr.net/npm/postmate/build/postmate.min.js\").then(() => {\n",
              "            const iframe = document.createElement('iframe')\n",
              "            iframe.style.cssText = \"width:0;height:0;border:none\"\n",
              "            document.body.appendChild(iframe)\n",
              "            const handshake = new Postmate({\n",
              "                container: iframe,\n",
              "                url: 'https://wandb.ai/authorize'\n",
              "            });\n",
              "            const timeout = setTimeout(() => reject(\"Couldn't auto authenticate\"), 5000)\n",
              "            handshake.then(function(child) {\n",
              "                child.on('authorize', data => {\n",
              "                    clearTimeout(timeout)\n",
              "                    resolve(data)\n",
              "                });\n",
              "            });\n",
              "            })\n",
              "        });\n",
              "    "
            ]
          },
          "metadata": {}
        },
        {
          "output_type": "stream",
          "name": "stderr",
          "text": [
            "\u001b[34m\u001b[1mwandb\u001b[0m: Logging into wandb.ai. (Learn how to deploy a W&B server locally: https://wandb.me/wandb-server)\n",
            "\u001b[34m\u001b[1mwandb\u001b[0m: You can find your API key in your browser here: https://wandb.ai/authorize\n",
            "wandb: Paste an API key from your profile and hit enter:"
          ]
        },
        {
          "name": "stdout",
          "output_type": "stream",
          "text": [
            " ··········\n"
          ]
        },
        {
          "output_type": "stream",
          "name": "stderr",
          "text": [
            "\u001b[34m\u001b[1mwandb\u001b[0m: \u001b[33mWARNING\u001b[0m If you're specifying your api key in code, ensure this code is not shared publicly.\n",
            "\u001b[34m\u001b[1mwandb\u001b[0m: \u001b[33mWARNING\u001b[0m Consider setting the WANDB_API_KEY environment variable, or running `wandb login` from the command line.\n",
            "\u001b[34m\u001b[1mwandb\u001b[0m: No netrc file found, creating one.\n",
            "\u001b[34m\u001b[1mwandb\u001b[0m: Appending key for api.wandb.ai to your netrc file: /root/.netrc\n",
            "\u001b[34m\u001b[1mwandb\u001b[0m: Currently logged in as: \u001b[33martursz\u001b[0m to \u001b[32mhttps://api.wandb.ai\u001b[0m. Use \u001b[1m`wandb login --relogin`\u001b[0m to force relogin\n"
          ]
        },
        {
          "output_type": "execute_result",
          "data": {
            "text/plain": [
              "True"
            ]
          },
          "metadata": {},
          "execution_count": 4
        }
      ],
      "source": [
        "# Authenticate with Weights & Biases to enable logging and experiment tracking\n",
        "wandb.login()"
      ]
    },
    {
      "cell_type": "markdown",
      "id": "60237262",
      "metadata": {
        "lines_to_next_cell": 1,
        "id": "60237262"
      },
      "source": [
        "# Prepare dataset\n",
        "Raw sentences from the Latvian Universal Dependencies (LVTB) corpus: https://universaldependencies.org/treebanks/lv_lvtb/index.html"
      ]
    },
    {
      "cell_type": "code",
      "execution_count": null,
      "id": "bb6ac0fa",
      "metadata": {
        "colab": {
          "base_uri": "https://localhost:8080/"
        },
        "id": "bb6ac0fa",
        "outputId": "4c3d49e7-4ba5-4767-a5a0-219c7935680f"
      },
      "outputs": [
        {
          "output_type": "stream",
          "name": "stdout",
          "text": [
            "Sentence lengths before filtering: DEV 2080 TRAIN 15055\n",
            "Dataset sentence lengths: DEV 1912 TRAIN 13811\n",
            "To tu man stāstīji jau pirms divām nedēļām.\n",
            "Ka pieticis tikai autobusa biļetei un barankām.\n",
            "Uz skatuves kāpa skolas koris, pēc tam uzstājās arī dramatiskā pulciņa dalībnieki un divi bērnudārza audzēkņi.\n",
            "Burka esot jāizdekorē ar dillēm, mārrutku lapu, upeņu zariņu un ķiploka pusdaiviņām, jāsaliek gurķīši un jāaplej ar verdošu ūdeni, kurā iebērta ēdamkarote cukura un ēdamkarote sāls.\n",
            "Izaugs sava raža, nevajadzēs lieku reizi braukt uz tirgu.\n"
          ]
        }
      ],
      "source": [
        "def fetch_ud_texts(split, seed=42):\n",
        "    conllu = requests.get(f'https://raw.githubusercontent.com/UniversalDependencies/UD_Latvian-LVTB/r2.16/lv_lvtb-ud-{split}.conllu').text\n",
        "    texts = [line[9:].strip() for line in conllu.splitlines() if line.startswith('# text = ')]\n",
        "    if seed:\n",
        "        import random\n",
        "        random.Random(seed).shuffle(texts)\n",
        "    return texts\n",
        "\n",
        "def prepare_data(max_chars=200, dev_txt='dev.txt', train_txt='train.txt'):\n",
        "    # Download UD Latvian splits, filter by mBERT token count, and save plain .txt files.\n",
        "    dev_texts = fetch_ud_texts('dev')\n",
        "    train_texts = fetch_ud_texts('train')\n",
        "\n",
        "    if max_chars:\n",
        "        # Filter out long sentences to avoid truncation\n",
        "        print('Sentence lengths before filtering:', 'DEV', len(dev_texts), 'TRAIN', len(train_texts))\n",
        "        dev_texts = [t for t in dev_texts if len(t) <= max_chars]\n",
        "        train_texts = [t for t in train_texts if len(t) <= max_chars]\n",
        "    print('Dataset sentence lengths:', 'DEV', len(dev_texts), 'TRAIN', len(train_texts))\n",
        "\n",
        "    with open(dev_txt, 'w') as f:\n",
        "        for t in dev_texts: f.write(t + '\\n')\n",
        "    with open(train_txt, 'w') as f:\n",
        "        for t in train_texts: f.write(t + '\\n')\n",
        "\n",
        "    return dev_texts, train_texts\n",
        "\n",
        "dev_texts, train_texts = prepare_data()\n",
        "print(*train_texts[:5], sep='\\n')"
      ]
    },
    {
      "cell_type": "markdown",
      "id": "c18df7d8",
      "metadata": {
        "id": "c18df7d8"
      },
      "source": [
        "# Tokenization"
      ]
    },
    {
      "cell_type": "code",
      "execution_count": null,
      "id": "b87d7f30",
      "metadata": {
        "id": "b87d7f30"
      },
      "outputs": [],
      "source": [
        "def tokenize(s):\n",
        "    # Tokenizes string into words and punctuation tokens.\n",
        "    return re.findall(r'\\s*(?:\\w+|\\S)', s)\n",
        "\n",
        "def tokenize_with_comma_labels(s):\n",
        "    tokens_with_labels = re.findall(r'(\\s*\\w+|[^\\s,])\\s*(,+)?', s)\n",
        "    tokens_with_labels = [(tok, 'COMMA' if comma else 'O') for tok, comma in tokens_with_labels]\n",
        "    return tokens_with_labels\n",
        "\n",
        "def remove_commas(s) -> str:\n",
        "    return re.sub(r'\\s*,+\\s*', ' ', s)"
      ]
    },
    {
      "cell_type": "code",
      "execution_count": null,
      "id": "a5f2d561",
      "metadata": {
        "colab": {
          "base_uri": "https://localhost:8080/",
          "height": 576,
          "referenced_widgets": [
            "2e61c95926764b22ac0310279c6dd93b",
            "6b6c6ac69c7f463eb20a457373084820",
            "c188f993977d449ba50cedd61ec12aa6",
            "75ff9ee2696d444cb7768c11877f640d",
            "7fa6df875aa64360b76ae190716db3b2",
            "f80f00282fde41cb8f304abc0984bcf8",
            "72be9764a52c4c8fada22dc15fe8debf",
            "787743250e794eaca9be0eda4f5bafae",
            "d3fa55fc35084a28b4d2566c26ede291",
            "efbc5c23fde5448c8dec98a04f38bb42",
            "915d8bc08d4b4a688aef54e6e9ea78ff",
            "29944dfc50a34c19878da5ba8bd76161",
            "3e3a7826ee20430d87b2d0e94b9a2ff0",
            "eb8d4975bd7f4b808843f97d59f1a1a3",
            "1105068abf124d0889aaf9fc597c4d03",
            "6bff8d03b5af4dfdb7d642b25b1e848d",
            "412184e879374969b111b14ba29603ca",
            "740bacaa3c3c439fa581d8f05874245a",
            "bc77aa4f661943c8bf0f9f2b00ae2379",
            "c1c2634782e14284a50ea341495a2977",
            "d3b708f40333472cbcb051705430cd1d",
            "beabb1c8fafa45a49092ebdcc71c1da4",
            "59325efac4d94fa19006a69d405063ae",
            "72005faacb06496bbc3b80b7beba044c",
            "e19c2fa96c6a4e4a93945f2c90e5cfeb",
            "5eae2b514eb34faca52c05727a048a3e",
            "335694d569f84061822617835cf5e93f",
            "05d1b975457342aca6081961a24f81cd",
            "19a2b126daf44e058d6420181fe8362d",
            "76160299faba49f1afd74424928ec4d6",
            "698d76a107b342799cb30f22d6fdb7b8",
            "9193125bc7ed4fd18142f652865a8cd6",
            "7e5024ce1e8448af937cb10f2351fa83",
            "a37fa5deb5034c8aa91c194dc335c0d1",
            "e0acc9dd85094844bdcfd8abdf66709c",
            "d6410a20b5a9417ca954283e0ab40412",
            "a5963baf15974c8b975d59e8bcf2ea2f",
            "ab2b47da070e4548aaa5b8bfe205074f",
            "a570e35da8a445c0b0cb87312ca1d4ed",
            "6dbc466ecce947aeb0f848a75a79ea3d",
            "8436e872558b46d9a1a9dc1a8816cc58",
            "784205034093451dbca35bf8635dd39e",
            "c7b2ae0016c8475b94a1ab8a44aaa789",
            "15900992bbf7498c85f6a5e229228975",
            "c9854cb977214200b81b5522c85dfbf6",
            "6afb5f5f88a94920a135cb1358f384da",
            "56c0e64fe1e94761837149787dba2dcd",
            "662f6edf659d4d0d83d6604ba3dcd59d",
            "876abdb51a9e4d2f8861ac83e5c6e96d",
            "ede3e4ba65db486cae0ca42d39bf2e51",
            "0a40b68856004aef805a954594105197",
            "4c3b9edbb2664db589e05899047829c7",
            "ed0250427406405e985d402c4af8cbd5",
            "18f836fe59ee44d1b2d9105839294f5f",
            "eb4ce818f92d4410afcbf1bb024dcd17",
            "7f092c02364742229f44b2e2ae81d428",
            "298b20008b8d44d183275dfc21728ea2",
            "4e88720115a045f1904d7a82e38240ba",
            "b0283b79c192466d8a3f82a88d217110",
            "a9da292937744c15b37507606e0eb8b4",
            "90b6d720435645878d3a72d32ffbe0a2",
            "9bceb59e459c4d989af2f6837e6a5b63",
            "112b95f5898a48b48c5da001b70e7056",
            "c8c5ee79a60e47e0b25ea5e3bd2fec9a",
            "ac23949656d245af85345dcb9b1194f8",
            "e67dc953c4cf4e7c95d0cbff4d8c252e"
          ]
        },
        "id": "a5f2d561",
        "outputId": "d4620f30-841c-41a1-be18-e7db1681823d"
      },
      "outputs": [
        {
          "output_type": "stream",
          "name": "stdout",
          "text": [
            "Tokenizer stats AiLab-IMCS-UL/lvbert\n"
          ]
        },
        {
          "output_type": "stream",
          "name": "stderr",
          "text": [
            "/usr/local/lib/python3.12/dist-packages/huggingface_hub/utils/_auth.py:94: UserWarning: \n",
            "The secret `HF_TOKEN` does not exist in your Colab secrets.\n",
            "To authenticate with the Hugging Face Hub, create a token in your settings tab (https://huggingface.co/settings/tokens), set it as secret in your Google Colab and restart your session.\n",
            "You will be able to reuse this secret in all of your notebooks.\n",
            "Please note that authentication is recommended but still optional to access public models or datasets.\n",
            "  warnings.warn(\n"
          ]
        },
        {
          "output_type": "display_data",
          "data": {
            "text/plain": [
              "tokenizer_config.json:   0%|          | 0.00/390 [00:00<?, ?B/s]"
            ],
            "application/vnd.jupyter.widget-view+json": {
              "version_major": 2,
              "version_minor": 0,
              "model_id": "2e61c95926764b22ac0310279c6dd93b"
            }
          },
          "metadata": {}
        },
        {
          "output_type": "display_data",
          "data": {
            "text/plain": [
              "vocab.txt: 0.00B [00:00, ?B/s]"
            ],
            "application/vnd.jupyter.widget-view+json": {
              "version_major": 2,
              "version_minor": 0,
              "model_id": "29944dfc50a34c19878da5ba8bd76161"
            }
          },
          "metadata": {}
        },
        {
          "output_type": "display_data",
          "data": {
            "text/plain": [
              "special_tokens_map.json:   0%|          | 0.00/112 [00:00<?, ?B/s]"
            ],
            "application/vnd.jupyter.widget-view+json": {
              "version_major": 2,
              "version_minor": 0,
              "model_id": "59325efac4d94fa19006a69d405063ae"
            }
          },
          "metadata": {}
        },
        {
          "output_type": "stream",
          "name": "stdout",
          "text": [
            "Encoded sample: {'input_ids': [2, 574, 684, 70, 417, 5, 16, 35, 29811, 24, 4622, 5, 27, 168, 5, 146, 70, 6862, 4850, 6, 3], 'token_type_ids': [0, 0, 0, 0, 0, 0, 0, 0, 0, 0, 0, 0, 0, 0, 0, 0, 0, 0, 0, 0, 0], 'attention_mask': [1, 1, 1, 1, 1, 1, 1, 1, 1, 1, 1, 1, 1, 1, 1, 1, 1, 1, 1, 1, 1]}\n",
            "Encoded sample - subword units: ['[CLS]', 'Vēl', '9', '%', 'sacīja', ',', 'ka', 'nav', 'izlēmuši', 'kā', 'balsot', ',', 'bet', '3', ',', '2', '%', 'atteicās', 'atbildēt', '.', '[SEP]']\n",
            "Max 65, min 3, avg 21.21772500181015\n",
            "95% length: 40\n",
            "99% length: 48\n",
            "99.9% length: 56\n",
            "Tokenizer stats jhu-clsp/mmBERT-small\n"
          ]
        },
        {
          "output_type": "display_data",
          "data": {
            "text/plain": [
              "tokenizer_config.json: 0.00B [00:00, ?B/s]"
            ],
            "application/vnd.jupyter.widget-view+json": {
              "version_major": 2,
              "version_minor": 0,
              "model_id": "a37fa5deb5034c8aa91c194dc335c0d1"
            }
          },
          "metadata": {}
        },
        {
          "output_type": "display_data",
          "data": {
            "text/plain": [
              "tokenizer.json:   0%|          | 0.00/17.5M [00:00<?, ?B/s]"
            ],
            "application/vnd.jupyter.widget-view+json": {
              "version_major": 2,
              "version_minor": 0,
              "model_id": "c9854cb977214200b81b5522c85dfbf6"
            }
          },
          "metadata": {}
        },
        {
          "output_type": "display_data",
          "data": {
            "text/plain": [
              "special_tokens_map.json:   0%|          | 0.00/636 [00:00<?, ?B/s]"
            ],
            "application/vnd.jupyter.widget-view+json": {
              "version_major": 2,
              "version_minor": 0,
              "model_id": "7f092c02364742229f44b2e2ae81d428"
            }
          },
          "metadata": {}
        },
        {
          "output_type": "stream",
          "name": "stdout",
          "text": [
            "Encoded sample: {'input_ids': [2, 744, 229673, 235248, 235315, 235358, 6817, 236073, 1663, 235269, 5675, 5103, 9417, 135924, 2704, 27536, 52635, 70402, 562, 235269, 1285, 235248, 235304, 235269, 235284, 235358, 41643, 520, 28688, 696, 137369, 235265, 1], 'attention_mask': [1, 1, 1, 1, 1, 1, 1, 1, 1, 1, 1, 1, 1, 1, 1, 1, 1, 1, 1, 1, 1, 1, 1, 1, 1, 1, 1, 1, 1, 1, 1, 1, 1]}\n",
            "Encoded sample - subword units: ['<bos>', '▁V', 'ēl', '▁', '9', '%', '▁sac', 'ī', 'ja', ',', '▁ka', '▁nav', '▁iz', 'lē', 'mu', 'ši', '▁kā', '▁bals', 'ot', ',', '▁bet', '▁', '3', ',', '2', '%', '▁atte', 'ic', 'ās', '▁at', 'bildēt', '.', '<eos>']\n",
            "Max 90, min 3, avg 33.86677286221128\n",
            "95% length: 66\n",
            "99% length: 74\n",
            "99.9% length: 82\n"
          ]
        }
      ],
      "source": [
        "def test_tokenization(model=None):\n",
        "    s = 'Vēl 9% sacīja, ka nav izlēmuši kā balsot, bet 3,2% atteicās atbildēt.'\n",
        "    if model:\n",
        "        print('Tokenizer stats', model)\n",
        "        t = AutoTokenizer.from_pretrained(model)\n",
        "        print('Encoded sample:', t(s))\n",
        "        print('Encoded sample - subword units:', t.convert_ids_to_tokens(t.encode(s)))\n",
        "        lengths = sorted([len(t.encode(seq)) for seq in train_texts])\n",
        "        print(f'Max {max(lengths)}, min {min(lengths)}, avg {sum(lengths)/len(lengths)}')\n",
        "        print(f'95% length: {lengths[int(len(lengths) * 0.95)]}')\n",
        "        print(f'99% length: {lengths[int(len(lengths) * 0.99)]}')\n",
        "        print(f'99.9% length: {lengths[int(len(lengths) * 0.999)]}')\n",
        "\n",
        "test_tokenization('AiLab-IMCS-UL/lvbert')\n",
        "test_tokenization('jhu-clsp/mmBERT-small')\n",
        "\n",
        "\n",
        "LABELS = ['O', 'COMMA']\n",
        "LABEL2ID = {name: i for i, name in enumerate(LABELS)}\n",
        "ID2LABEL = {i: name for i, name in enumerate(LABELS)}"
      ]
    },
    {
      "cell_type": "code",
      "execution_count": null,
      "id": "e61dbedb",
      "metadata": {
        "colab": {
          "base_uri": "https://localhost:8080/"
        },
        "id": "e61dbedb",
        "outputId": "7a3c7eb0-4ebb-4b57-a5ce-651ad6d66231"
      },
      "outputs": [
        {
          "output_type": "stream",
          "name": "stdout",
          "text": [
            "WORDS:          ('Viens', ' divi', '.')\n",
            "WORD_LABELS:    ('COMMA', 'O', 'O')\n",
            "WORD_IDS:       [None, 0, 1, 2, None]\n",
            "TOKEN_IDS:      [2, 1394, 516, 6, 3]\n",
            "TOKENS:         ['[CLS]', 'Viens', 'divi', '.', '[SEP]']\n",
            "ALIGNED_LABELS: [-100, 1, 0, 0, -100]\n",
            "{'input_ids': [2, 1394, 516, 6, 3], 'attention_mask': [1, 1, 1, 1, 1], 'labels': [-100, 1, 0, 0, -100]}\n"
          ]
        }
      ],
      "source": [
        "# Tokenize text into subwords and align word-level labels to the correct subword positions\n",
        "\n",
        "def tokenize_and_align_labels(tokenizer, words, word_labels=None, label2id=None, debug=False, return_tensors=None):\n",
        "    # Tokenize with word boundaries preserved\n",
        "    enc = tokenizer(\n",
        "        list(words),\n",
        "        is_split_into_words=True,\n",
        "        add_special_tokens=True,\n",
        "        return_tensors=return_tensors,\n",
        "        truncation=False\n",
        "    )\n",
        "\n",
        "    # Map each token back to its source word index\n",
        "    word_ids = enc.word_ids()  # one per token position (None for specials)\n",
        "\n",
        "    # Figure out which token is the last subword of each word. Assign word labels only there; others get -100.\n",
        "    # HF Trainer and loss functions (like cross-entropy) automatically ignore -100, so you don't need to modify loss computation.\n",
        "    if word_labels is not None:\n",
        "        IGNORE = -100\n",
        "        labels = [IGNORE] * len(word_ids)\n",
        "        for i, wid in enumerate(word_ids):\n",
        "            if wid is None:\n",
        "                continue\n",
        "            next_wid = word_ids[i+1] if i+1 < len(word_ids) else None\n",
        "            if wid != next_wid:\n",
        "                # last subword of this word: assign the word label\n",
        "                labels[i] = label2id[word_labels[wid]]\n",
        "    else:\n",
        "        labels = None\n",
        "\n",
        "    if debug:\n",
        "        input_ids = enc['input_ids']\n",
        "        if return_tensors == 'pt':\n",
        "            input_ids = input_ids.tolist()[0]\n",
        "        print('WORDS:         ', words)\n",
        "        print('WORD_LABELS:   ', word_labels)\n",
        "        print('WORD_IDS:      ', word_ids)\n",
        "        print('TOKEN_IDS:     ', input_ids)\n",
        "        print('TOKENS:        ', tokenizer.convert_ids_to_tokens(input_ids))\n",
        "        print('ALIGNED_LABELS:', labels)\n",
        "\n",
        "    r = {\n",
        "        'input_ids': enc['input_ids'],\n",
        "        'attention_mask': enc['attention_mask'],\n",
        "    }\n",
        "    if labels is not None:\n",
        "        if return_tensors == 'pt':\n",
        "            labels = torch.tensor([labels], dtype=torch.long)\n",
        "        r['labels'] = labels\n",
        "    return r\n",
        "\n",
        "print(tokenize_and_align_labels(AutoTokenizer.from_pretrained('AiLab-IMCS-UL/lvbert'), *zip(*tokenize_with_comma_labels('Viens, divi.')), LABEL2ID, debug=True))"
      ]
    },
    {
      "cell_type": "code",
      "execution_count": null,
      "id": "8331cd5f",
      "metadata": {
        "id": "8331cd5f"
      },
      "outputs": [],
      "source": [
        "# # Tokenize and format dataset for model training and evaluation"
      ]
    },
    {
      "cell_type": "code",
      "execution_count": null,
      "id": "4bd737c4",
      "metadata": {
        "colab": {
          "base_uri": "https://localhost:8080/",
          "height": 348,
          "referenced_widgets": [
            "42e6b889116b42728ec1ac156ca72d09",
            "7496e3672536432b9aebef9d13921b60",
            "ab9be0e1184241859df6bc969e18186d",
            "f5e5afc7c28d47eb89970b5a7ca2fd7a",
            "861f4a92742847ad93c6f9d09950a53b",
            "15987313b2954cc692033bf21cf09c28",
            "14f3c375267b40c7a2526d512630711a",
            "57b68a977eab401e9bcb7a6f6af1454c",
            "7df877f00b8a407a95229b7c3f296914",
            "f8cbccb8dbe140c29f8a89fd9ef6d527",
            "ccdfcba6483f4b98ada62f2db95b6862",
            "4ebd41acd3b6463b8f326cb7fc8c2624",
            "0da719c1451a4c64b028a1c55c2dd9c3",
            "ed9e4326fb6c4ee6bdd09a3d55829ac7",
            "93ff73d2487446519603d47a676cc683",
            "bbafa4c7a95f496f8b6f86b362fa120e",
            "61ddd4da2b56476cabf166ec79749c1c",
            "27785bbec3864f75872767d60cbcd747",
            "02d038aab9884de3a0e4964611d73254",
            "678ba37aee0043e1b6f90ca76e50e1e5",
            "b161fc8e4c66436592b33f2716a5e2b7",
            "f5c06698c6394473b56ab2090319a61b",
            "d989724e1df24078a4dbd8833caf0457",
            "1fda7345aac543cd96b3058ab1052389",
            "9b1b91784b3a406c93aee6f5010dcff1",
            "4da8e7db549c4f748abf0ded2b045de9",
            "1644eabd3a5a4d4dafa7c8220b488bee",
            "327dfdb31a0749528c75853731bdccba",
            "6c61a824bcce42efa605442874f8695e",
            "aea8fbb927a0489da9f77148977c0307",
            "741841ac75b84b51861cfef1e32c6428",
            "0866487f41fb47769f57e01f9d025dc8",
            "b9b2666427c84849b5b9bef5b041a106",
            "43b83804bc5745e99f66144cf2371637",
            "56667cd02cf84c8790338108dde47211",
            "11da57a8f994496fa11e1155f20d5196",
            "e734aa7b25394392b3880531023589c7",
            "5575d474554048649045925a7d5e9f81",
            "a0654e85d8a146eab8dfc44e6811dc7f",
            "c611fe3bc95d452ea5b243330aea313c",
            "cd5f94046557481aa37908e581bb24a0",
            "95767fbf6f024531856a3b2a5acdb78f",
            "529cc3c1ec804d1ca5028663170c696d",
            "6b5bc9d68ff540c9bce6d11e20673d58",
            "a3026e3cd46a431ba91eacac151df94d",
            "76927e768b024c04848c7e7d742981fc",
            "8bf21c0d377c4ed5ba19512933df1b62",
            "11d96c7869c341c9aacbb58bdb7fc102",
            "72864100ab3b46c3a02d7ed53e75b94c",
            "a8387302329b4a4a99cafd4713e9426b",
            "b695606d43f2446080f026874887ba36",
            "150af416c11148469631f095a91610b1",
            "4142d0e5612d498cadbcb032ade507d0",
            "ddc971615c90439597ec00c4caa41eb8",
            "1882d58ffcdf4ae1b958954bb14d91eb",
            "8089756e9a734af2aa94a5d3d7a3f0f8",
            "a0bae5cc28204ae9a2463d9cc206653a",
            "06f5f3def98f41c08dc7326afcd58af8",
            "9e9a34adf7364952b4cb2f7eff9d2c2a",
            "0aac124702d54fab8d1c5ce21ec21643",
            "0d30071f4ceb46d9851fe2b745e1c89b",
            "3f211ccc3e5242ad9f5d065147808745",
            "46c73ec7fb4245b9bd4db3180c483f50",
            "fa9853f824f1453a87ec7679ff8f4c9b",
            "94d94d378ad0449a93108ba74fe23b77",
            "9c6ede31ed2c44979f62f1bfecc5f67e"
          ]
        },
        "id": "4bd737c4",
        "outputId": "f2fd3a27-fe6c-46e2-df9a-614175b095dd"
      },
      "outputs": [
        {
          "output_type": "display_data",
          "data": {
            "text/plain": [
              "Generating train split: 0 examples [00:00, ? examples/s]"
            ],
            "application/vnd.jupyter.widget-view+json": {
              "version_major": 2,
              "version_minor": 0,
              "model_id": "42e6b889116b42728ec1ac156ca72d09"
            }
          },
          "metadata": {}
        },
        {
          "output_type": "display_data",
          "data": {
            "text/plain": [
              "Generating dev split: 0 examples [00:00, ? examples/s]"
            ],
            "application/vnd.jupyter.widget-view+json": {
              "version_major": 2,
              "version_minor": 0,
              "model_id": "4ebd41acd3b6463b8f326cb7fc8c2624"
            }
          },
          "metadata": {}
        },
        {
          "output_type": "display_data",
          "data": {
            "text/plain": [
              "Map:   0%|          | 0/2 [00:00<?, ? examples/s]"
            ],
            "application/vnd.jupyter.widget-view+json": {
              "version_major": 2,
              "version_minor": 0,
              "model_id": "d989724e1df24078a4dbd8833caf0457"
            }
          },
          "metadata": {}
        },
        {
          "output_type": "display_data",
          "data": {
            "text/plain": [
              "Map:   0%|          | 0/2 [00:00<?, ? examples/s]"
            ],
            "application/vnd.jupyter.widget-view+json": {
              "version_major": 2,
              "version_minor": 0,
              "model_id": "43b83804bc5745e99f66144cf2371637"
            }
          },
          "metadata": {}
        },
        {
          "output_type": "display_data",
          "data": {
            "text/plain": [
              "Filter:   0%|          | 0/2 [00:00<?, ? examples/s]"
            ],
            "application/vnd.jupyter.widget-view+json": {
              "version_major": 2,
              "version_minor": 0,
              "model_id": "a3026e3cd46a431ba91eacac151df94d"
            }
          },
          "metadata": {}
        },
        {
          "output_type": "display_data",
          "data": {
            "text/plain": [
              "Filter:   0%|          | 0/2 [00:00<?, ? examples/s]"
            ],
            "application/vnd.jupyter.widget-view+json": {
              "version_major": 2,
              "version_minor": 0,
              "model_id": "8089756e9a734af2aa94a5d3d7a3f0f8"
            }
          },
          "metadata": {}
        },
        {
          "output_type": "stream",
          "name": "stdout",
          "text": [
            "{'input_ids': tensor([[    2,   317,   277,   100, 26927,    38,   134,  1516,  7068,     6,\n",
            "             3,     0,     0,     0,     0],\n",
            "        [    2,  1105,    41,  1464,    61,    55,  8697, 10471,    12,     8,\n",
            "          1984,  1209,  4887,     6,     3]]), 'attention_mask': tensor([[1, 1, 1, 1, 1, 1, 1, 1, 1, 1, 1, 0, 0, 0, 0],\n",
            "        [1, 1, 1, 1, 1, 1, 1, 1, 1, 1, 1, 1, 1, 1, 1]]), 'labels': tensor([[-100,    0,    0,    0,    0,    0,    0,    0,    0,    0, -100, -100,\n",
            "         -100, -100, -100],\n",
            "        [-100,    0, -100, -100,    0,    0,    0, -100,    0,    0, -100, -100,\n",
            "            0,    0, -100]])}\n"
          ]
        }
      ],
      "source": [
        "def build_dataset(*, tokenizer, train_file='train.txt', dev_file='dev.txt', train_samples=None, dev_samples=None, max_length=100, label2id=None):\n",
        "    ds = load_dataset('text', data_files={'train': train_file, 'dev': dev_file})\n",
        "    if train_samples:\n",
        "        ds['train'] = ds['train'].take(train_samples)\n",
        "    if dev_samples:\n",
        "        ds['dev'] = ds['dev'].take(dev_samples)\n",
        "\n",
        "    def _map(example):\n",
        "        words, word_labels = zip(*tokenize_with_comma_labels(example['text']))\n",
        "        return tokenize_and_align_labels(tokenizer, words=words, word_labels=word_labels, label2id=label2id)\n",
        "\n",
        "    ds_tokenized = ds.map(_map, remove_columns=ds['train'].column_names)\n",
        "\n",
        "    if max_length is not None:\n",
        "        ds_tokenized = ds_tokenized.filter(lambda ex: len(ex['input_ids']) <= max_length)\n",
        "\n",
        "    return ds_tokenized\n",
        "\n",
        "tok = AutoTokenizer.from_pretrained('AiLab-IMCS-UL/lvbert')\n",
        "ds = build_dataset(tokenizer=tok, train_samples=2, dev_samples=2, label2id=LABEL2ID)\n",
        "loader = DataLoader(ds['train'], batch_size=2, shuffle=False, collate_fn=DataCollatorForTokenClassification(tok))\n",
        "batch = next(iter(loader))\n",
        "print(batch)"
      ]
    },
    {
      "cell_type": "markdown",
      "id": "9f0e1fe7",
      "metadata": {
        "id": "9f0e1fe7"
      },
      "source": [
        "# Metrics for token classification.\n",
        "*Accuracy* can be misleading for imbalanced tasks:\n",
        "  - In our data, most tokens are \"O\" (no comma).\n",
        "  - A dumb model that always predicts \"O\" could reach very high accuracy (e.g. 95%+) simply by never predicting commas at all.\n",
        "\n",
        "*F1-score* (the harmonic mean of precision and recall) specifically for the COMMA class gives a more honest view of model quality:\n",
        "  - Precision: when the model predicts COMMA, is it right?\n",
        "  - Recall: does the model catch most of the true commas?\n",
        "  - F1: balances both, penalizing if one is much lower."
      ]
    },
    {
      "cell_type": "code",
      "execution_count": null,
      "id": "baa2fe37",
      "metadata": {
        "id": "baa2fe37"
      },
      "outputs": [],
      "source": [
        "def compute_metrics_fn(p):\n",
        "    # Model outputs: shape [batch_size, seq_len, num_labels]\n",
        "    # -> pick the most likely label for each token\n",
        "    preds = np.argmax(p.predictions, axis=-1)\n",
        "\n",
        "    # True labels: shape [batch_size, seq_len]\n",
        "    labels = p.label_ids\n",
        "\n",
        "    # Flatten but skip positions marked with -100\n",
        "    y_ref = []\n",
        "    y_pred = []\n",
        "    for ref_seq, pred_seq in zip(labels, preds):\n",
        "        for t, p_ in zip(ref_seq, pred_seq):\n",
        "            if t == -100:\n",
        "                continue\n",
        "            y_ref.append(t)\n",
        "            y_pred.append(p_)\n",
        "\n",
        "    precision, recall, f1, _ = precision_recall_fscore_support(\n",
        "        y_ref, y_pred,\n",
        "        average='binary', pos_label=1, # for binary classification (COMMA vs O)\n",
        "        # average='micro', # for multi-class classification\n",
        "    )\n",
        "    acc = accuracy_score(y_ref, y_pred)\n",
        "    return {\n",
        "        'f1': f1,\n",
        "        'p': precision,\n",
        "        'r': recall,\n",
        "        'acc': acc,\n",
        "    }"
      ]
    },
    {
      "cell_type": "markdown",
      "id": "5ee51e8a",
      "metadata": {
        "id": "5ee51e8a"
      },
      "source": [
        "# Inference\n",
        "Given plain text, we strip commas, tokenize with word boundaries, run the model, and insert commas after tokens labeled COMMA."
      ]
    },
    {
      "cell_type": "code",
      "execution_count": null,
      "id": "8013c61a",
      "metadata": {
        "id": "8013c61a"
      },
      "outputs": [],
      "source": [
        "def process_text(text, model, tokenizer, verbose=True):\n",
        "    #  Preprocess: remove commas, split into words\n",
        "    input_text = remove_commas(text)\n",
        "\n",
        "    # Tokenize with subword alignment\n",
        "    words = tokenize(input_text)\n",
        "    enc = tokenizer(\n",
        "        words,\n",
        "        is_split_into_words=True,\n",
        "        add_special_tokens=True,\n",
        "        return_tensors='pt',\n",
        "        truncation=False\n",
        "    )\n",
        "    word_ids = enc.word_ids()\n",
        "    # Move to the same device\n",
        "    device = next(model.parameters()).device\n",
        "    enc = {k: v.to(device) for k, v in enc.items()}\n",
        "\n",
        "    # Forward pass\n",
        "    model.eval()\n",
        "    with torch.no_grad():\n",
        "        logits = model(**enc).logits  # [1, seq_len, label_count]\n",
        "        pred_ids = torch.argmax(logits, dim=-1).squeeze(0).tolist()\n",
        "\n",
        "    # Collapse subwords -> last subword gets the label\n",
        "    word_preds = {}\n",
        "    for i, wid in enumerate(word_ids):\n",
        "        if wid is None:  # skip [CLS], [SEP], etc.\n",
        "            continue\n",
        "        next_wid = word_ids[i + 1] if i + 1 < len(word_ids) else None\n",
        "        if wid != next_wid:  # last subword of the word\n",
        "            word_preds[wid] = pred_ids[i]\n",
        "\n",
        "    # Return word-level predictions\n",
        "    results = [(w, model.config.id2label[word_preds[i]]) for i, w in enumerate(words)]\n",
        "    output_text = ''.join([w + (',' if label == 'COMMA' else '') for w, label in results])\n",
        "\n",
        "    if verbose:\n",
        "        print(f'REF: {text}')\n",
        "        print(f' IN: {input_text}')\n",
        "        print(f'OUT: {output_text}')\n",
        "    return output_text"
      ]
    },
    {
      "cell_type": "markdown",
      "id": "8add874a",
      "metadata": {
        "id": "8add874a"
      },
      "source": [
        "# Model fine-tuning\n",
        "- Track loss curves, gradient norms, and evaluation metrics over time\n",
        "- Use an appropriate optimizer and learning rate schedule (e.g., warmup + decay)\n",
        "- Watch for overfitting (gap between train and eval performance)\n",
        "- Adjust batch size, accumulation steps, or precision (fp16/bf16) if needed\n",
        "- Save best checkpoints based on validation metric (e.g., F1)"
      ]
    },
    {
      "cell_type": "code",
      "execution_count": null,
      "id": "dcb5e6f8",
      "metadata": {
        "id": "dcb5e6f8",
        "lines_to_next_cell": 1
      },
      "outputs": [],
      "source": [
        "def main(\n",
        "    name,\n",
        "    base_model='AiLab-IMCS-UL/lvbert',\n",
        "    max_len=100,\n",
        "    seed=42,\n",
        "    verbose=True,\n",
        "    lr=5e-6,\n",
        "    bs=32,\n",
        "    train_samples=None,\n",
        "    dev_samples=None,\n",
        "    epochs=3,\n",
        "    report_wandb=True,\n",
        "    wandb_group=None,\n",
        "    save=True,\n",
        "):\n",
        "    with wandb.init(project='punctuator', group=wandb_group, name=name) if report_wandb else nullcontext():\n",
        "        print('Train:', locals())\n",
        "        set_seed(seed)\n",
        "        tokenizer = AutoTokenizer.from_pretrained(base_model)\n",
        "\n",
        "        ds = build_dataset(tokenizer=tokenizer, train_samples=train_samples, dev_samples=dev_samples, max_length=max_len, label2id=LABEL2ID)\n",
        "\n",
        "        # Initialize base model for token classification task\n",
        "        model = AutoModelForTokenClassification.from_pretrained(base_model, num_labels=len(LABELS), id2label=ID2LABEL, label2id=LABEL2ID)\n",
        "        model.config.use_cache = False\n",
        "\n",
        "        # Define training hyperparameters\n",
        "        training_args = TrainingArguments(\n",
        "            output_dir=name,\n",
        "            learning_rate=lr,\n",
        "            per_device_train_batch_size=bs,\n",
        "            per_device_eval_batch_size=bs,\n",
        "            num_train_epochs=epochs,\n",
        "            eval_strategy='epoch',\n",
        "            save_strategy='epoch' if save else 'no',\n",
        "            load_best_model_at_end=save,\n",
        "            metric_for_best_model='f1',\n",
        "            greater_is_better=True,\n",
        "            warmup_ratio=0.05,\n",
        "            gradient_accumulation_steps=1,\n",
        "            fp16=True,\n",
        "\n",
        "            logging_steps=20,\n",
        "            report_to='wandb',\n",
        "        )\n",
        "\n",
        "        trainer = Trainer(\n",
        "            model=model,\n",
        "            args=training_args,\n",
        "            train_dataset=ds['train'],\n",
        "            eval_dataset=ds['dev'],\n",
        "            processing_class=tokenizer,\n",
        "            data_collator=DataCollatorForTokenClassification(tokenizer=tokenizer),\n",
        "            compute_metrics=compute_metrics_fn,\n",
        "        )\n",
        "\n",
        "        # Actual training\n",
        "        trainer.train()\n",
        "        if save:\n",
        "            trainer.save_model(name)\n",
        "            tokenizer.save_pretrained(name)\n",
        "\n",
        "        process_text('Vēl 9% sacīja, ka nav izlēmuši kā balsot, bet 3,2% atteicās atbildēt.', trainer.model, tokenizer)"
      ]
    },
    {
      "cell_type": "code",
      "source": [
        "main('bert_punctuator_sample', train_samples=3000)"
      ],
      "metadata": {
        "colab": {
          "base_uri": "https://localhost:8080/",
          "height": 1000
        },
        "id": "W6a4_ozqlhu9",
        "outputId": "b81815ee-2482-4637-85e7-08afd8b6d50e"
      },
      "id": "W6a4_ozqlhu9",
      "execution_count": null,
      "outputs": [
        {
          "output_type": "display_data",
          "data": {
            "text/plain": [
              "<IPython.core.display.HTML object>"
            ],
            "text/html": [
              "creating run (0.0s)"
            ]
          },
          "metadata": {}
        },
        {
          "output_type": "display_data",
          "data": {
            "text/plain": [
              "<IPython.core.display.HTML object>"
            ],
            "text/html": [
              "Tracking run with wandb version 0.21.3"
            ]
          },
          "metadata": {}
        },
        {
          "output_type": "display_data",
          "data": {
            "text/plain": [
              "<IPython.core.display.HTML object>"
            ],
            "text/html": [
              "Run data is saved locally in <code>/content/wandb/run-20250918_120831-72bc7ave</code>"
            ]
          },
          "metadata": {}
        },
        {
          "output_type": "display_data",
          "data": {
            "text/plain": [
              "<IPython.core.display.HTML object>"
            ],
            "text/html": [
              "Syncing run <strong><a href='https://wandb.ai/artursz/punctuator/runs/72bc7ave' target=\"_blank\">bert_punctuator_sample</a></strong> to <a href='https://wandb.ai/artursz/punctuator' target=\"_blank\">Weights & Biases</a> (<a href='https://wandb.me/developer-guide' target=\"_blank\">docs</a>)<br>"
            ]
          },
          "metadata": {}
        },
        {
          "output_type": "display_data",
          "data": {
            "text/plain": [
              "<IPython.core.display.HTML object>"
            ],
            "text/html": [
              " View project at <a href='https://wandb.ai/artursz/punctuator' target=\"_blank\">https://wandb.ai/artursz/punctuator</a>"
            ]
          },
          "metadata": {}
        },
        {
          "output_type": "display_data",
          "data": {
            "text/plain": [
              "<IPython.core.display.HTML object>"
            ],
            "text/html": [
              " View run at <a href='https://wandb.ai/artursz/punctuator/runs/72bc7ave' target=\"_blank\">https://wandb.ai/artursz/punctuator/runs/72bc7ave</a>"
            ]
          },
          "metadata": {}
        },
        {
          "output_type": "stream",
          "name": "stdout",
          "text": [
            "Train: {'name': 'bert_punctuator_sample', 'base_model': 'AiLab-IMCS-UL/lvbert', 'max_len': 100, 'seed': 42, 'verbose': True, 'lr': 5e-06, 'bs': 32, 'train_samples': 3000, 'dev_samples': None, 'epochs': 3, 'report_wandb': True, 'wandb_group': None, 'save': True}\n"
          ]
        },
        {
          "output_type": "stream",
          "name": "stderr",
          "text": [
            "Some weights of BertForTokenClassification were not initialized from the model checkpoint at AiLab-IMCS-UL/lvbert and are newly initialized: ['classifier.bias', 'classifier.weight']\n",
            "You should probably TRAIN this model on a down-stream task to be able to use it for predictions and inference.\n"
          ]
        },
        {
          "output_type": "display_data",
          "data": {
            "text/plain": [
              "<IPython.core.display.HTML object>"
            ],
            "text/html": [
              "\n",
              "    <div>\n",
              "      \n",
              "      <progress value='282' max='282' style='width:300px; height:20px; vertical-align: middle;'></progress>\n",
              "      [282/282 01:47, Epoch 3/3]\n",
              "    </div>\n",
              "    <table border=\"1\" class=\"dataframe\">\n",
              "  <thead>\n",
              " <tr style=\"text-align: left;\">\n",
              "      <th>Epoch</th>\n",
              "      <th>Training Loss</th>\n",
              "      <th>Validation Loss</th>\n",
              "      <th>F1</th>\n",
              "      <th>P</th>\n",
              "      <th>R</th>\n",
              "      <th>Acc</th>\n",
              "    </tr>\n",
              "  </thead>\n",
              "  <tbody>\n",
              "    <tr>\n",
              "      <td>1</td>\n",
              "      <td>0.167100</td>\n",
              "      <td>0.131554</td>\n",
              "      <td>0.679846</td>\n",
              "      <td>0.890007</td>\n",
              "      <td>0.549978</td>\n",
              "      <td>0.953270</td>\n",
              "    </tr>\n",
              "    <tr>\n",
              "      <td>2</td>\n",
              "      <td>0.087700</td>\n",
              "      <td>0.095823</td>\n",
              "      <td>0.784766</td>\n",
              "      <td>0.900000</td>\n",
              "      <td>0.695691</td>\n",
              "      <td>0.965574</td>\n",
              "    </tr>\n",
              "    <tr>\n",
              "      <td>3</td>\n",
              "      <td>0.075400</td>\n",
              "      <td>0.089201</td>\n",
              "      <td>0.804215</td>\n",
              "      <td>0.896721</td>\n",
              "      <td>0.729009</td>\n",
              "      <td>0.967979</td>\n",
              "    </tr>\n",
              "  </tbody>\n",
              "</table><p>"
            ]
          },
          "metadata": {}
        },
        {
          "output_type": "stream",
          "name": "stdout",
          "text": [
            "REF: Vēl 9% sacīja, ka nav izlēmuši kā balsot, bet 3,2% atteicās atbildēt.\n",
            " IN: Vēl 9% sacīja ka nav izlēmuši kā balsot bet 3 2% atteicās atbildēt.\n",
            "OUT: Vēl 9% sacīja, ka nav izlēmuši, kā balsot, bet 3, 2% atteicās atbildēt.\n"
          ]
        },
        {
          "output_type": "display_data",
          "data": {
            "text/plain": [
              "<IPython.core.display.HTML object>"
            ],
            "text/html": []
          },
          "metadata": {}
        },
        {
          "output_type": "display_data",
          "data": {
            "text/plain": [
              "<IPython.core.display.HTML object>"
            ],
            "text/html": [
              "<br>    <style><br>        .wandb-row {<br>            display: flex;<br>            flex-direction: row;<br>            flex-wrap: wrap;<br>            justify-content: flex-start;<br>            width: 100%;<br>        }<br>        .wandb-col {<br>            display: flex;<br>            flex-direction: column;<br>            flex-basis: 100%;<br>            flex: 1;<br>            padding: 10px;<br>        }<br>    </style><br><div class=\"wandb-row\"><div class=\"wandb-col\"><h3>Run history:</h3><br/><table class=\"wandb\"><tr><td>eval/acc</td><td>▁▇█</td></tr><tr><td>eval/f1</td><td>▁▇█</td></tr><tr><td>eval/loss</td><td>█▂▁</td></tr><tr><td>eval/p</td><td>▁█▆</td></tr><tr><td>eval/r</td><td>▁▇█</td></tr><tr><td>eval/runtime</td><td>▂▁█</td></tr><tr><td>eval/samples_per_second</td><td>▇█▁</td></tr><tr><td>eval/steps_per_second</td><td>▇█▁</td></tr><tr><td>train/epoch</td><td>▁▂▂▃▃▃▄▄▅▅▅▆▆▇▇███</td></tr><tr><td>train/global_step</td><td>▁▂▂▃▃▃▄▄▅▅▅▆▆▇▇███</td></tr><tr><td>+3</td><td>...</td></tr></table><br/></div><div class=\"wandb-col\"><h3>Run summary:</h3><br/><table class=\"wandb\"><tr><td>eval/acc</td><td>0.96798</td></tr><tr><td>eval/f1</td><td>0.80421</td></tr><tr><td>eval/loss</td><td>0.0892</td></tr><tr><td>eval/p</td><td>0.89672</td></tr><tr><td>eval/r</td><td>0.72901</td></tr><tr><td>eval/runtime</td><td>1.4564</td></tr><tr><td>eval/samples_per_second</td><td>1312.792</td></tr><tr><td>eval/steps_per_second</td><td>41.196</td></tr><tr><td>total_flos</td><td>191873474680704.0</td></tr><tr><td>train/epoch</td><td>3</td></tr><tr><td>+8</td><td>...</td></tr></table><br/></div></div>"
            ]
          },
          "metadata": {}
        },
        {
          "output_type": "display_data",
          "data": {
            "text/plain": [
              "<IPython.core.display.HTML object>"
            ],
            "text/html": [
              " View run <strong style=\"color:#cdcd00\">bert_punctuator_sample</strong> at: <a href='https://wandb.ai/artursz/punctuator/runs/72bc7ave' target=\"_blank\">https://wandb.ai/artursz/punctuator/runs/72bc7ave</a><br> View project at: <a href='https://wandb.ai/artursz/punctuator' target=\"_blank\">https://wandb.ai/artursz/punctuator</a><br>Synced 5 W&B file(s), 0 media file(s), 0 artifact file(s) and 0 other file(s)"
            ]
          },
          "metadata": {}
        },
        {
          "output_type": "display_data",
          "data": {
            "text/plain": [
              "<IPython.core.display.HTML object>"
            ],
            "text/html": [
              "Find logs at: <code>./wandb/run-20250918_120831-72bc7ave/logs</code>"
            ]
          },
          "metadata": {}
        }
      ]
    },
    {
      "cell_type": "markdown",
      "id": "b0ad81c5",
      "metadata": {
        "id": "b0ad81c5"
      },
      "source": [
        "# Inference"
      ]
    },
    {
      "cell_type": "code",
      "execution_count": null,
      "id": "cd5b0ecb",
      "metadata": {
        "colab": {
          "base_uri": "https://localhost:8080/",
          "height": 140
        },
        "id": "cd5b0ecb",
        "outputId": "5e0b8765-d183-40a2-9463-76ac9206b690"
      },
      "outputs": [
        {
          "output_type": "stream",
          "name": "stdout",
          "text": [
            "REF: Vēl 9% sacīja, ka nav izlēmuši kā balsot, bet 3,2% atteicās atbildēt.\n",
            " IN: Vēl 9% sacīja ka nav izlēmuši kā balsot bet 3 2% atteicās atbildēt.\n",
            "OUT: Vēl 9% sacīja, ka nav izlēmuši, kā balsot, bet 3, 2% atteicās atbildēt.\n",
            "REF: Nogalināt nedrīkst, apžēlot!\n",
            " IN: Nogalināt nedrīkst apžēlot!\n",
            "OUT: Nogalināt nedrīkst apžēlot!\n"
          ]
        },
        {
          "output_type": "execute_result",
          "data": {
            "text/plain": [
              "'Nogalināt nedrīkst apžēlot!'"
            ],
            "application/vnd.google.colaboratory.intrinsic+json": {
              "type": "string"
            }
          },
          "metadata": {},
          "execution_count": 29
        }
      ],
      "source": [
        "m = AutoModelForTokenClassification.from_pretrained('bert_punctuator_sample')\n",
        "t = AutoTokenizer.from_pretrained('bert_punctuator_sample')\n",
        "process_text('Vēl 9% sacīja, ka nav izlēmuši kā balsot, bet 3,2% atteicās atbildēt.', m, t)\n",
        "process_text('Nogalināt nedrīkst, apžēlot!', m, t)"
      ]
    },
    {
      "cell_type": "markdown",
      "id": "1be43210",
      "metadata": {
        "id": "1be43210"
      },
      "source": [
        "# Hyperparameter optimization\n",
        "- Use smaller experiments (1 epoch, limited data) for faster iteration  \n",
        "- Try random or Bayesian search for hyperparameter tuning\n",
        "- Limit training/eval samples when testing setups  \n",
        "- Scale up once the pipeline works end-to-end"
      ]
    },
    {
      "cell_type": "code",
      "execution_count": null,
      "id": "8f158725",
      "metadata": {
        "lines_to_next_cell": 2,
        "id": "8f158725"
      },
      "outputs": [],
      "source": [
        "for lr in [1e-6, 3e-6, 1e-5, 3e-5, 1e-4, 3e-4, 1e-3, 3e-3]:\n",
        "    main(f'bert_sweep_lr{lr:.2e}', lr=lr, train_samples=3000, dev_samples=100, epochs=1, wandb_group='bert_sweep', save=False)"
      ]
    },
    {
      "cell_type": "code",
      "source": [],
      "metadata": {
        "id": "qMgBqhSLoU8V"
      },
      "id": "qMgBqhSLoU8V",
      "execution_count": null,
      "outputs": []
    }
  ],
  "metadata": {
    "jupytext": {
      "cell_metadata_filter": "colab,id,outputId,-all",
      "main_language": "python",
      "notebook_metadata_filter": "-all"
    },
    "colab": {
      "provenance": [],
      "gpuType": "T4"
    },
    "accelerator": "GPU",
    "language_info": {
      "name": "python"
    },
    "kernelspec": {
      "name": "python3",
      "display_name": "Python 3"
    }
  },
  "nbformat": 4,
  "nbformat_minor": 5
}