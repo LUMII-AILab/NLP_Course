{
  "cells": [
    {
      "cell_type": "markdown",
      "id": "01470473",
      "metadata": {
        "id": "01470473"
      },
      "source": [
        "# Comma Restoration with Encoder-Decoder Models (Seq2Seq)\n",
        "This notebook fine-tunes sequence-to-sequence transformers to restore commas by generating the punctuated sentence from an unpunctuated input. During training, commas are removed from the source text; the target is the original, correctly punctuated sentence. At inference, the model takes clean, comma-stripped text and outputs the version with commas inserted end-to-end—no token-level labels needed.\n",
        "\n",
        "Models to try:\n",
        "- https://huggingface.co/google/mt5-small\n",
        "- https://huggingface.co/google/byt5-small"
      ]
    },
    {
      "cell_type": "markdown",
      "id": "4c8dc197",
      "metadata": {
        "id": "4c8dc197"
      },
      "source": [
        "# Prepare environment"
      ]
    },
    {
      "cell_type": "code",
      "execution_count": 1,
      "id": "34b6fe0c",
      "metadata": {
        "colab": {
          "base_uri": "https://localhost:8080/"
        },
        "id": "34b6fe0c",
        "outputId": "ed4774af-0766-4291-eff6-7e1ae1cff891"
      },
      "outputs": [
        {
          "output_type": "stream",
          "name": "stdout",
          "text": [
            "Python 3.12.11\n",
            "pip 24.1.2 from /usr/local/lib/python3.12/dist-packages/pip (python 3.12)\n",
            "Requirement already satisfied: numpy in /usr/local/lib/python3.12/dist-packages (2.0.2)\n",
            "Requirement already satisfied: scikit-learn in /usr/local/lib/python3.12/dist-packages (1.6.1)\n",
            "Requirement already satisfied: datasets in /usr/local/lib/python3.12/dist-packages (4.0.0)\n",
            "Requirement already satisfied: torch in /usr/local/lib/python3.12/dist-packages (2.8.0+cu126)\n",
            "Requirement already satisfied: tiktoken in /usr/local/lib/python3.12/dist-packages (0.11.0)\n",
            "Requirement already satisfied: blobfile in /usr/local/lib/python3.12/dist-packages (3.1.0)\n",
            "Requirement already satisfied: protobuf in /usr/local/lib/python3.12/dist-packages (5.29.5)\n",
            "Requirement already satisfied: sentencepiece in /usr/local/lib/python3.12/dist-packages (0.2.1)\n",
            "Requirement already satisfied: wandb in /usr/local/lib/python3.12/dist-packages (0.21.3)\n",
            "Requirement already satisfied: transformers[torch] in /usr/local/lib/python3.12/dist-packages (4.56.1)\n",
            "Requirement already satisfied: filelock in /usr/local/lib/python3.12/dist-packages (from transformers[torch]) (3.19.1)\n",
            "Requirement already satisfied: huggingface-hub<1.0,>=0.34.0 in /usr/local/lib/python3.12/dist-packages (from transformers[torch]) (0.34.4)\n",
            "Requirement already satisfied: packaging>=20.0 in /usr/local/lib/python3.12/dist-packages (from transformers[torch]) (25.0)\n",
            "Requirement already satisfied: pyyaml>=5.1 in /usr/local/lib/python3.12/dist-packages (from transformers[torch]) (6.0.2)\n",
            "Requirement already satisfied: regex!=2019.12.17 in /usr/local/lib/python3.12/dist-packages (from transformers[torch]) (2024.11.6)\n",
            "Requirement already satisfied: requests in /usr/local/lib/python3.12/dist-packages (from transformers[torch]) (2.32.4)\n",
            "Requirement already satisfied: tokenizers<=0.23.0,>=0.22.0 in /usr/local/lib/python3.12/dist-packages (from transformers[torch]) (0.22.0)\n",
            "Requirement already satisfied: safetensors>=0.4.3 in /usr/local/lib/python3.12/dist-packages (from transformers[torch]) (0.6.2)\n",
            "Requirement already satisfied: tqdm>=4.27 in /usr/local/lib/python3.12/dist-packages (from transformers[torch]) (4.67.1)\n",
            "Requirement already satisfied: accelerate>=0.26.0 in /usr/local/lib/python3.12/dist-packages (from transformers[torch]) (1.10.1)\n",
            "Requirement already satisfied: scipy>=1.6.0 in /usr/local/lib/python3.12/dist-packages (from scikit-learn) (1.16.1)\n",
            "Requirement already satisfied: joblib>=1.2.0 in /usr/local/lib/python3.12/dist-packages (from scikit-learn) (1.5.2)\n",
            "Requirement already satisfied: threadpoolctl>=3.1.0 in /usr/local/lib/python3.12/dist-packages (from scikit-learn) (3.6.0)\n",
            "Requirement already satisfied: pyarrow>=15.0.0 in /usr/local/lib/python3.12/dist-packages (from datasets) (18.1.0)\n",
            "Requirement already satisfied: dill<0.3.9,>=0.3.0 in /usr/local/lib/python3.12/dist-packages (from datasets) (0.3.8)\n",
            "Requirement already satisfied: pandas in /usr/local/lib/python3.12/dist-packages (from datasets) (2.2.2)\n",
            "Requirement already satisfied: xxhash in /usr/local/lib/python3.12/dist-packages (from datasets) (3.5.0)\n",
            "Requirement already satisfied: multiprocess<0.70.17 in /usr/local/lib/python3.12/dist-packages (from datasets) (0.70.16)\n",
            "Requirement already satisfied: fsspec<=2025.3.0,>=2023.1.0 in /usr/local/lib/python3.12/dist-packages (from fsspec[http]<=2025.3.0,>=2023.1.0->datasets) (2025.3.0)\n",
            "Requirement already satisfied: typing-extensions>=4.10.0 in /usr/local/lib/python3.12/dist-packages (from torch) (4.15.0)\n",
            "Requirement already satisfied: setuptools in /usr/local/lib/python3.12/dist-packages (from torch) (75.2.0)\n",
            "Requirement already satisfied: sympy>=1.13.3 in /usr/local/lib/python3.12/dist-packages (from torch) (1.13.3)\n",
            "Requirement already satisfied: networkx in /usr/local/lib/python3.12/dist-packages (from torch) (3.5)\n",
            "Requirement already satisfied: jinja2 in /usr/local/lib/python3.12/dist-packages (from torch) (3.1.6)\n",
            "Requirement already satisfied: nvidia-cuda-nvrtc-cu12==12.6.77 in /usr/local/lib/python3.12/dist-packages (from torch) (12.6.77)\n",
            "Requirement already satisfied: nvidia-cuda-runtime-cu12==12.6.77 in /usr/local/lib/python3.12/dist-packages (from torch) (12.6.77)\n",
            "Requirement already satisfied: nvidia-cuda-cupti-cu12==12.6.80 in /usr/local/lib/python3.12/dist-packages (from torch) (12.6.80)\n",
            "Requirement already satisfied: nvidia-cudnn-cu12==9.10.2.21 in /usr/local/lib/python3.12/dist-packages (from torch) (9.10.2.21)\n",
            "Requirement already satisfied: nvidia-cublas-cu12==12.6.4.1 in /usr/local/lib/python3.12/dist-packages (from torch) (12.6.4.1)\n",
            "Requirement already satisfied: nvidia-cufft-cu12==11.3.0.4 in /usr/local/lib/python3.12/dist-packages (from torch) (11.3.0.4)\n",
            "Requirement already satisfied: nvidia-curand-cu12==10.3.7.77 in /usr/local/lib/python3.12/dist-packages (from torch) (10.3.7.77)\n",
            "Requirement already satisfied: nvidia-cusolver-cu12==11.7.1.2 in /usr/local/lib/python3.12/dist-packages (from torch) (11.7.1.2)\n",
            "Requirement already satisfied: nvidia-cusparse-cu12==12.5.4.2 in /usr/local/lib/python3.12/dist-packages (from torch) (12.5.4.2)\n",
            "Requirement already satisfied: nvidia-cusparselt-cu12==0.7.1 in /usr/local/lib/python3.12/dist-packages (from torch) (0.7.1)\n",
            "Requirement already satisfied: nvidia-nccl-cu12==2.27.3 in /usr/local/lib/python3.12/dist-packages (from torch) (2.27.3)\n",
            "Requirement already satisfied: nvidia-nvtx-cu12==12.6.77 in /usr/local/lib/python3.12/dist-packages (from torch) (12.6.77)\n",
            "Requirement already satisfied: nvidia-nvjitlink-cu12==12.6.85 in /usr/local/lib/python3.12/dist-packages (from torch) (12.6.85)\n",
            "Requirement already satisfied: nvidia-cufile-cu12==1.11.1.6 in /usr/local/lib/python3.12/dist-packages (from torch) (1.11.1.6)\n",
            "Requirement already satisfied: triton==3.4.0 in /usr/local/lib/python3.12/dist-packages (from torch) (3.4.0)\n",
            "Requirement already satisfied: pycryptodomex>=3.8 in /usr/local/lib/python3.12/dist-packages (from blobfile) (3.23.0)\n",
            "Requirement already satisfied: urllib3<3,>=1.25.3 in /usr/local/lib/python3.12/dist-packages (from blobfile) (2.5.0)\n",
            "Requirement already satisfied: lxml>=4.9 in /usr/local/lib/python3.12/dist-packages (from blobfile) (5.4.0)\n",
            "Requirement already satisfied: click>=8.0.1 in /usr/local/lib/python3.12/dist-packages (from wandb) (8.2.1)\n",
            "Requirement already satisfied: gitpython!=3.1.29,>=1.0.0 in /usr/local/lib/python3.12/dist-packages (from wandb) (3.1.45)\n",
            "Requirement already satisfied: platformdirs in /usr/local/lib/python3.12/dist-packages (from wandb) (4.4.0)\n",
            "Requirement already satisfied: pydantic<3 in /usr/local/lib/python3.12/dist-packages (from wandb) (2.11.7)\n",
            "Requirement already satisfied: sentry-sdk>=2.0.0 in /usr/local/lib/python3.12/dist-packages (from wandb) (2.37.1)\n",
            "Requirement already satisfied: psutil in /usr/local/lib/python3.12/dist-packages (from accelerate>=0.26.0->transformers[torch]) (5.9.5)\n",
            "Requirement already satisfied: aiohttp!=4.0.0a0,!=4.0.0a1 in /usr/local/lib/python3.12/dist-packages (from fsspec[http]<=2025.3.0,>=2023.1.0->datasets) (3.12.15)\n",
            "Requirement already satisfied: gitdb<5,>=4.0.1 in /usr/local/lib/python3.12/dist-packages (from gitpython!=3.1.29,>=1.0.0->wandb) (4.0.12)\n",
            "Requirement already satisfied: hf-xet<2.0.0,>=1.1.3 in /usr/local/lib/python3.12/dist-packages (from huggingface-hub<1.0,>=0.34.0->transformers[torch]) (1.1.9)\n",
            "Requirement already satisfied: annotated-types>=0.6.0 in /usr/local/lib/python3.12/dist-packages (from pydantic<3->wandb) (0.7.0)\n",
            "Requirement already satisfied: pydantic-core==2.33.2 in /usr/local/lib/python3.12/dist-packages (from pydantic<3->wandb) (2.33.2)\n",
            "Requirement already satisfied: typing-inspection>=0.4.0 in /usr/local/lib/python3.12/dist-packages (from pydantic<3->wandb) (0.4.1)\n",
            "Requirement already satisfied: charset_normalizer<4,>=2 in /usr/local/lib/python3.12/dist-packages (from requests->transformers[torch]) (3.4.3)\n",
            "Requirement already satisfied: idna<4,>=2.5 in /usr/local/lib/python3.12/dist-packages (from requests->transformers[torch]) (3.10)\n",
            "Requirement already satisfied: certifi>=2017.4.17 in /usr/local/lib/python3.12/dist-packages (from requests->transformers[torch]) (2025.8.3)\n",
            "Requirement already satisfied: mpmath<1.4,>=1.1.0 in /usr/local/lib/python3.12/dist-packages (from sympy>=1.13.3->torch) (1.3.0)\n",
            "Requirement already satisfied: MarkupSafe>=2.0 in /usr/local/lib/python3.12/dist-packages (from jinja2->torch) (3.0.2)\n",
            "Requirement already satisfied: python-dateutil>=2.8.2 in /usr/local/lib/python3.12/dist-packages (from pandas->datasets) (2.9.0.post0)\n",
            "Requirement already satisfied: pytz>=2020.1 in /usr/local/lib/python3.12/dist-packages (from pandas->datasets) (2025.2)\n",
            "Requirement already satisfied: tzdata>=2022.7 in /usr/local/lib/python3.12/dist-packages (from pandas->datasets) (2025.2)\n",
            "Requirement already satisfied: aiohappyeyeballs>=2.5.0 in /usr/local/lib/python3.12/dist-packages (from aiohttp!=4.0.0a0,!=4.0.0a1->fsspec[http]<=2025.3.0,>=2023.1.0->datasets) (2.6.1)\n",
            "Requirement already satisfied: aiosignal>=1.4.0 in /usr/local/lib/python3.12/dist-packages (from aiohttp!=4.0.0a0,!=4.0.0a1->fsspec[http]<=2025.3.0,>=2023.1.0->datasets) (1.4.0)\n",
            "Requirement already satisfied: attrs>=17.3.0 in /usr/local/lib/python3.12/dist-packages (from aiohttp!=4.0.0a0,!=4.0.0a1->fsspec[http]<=2025.3.0,>=2023.1.0->datasets) (25.3.0)\n",
            "Requirement already satisfied: frozenlist>=1.1.1 in /usr/local/lib/python3.12/dist-packages (from aiohttp!=4.0.0a0,!=4.0.0a1->fsspec[http]<=2025.3.0,>=2023.1.0->datasets) (1.7.0)\n",
            "Requirement already satisfied: multidict<7.0,>=4.5 in /usr/local/lib/python3.12/dist-packages (from aiohttp!=4.0.0a0,!=4.0.0a1->fsspec[http]<=2025.3.0,>=2023.1.0->datasets) (6.6.4)\n",
            "Requirement already satisfied: propcache>=0.2.0 in /usr/local/lib/python3.12/dist-packages (from aiohttp!=4.0.0a0,!=4.0.0a1->fsspec[http]<=2025.3.0,>=2023.1.0->datasets) (0.3.2)\n",
            "Requirement already satisfied: yarl<2.0,>=1.17.0 in /usr/local/lib/python3.12/dist-packages (from aiohttp!=4.0.0a0,!=4.0.0a1->fsspec[http]<=2025.3.0,>=2023.1.0->datasets) (1.20.1)\n",
            "Requirement already satisfied: smmap<6,>=3.0.1 in /usr/local/lib/python3.12/dist-packages (from gitdb<5,>=4.0.1->gitpython!=3.1.29,>=1.0.0->wandb) (5.0.2)\n",
            "Requirement already satisfied: six>=1.5 in /usr/local/lib/python3.12/dist-packages (from python-dateutil>=2.8.2->pandas->datasets) (1.17.0)\n"
          ]
        }
      ],
      "source": [
        "!python -V\n",
        "!pip -V\n",
        "!pip install numpy transformers[torch] scikit-learn datasets torch tiktoken blobfile protobuf sentencepiece wandb"
      ]
    },
    {
      "cell_type": "code",
      "execution_count": 2,
      "id": "e2ddf0fa",
      "metadata": {
        "colab": {
          "base_uri": "https://localhost:8080/"
        },
        "id": "e2ddf0fa",
        "outputId": "284b6d91-6474-47a4-812a-f3e4e22408a5"
      },
      "outputs": [
        {
          "output_type": "stream",
          "name": "stdout",
          "text": [
            "CUDA device: NVIDIA L4 (8, 9) bf16 True\n",
            "Memory: 22503.38 MB free / 22692.88 MB total\n"
          ]
        }
      ],
      "source": [
        "import torch\n",
        "if torch.cuda.is_available():\n",
        "    print('CUDA device:', torch.cuda.get_device_name(0), torch.cuda.get_device_capability(0), 'bf16', torch.cuda.is_bf16_supported(False))\n",
        "    free_mem, total_mem = torch.cuda.mem_get_info(torch.device('cuda:0'))\n",
        "    print(f'Memory: {free_mem / 1024 ** 2:.2f} MB free / {total_mem / 1024 ** 2:.2f} MB total')\n",
        "else:\n",
        "    print('No CUDA device available')"
      ]
    },
    {
      "cell_type": "code",
      "execution_count": 3,
      "id": "2651c6be",
      "metadata": {
        "id": "2651c6be"
      },
      "outputs": [],
      "source": [
        "import difflib\n",
        "import re\n",
        "\n",
        "import numpy as np\n",
        "import requests\n",
        "import torch\n",
        "from datasets import load_dataset\n",
        "from contextlib import nullcontext\n",
        "from torch.utils.data import DataLoader\n",
        "from transformers import (\n",
        "    AutoTokenizer,\n",
        "    AutoModelForSeq2SeqLM,\n",
        "    DataCollatorForSeq2Seq,\n",
        "    Seq2SeqTrainingArguments,\n",
        "    set_seed, PreTrainedTokenizerBase, Seq2SeqTrainer,\n",
        ")\n",
        "import wandb"
      ]
    },
    {
      "cell_type": "code",
      "execution_count": 4,
      "id": "6e914c37",
      "metadata": {
        "colab": {
          "base_uri": "https://localhost:8080/"
        },
        "id": "6e914c37",
        "outputId": "3dd1f166-f1da-4c19-9cbc-26f3ae10cf39"
      },
      "outputs": [
        {
          "output_type": "stream",
          "name": "stderr",
          "text": [
            "\u001b[34m\u001b[1mwandb\u001b[0m: Currently logged in as: \u001b[33martursz\u001b[0m to \u001b[32mhttps://api.wandb.ai\u001b[0m. Use \u001b[1m`wandb login --relogin`\u001b[0m to force relogin\n"
          ]
        },
        {
          "output_type": "execute_result",
          "data": {
            "text/plain": [
              "True"
            ]
          },
          "metadata": {},
          "execution_count": 4
        }
      ],
      "source": [
        "# Authenticate with Weights & Biases to enable logging and experiment tracking\n",
        "wandb.login()"
      ]
    },
    {
      "cell_type": "markdown",
      "id": "f0f5e365",
      "metadata": {
        "lines_to_next_cell": 1,
        "id": "f0f5e365"
      },
      "source": [
        "# Prepare dataset\n",
        "Raw sentences from the Latvian Universal Dependencies (LVTB) corpus: https://universaldependencies.org/treebanks/lv_lvtb/index.html"
      ]
    },
    {
      "cell_type": "code",
      "execution_count": 5,
      "id": "2795b03c",
      "metadata": {
        "lines_to_next_cell": 1,
        "colab": {
          "base_uri": "https://localhost:8080/"
        },
        "id": "2795b03c",
        "outputId": "c8e7bd96-84ee-429f-8682-3fbcb841a733"
      },
      "outputs": [
        {
          "output_type": "stream",
          "name": "stdout",
          "text": [
            "Sentence lengths before filtering: DEV 2080 TRAIN 15055\n",
            "Dataset sentence lengths: DEV 1912 TRAIN 13811\n",
            "To tu man stāstīji jau pirms divām nedēļām.\n",
            "Ka pieticis tikai autobusa biļetei un barankām.\n",
            "Uz skatuves kāpa skolas koris, pēc tam uzstājās arī dramatiskā pulciņa dalībnieki un divi bērnudārza audzēkņi.\n",
            "Burka esot jāizdekorē ar dillēm, mārrutku lapu, upeņu zariņu un ķiploka pusdaiviņām, jāsaliek gurķīši un jāaplej ar verdošu ūdeni, kurā iebērta ēdamkarote cukura un ēdamkarote sāls.\n",
            "Izaugs sava raža, nevajadzēs lieku reizi braukt uz tirgu.\n"
          ]
        }
      ],
      "source": [
        "def fetch_ud_texts(split, seed=42):\n",
        "    conllu = requests.get(f'https://raw.githubusercontent.com/UniversalDependencies/UD_Latvian-LVTB/r2.16/lv_lvtb-ud-{split}.conllu').text\n",
        "    texts = [line[9:].strip() for line in conllu.splitlines() if line.startswith('# text = ')]\n",
        "    if seed:\n",
        "        import random\n",
        "        random.Random(seed).shuffle(texts)\n",
        "    return texts\n",
        "\n",
        "def prepare_data(max_chars=200, dev_txt='dev.txt', train_txt='train.txt'):\n",
        "    # Download UD Latvian splits, filter by mBERT token count, and save plain .txt files.\n",
        "    dev_texts = fetch_ud_texts('dev')\n",
        "    train_texts = fetch_ud_texts('train')\n",
        "\n",
        "    if max_chars:\n",
        "        # Filter out long sentences to avoid truncation\n",
        "        print('Sentence lengths before filtering:', 'DEV', len(dev_texts), 'TRAIN', len(train_texts))\n",
        "        dev_texts = [t for t in dev_texts if len(t) <= max_chars]\n",
        "        train_texts = [t for t in train_texts if len(t) <= max_chars]\n",
        "    print('Dataset sentence lengths:', 'DEV', len(dev_texts), 'TRAIN', len(train_texts))\n",
        "\n",
        "    with open(dev_txt, 'w') as f:\n",
        "        for t in dev_texts: f.write(t + '\\n')\n",
        "    with open(train_txt, 'w') as f:\n",
        "        for t in train_texts: f.write(t + '\\n')\n",
        "\n",
        "    return dev_texts, train_texts\n",
        "\n",
        "dev_texts, train_texts = prepare_data()\n",
        "print(*train_texts[:5], sep='\\n')"
      ]
    },
    {
      "cell_type": "markdown",
      "id": "4b19d374",
      "metadata": {
        "id": "4b19d374"
      },
      "source": [
        "# Utilities"
      ]
    },
    {
      "cell_type": "code",
      "execution_count": 6,
      "id": "60e4c142",
      "metadata": {
        "lines_to_next_cell": 1,
        "id": "60e4c142"
      },
      "outputs": [],
      "source": [
        "def remove_commas(s) -> str:\n",
        "    return re.sub(r'\\s*,+\\s*', ' ', s)"
      ]
    },
    {
      "cell_type": "markdown",
      "id": "464a9889",
      "metadata": {
        "lines_to_next_cell": 1,
        "id": "464a9889"
      },
      "source": [
        "# Tokenization"
      ]
    },
    {
      "cell_type": "code",
      "execution_count": 7,
      "id": "bc9a5a68",
      "metadata": {
        "colab": {
          "base_uri": "https://localhost:8080/"
        },
        "id": "bc9a5a68",
        "outputId": "0c0da5c2-7c87-4d7f-a00e-25a1794b0cae"
      },
      "outputs": [
        {
          "output_type": "stream",
          "name": "stdout",
          "text": [
            "Tokenizer google/mt5-small\n"
          ]
        },
        {
          "output_type": "stream",
          "name": "stderr",
          "text": [
            "/usr/local/lib/python3.12/dist-packages/huggingface_hub/utils/_auth.py:94: UserWarning: \n",
            "The secret `HF_TOKEN` does not exist in your Colab secrets.\n",
            "To authenticate with the Hugging Face Hub, create a token in your settings tab (https://huggingface.co/settings/tokens), set it as secret in your Google Colab and restart your session.\n",
            "You will be able to reuse this secret in all of your notebooks.\n",
            "Please note that authentication is recommended but still optional to access public models or datasets.\n",
            "  warnings.warn(\n",
            "You are using the default legacy behaviour of the <class 'transformers.models.t5.tokenization_t5.T5Tokenizer'>. This is expected, and simply means that the `legacy` (previous) behavior will be used so nothing changes for you. If you want to use the new behaviour, set `legacy=False`. This should only be set if you understand what it means, and thoroughly read the reason why this was added as explained in https://github.com/huggingface/transformers/pull/24565\n",
            "/usr/local/lib/python3.12/dist-packages/transformers/convert_slow_tokenizer.py:564: UserWarning: The sentencepiece tokenizer that you are converting to a fast tokenizer uses the byte fallback option which is not implemented in the fast tokenizers. In practice this means that the fast version of the tokenizer can produce unknown tokens whereas the sentencepiece version would have converted these unknown tokens into a sequence of byte tokens matching the original piece of text.\n",
            "  warnings.warn(\n"
          ]
        },
        {
          "output_type": "stream",
          "name": "stdout",
          "text": [
            "Encoded sample: {'input_ids': [434, 35079, 259, 11859, 29953, 44897, 261, 427, 3546, 1184, 50856, 42786, 2849, 46813, 1460, 261, 2045, 381, 106373, 344, 135878, 5861, 58648, 11537, 260, 1], 'attention_mask': [1, 1, 1, 1, 1, 1, 1, 1, 1, 1, 1, 1, 1, 1, 1, 1, 1, 1, 1, 1, 1, 1, 1, 1, 1, 1]}\n",
            "Encoded sample - subword units: ['▁V', 'ēl', '▁', '9%', '▁sac', 'īja', ',', '▁ka', '▁nav', '▁iz', 'lēm', 'uši', '▁kā', '▁bals', 'ot', ',', '▁bet', '▁3', ',2%', '▁at', 'teic', 'ās', '▁atbild', 'ēt', '.', '</s>']\n",
            "Max 80, min 2, avg 29.943740496705523\n",
            "95% length: 58\n",
            "99% length: 66\n",
            "99.9% length: 73\n",
            "Tokenizer google/byt5-small\n",
            "Encoded sample: {'input_ids': [89, 199, 150, 111, 35, 60, 40, 35, 118, 100, 102, 199, 174, 109, 100, 47, 35, 110, 100, 35, 113, 100, 121, 35, 108, 125, 111, 199, 150, 112, 120, 200, 164, 108, 35, 110, 199, 132, 35, 101, 100, 111, 118, 114, 119, 47, 35, 101, 104, 119, 35, 54, 47, 53, 40, 35, 100, 119, 119, 104, 108, 102, 199, 132, 118, 35, 100, 119, 101, 108, 111, 103, 199, 150, 119, 49, 1], 'attention_mask': [1, 1, 1, 1, 1, 1, 1, 1, 1, 1, 1, 1, 1, 1, 1, 1, 1, 1, 1, 1, 1, 1, 1, 1, 1, 1, 1, 1, 1, 1, 1, 1, 1, 1, 1, 1, 1, 1, 1, 1, 1, 1, 1, 1, 1, 1, 1, 1, 1, 1, 1, 1, 1, 1, 1, 1, 1, 1, 1, 1, 1, 1, 1, 1, 1, 1, 1, 1, 1, 1, 1, 1, 1, 1, 1, 1, 1]}\n",
            "Encoded sample - subword units: ['V', 'Ä', '\\x93', 'l', ' ', '9', '%', ' ', 's', 'a', 'c', 'Ä', '«', 'j', 'a', ',', ' ', 'k', 'a', ' ', 'n', 'a', 'v', ' ', 'i', 'z', 'l', 'Ä', '\\x93', 'm', 'u', 'Å', '¡', 'i', ' ', 'k', 'Ä', '\\x81', ' ', 'b', 'a', 'l', 's', 'o', 't', ',', ' ', 'b', 'e', 't', ' ', '3', ',', '2', '%', ' ', 'a', 't', 't', 'e', 'i', 'c', 'Ä', '\\x81', 's', ' ', 'a', 't', 'b', 'i', 'l', 'd', 'Ä', '\\x93', 't', '.', '</s>']\n",
            "Max 228, min 3, avg 95.03366881471291\n",
            "95% length: 192\n",
            "99% length: 214\n",
            "99.9% length: 222\n"
          ]
        }
      ],
      "source": [
        "def test_tokenization(model=None):\n",
        "    s = 'Vēl 9% sacīja, ka nav izlēmuši kā balsot, bet 3,2% atteicās atbildēt.'\n",
        "    if model:\n",
        "        print('Tokenizer', model)\n",
        "        t = AutoTokenizer.from_pretrained(model)\n",
        "        print('Encoded sample:', t(s))\n",
        "        print('Encoded sample - subword units:', t.convert_ids_to_tokens(t.encode(s)))\n",
        "        lengths = sorted([len(t.encode(seq)) for seq in train_texts])\n",
        "        print(f'Max {max(lengths)}, min {min(lengths)}, avg {sum(lengths)/len(lengths)}')\n",
        "        print(f'95% length: {lengths[int(len(lengths) * 0.95)]}')\n",
        "        print(f'99% length: {lengths[int(len(lengths) * 0.99)]}')\n",
        "        print(f'99.9% length: {lengths[int(len(lengths) * 0.999)]}')\n",
        "\n",
        "test_tokenization('google/mt5-small')\n",
        "test_tokenization('google/byt5-small')"
      ]
    },
    {
      "cell_type": "markdown",
      "id": "c716d714",
      "metadata": {
        "lines_to_next_cell": 1,
        "id": "c716d714"
      },
      "source": [
        "Tokenize and format dataset for model training and evaluation"
      ]
    },
    {
      "cell_type": "code",
      "execution_count": 8,
      "id": "c40227d8",
      "metadata": {
        "colab": {
          "base_uri": "https://localhost:8080/",
          "height": 735,
          "referenced_widgets": [
            "21158827f0784f5da9d2650bc7fdbf85",
            "43c5287998b64a91a84c71460c0b9d53",
            "7715625d905744698194d01b50e045a0",
            "134664eb37cf4caf9839c3fad68a9581",
            "51e4505a467c4edba80109e2cb5c1e2e",
            "674df7cdc9d74dca910cbfada74a04ef",
            "e7be5533ea494070979729a3ea6ca4be",
            "adc94a4a0fa24d14aecaed419057642d",
            "0703329151984eae9d49a5b15122f4d9",
            "3e10943295b84083aa8686adb0a6d3a4",
            "7297017d7102455ca1504df5a20d1e8b",
            "ec5eeaa2bdd24123b2fd4cbbff4dddda",
            "39855012e71b47d9a00a6aa4f48b8d29",
            "ad5571e673714e258fa5a73ba76e21d8",
            "2ef44a2c9b114c5cbf6b11bf9dc526c2",
            "775f0841c8584bc5a6eb65e7fac61f40",
            "a624fcb520da4a3a9f6eb78f673cd6fe",
            "66b435b4e09a46f6b888e390eb3778b9",
            "af59d1eae57a47a2a128bd6714de45e4",
            "384ccc8aa91a49a2b2e2142954b409d6",
            "b1f549ab8be94ed3be244a24bd4bd734",
            "9c30aa960e324f23bfb646a18de2b28b",
            "fc91357156f048b8a3976a8ae9509b09",
            "2d1f301399964d1f8bc4a1d061ebb1b6",
            "c86552094369418cbac552106a030ad2",
            "b13e796b47db4a2baab8f52e73187a7d",
            "1afc72dd559e4fb3905e7fbc77e4ce8c",
            "4b18f616173d4c6b9ebe2b03bbdb1253",
            "e974650f83b54912b8681679ea941ade",
            "a914acd253c14217add902b84434735f",
            "ca47fdeae3a84d458bd7b6b13161211f",
            "4ee0bd15f33d4626b821fcb4679ea0d8",
            "a94f68d8e45844de8f5e9c1a6dfcdb7f",
            "76bd1a26540949599015bd16b5be4be5",
            "3e05945f12b84260a49a9d4a3642408b",
            "e32325b6c97542cb88b4c64592783cab",
            "ea2697c2956f4ce39e5644342f267134",
            "4a8548a78f754cf79c128a21db60a5c7",
            "523980d54f834ba798ed9d61a36436a2",
            "9efcd2dd07154d20955aaa6eaa5a9fce",
            "483211b4beb64833b3b890653c0924ac",
            "fad1943485d54a65a4955aad69f8dda8",
            "bb484aa6a2bb4f68aa343b83fdd06b16",
            "8696c3b265914826afb2e1537e6363e9"
          ]
        },
        "id": "c40227d8",
        "outputId": "7f5eb85a-5d6b-44a2-e6ce-562f5baa9c15"
      },
      "outputs": [
        {
          "output_type": "display_data",
          "data": {
            "text/plain": [
              "Generating train split: 0 examples [00:00, ? examples/s]"
            ],
            "application/vnd.jupyter.widget-view+json": {
              "version_major": 2,
              "version_minor": 0,
              "model_id": "21158827f0784f5da9d2650bc7fdbf85"
            }
          },
          "metadata": {}
        },
        {
          "output_type": "display_data",
          "data": {
            "text/plain": [
              "Generating dev split: 0 examples [00:00, ? examples/s]"
            ],
            "application/vnd.jupyter.widget-view+json": {
              "version_major": 2,
              "version_minor": 0,
              "model_id": "ec5eeaa2bdd24123b2fd4cbbff4dddda"
            }
          },
          "metadata": {}
        },
        {
          "output_type": "display_data",
          "data": {
            "text/plain": [
              "Map:   0%|          | 0/10 [00:00<?, ? examples/s]"
            ],
            "application/vnd.jupyter.widget-view+json": {
              "version_major": 2,
              "version_minor": 0,
              "model_id": "fc91357156f048b8a3976a8ae9509b09"
            }
          },
          "metadata": {}
        },
        {
          "output_type": "display_data",
          "data": {
            "text/plain": [
              "Map:   0%|          | 0/10 [00:00<?, ? examples/s]"
            ],
            "application/vnd.jupyter.widget-view+json": {
              "version_major": 2,
              "version_minor": 0,
              "model_id": "76bd1a26540949599015bd16b5be4be5"
            }
          },
          "metadata": {}
        },
        {
          "output_type": "stream",
          "name": "stdout",
          "text": [
            "{'input_ids': tensor([[   926,    719,    674,    259,  61180, 171881,   6168,   7602,    263,\n",
            "           6562,   4769,    448,  16521,  28981,    282,    260,      1,      0,\n",
            "              0,      0,      0,      0,      0,      0,      0,      0,      0,\n",
            "              0,      0,      0,      0,      0,      0,      0,      0,      0,\n",
            "              0,      0,      0],\n",
            "        [  1362,   2533,  82736,    263,    259,  13212,  31541,    262,    837,\n",
            "          10999, 124749,    335,    259,  34422, 159443,    260,      1,      0,\n",
            "              0,      0,      0,      0,      0,      0,      0,      0,      0,\n",
            "              0,      0,      0,      0,      0,      0,      0,      0,      0,\n",
            "              0,      0,      0],\n",
            "        [ 16389,    259, 119665,   4570,    259,  53065,    262,    259,  74755,\n",
            "         116533,    263,    259,   7659,   2335,   1678, 142198,   5861,    259,\n",
            "           4815, 102020,  51670,    259, 146473,  17825,    350,  64041,  49955,\n",
            "            335,  94591,  20914,    273,  86999,    745,    259, 104661,    314,\n",
            "          45685,    260,      1]]), 'attention_mask': tensor([[1, 1, 1, 1, 1, 1, 1, 1, 1, 1, 1, 1, 1, 1, 1, 1, 1, 0, 0, 0, 0, 0, 0, 0,\n",
            "         0, 0, 0, 0, 0, 0, 0, 0, 0, 0, 0, 0, 0, 0, 0],\n",
            "        [1, 1, 1, 1, 1, 1, 1, 1, 1, 1, 1, 1, 1, 1, 1, 1, 1, 0, 0, 0, 0, 0, 0, 0,\n",
            "         0, 0, 0, 0, 0, 0, 0, 0, 0, 0, 0, 0, 0, 0, 0],\n",
            "        [1, 1, 1, 1, 1, 1, 1, 1, 1, 1, 1, 1, 1, 1, 1, 1, 1, 1, 1, 1, 1, 1, 1, 1,\n",
            "         1, 1, 1, 1, 1, 1, 1, 1, 1, 1, 1, 1, 1, 1, 1]]), 'labels': tensor([[   926,    719,    674,    259,  61180, 171881,   6168,   7602,    263,\n",
            "           6562,   4769,    448,  16521,  28981,    282,    260,      1,   -100,\n",
            "           -100,   -100,   -100,   -100,   -100,   -100,   -100,   -100,   -100,\n",
            "           -100,   -100,   -100,   -100,   -100,   -100,   -100,   -100,   -100,\n",
            "           -100,   -100,   -100,   -100],\n",
            "        [  1362,   2533,  82736,    263,    259,  13212,  31541,    262,    837,\n",
            "          10999, 124749,    335,    259,  34422, 159443,    260,      1,   -100,\n",
            "           -100,   -100,   -100,   -100,   -100,   -100,   -100,   -100,   -100,\n",
            "           -100,   -100,   -100,   -100,   -100,   -100,   -100,   -100,   -100,\n",
            "           -100,   -100,   -100,   -100],\n",
            "        [ 16389,    259, 119665,   4570,    259,  53065,    262,    259,  74755,\n",
            "         116533,    263,    261,    259,   7659,   2335,   1678, 142198,   5861,\n",
            "            259,   4815, 102020,  51670,    259, 146473,  17825,    350,  64041,\n",
            "          49955,    335,  94591,  20914,    273,  86999,    745,    259, 104661,\n",
            "            314,  45685,    260,      1]])}\n"
          ]
        }
      ],
      "source": [
        "def build_dataset(*, tokenizer, train_file='train.txt', dev_file='dev.txt', train_samples=None, dev_samples=None, max_length=100):\n",
        "    ds = load_dataset('text', data_files={'train': train_file, 'dev': dev_file})\n",
        "    if train_samples:\n",
        "        ds['train'] = ds['train'].take(train_samples)\n",
        "    if dev_samples:\n",
        "        ds['dev'] = ds['dev'].take(dev_samples)\n",
        "\n",
        "    def _encode_examples(batch):\n",
        "        targets = batch['text']\n",
        "        sources = [remove_commas(t) for t in targets]\n",
        "        enc_in = tokenizer(sources, max_length=max_length, truncation=True)\n",
        "        enc_out = tokenizer(text_target=targets, max_length=max_length, truncation=True)\n",
        "        enc_in['labels'] = enc_out['input_ids']\n",
        "        return enc_in\n",
        "\n",
        "    ds_encoded = ds.map(_encode_examples, batched=True, remove_columns=ds['train'].column_names)\n",
        "\n",
        "    return ds_encoded\n",
        "\n",
        "tok = AutoTokenizer.from_pretrained('google/mt5-small')\n",
        "ds = build_dataset(tokenizer=tok, train_samples=10, dev_samples=10)\n",
        "collator = DataCollatorForSeq2Seq(tok)\n",
        "loader = DataLoader(ds['train'], batch_size=3, shuffle=False, collate_fn=collator)\n",
        "batch = next(iter(loader))\n",
        "print(batch)"
      ]
    },
    {
      "cell_type": "markdown",
      "id": "bb8cc7d7",
      "metadata": {
        "lines_to_next_cell": 1,
        "id": "bb8cc7d7"
      },
      "source": [
        "# Metrics for token classification.\n",
        "*F1-score* (the harmonic mean of precision and recall) specifically for the COMMA class gives a more honest view of model quality:\n",
        "  - Precision: when the model predicts COMMA, is it right?\n",
        "  - Recall: does the model catch most of the true commas?\n",
        "  - F1: balances both, penalizing if one is much lower.\n",
        "\n",
        "*Changes* - the percentage of sentences where the model introduced modifications that were **not desired**.  \n",
        "This highlights over-correction: even if the model achieves good precision/recall on commas, a high *Changes* value means it is altering sentences unnecessarily, reducing usability in practice."
      ]
    },
    {
      "cell_type": "code",
      "execution_count": 9,
      "id": "6143feb4",
      "metadata": {
        "lines_to_next_cell": 2,
        "colab": {
          "base_uri": "https://localhost:8080/"
        },
        "id": "6143feb4",
        "outputId": "4d1cea49-4ca9-420a-dec8-7a6e7b39974b"
      },
      "outputs": [
        {
          "output_type": "stream",
          "name": "stdout",
          "text": [
            "{'f1': 0.75, 'p': 0.75, 'r': 0.75, 'changes': 0.0, 'exact': 0.0, 'tp': 3, 'fp': 1, 'fn': 1}\n",
            "{'f1': 0.6666666666666666, 'p': 1.0, 'r': 0.5, 'changes': 1.0, 'exact': 0.0, 'tp': 2, 'fp': 0, 'fn': 2}\n"
          ]
        }
      ],
      "source": [
        "def align_and_count_commas(hyp: str, ref: str) -> tuple[int, int, int]:\n",
        "    sm = difflib.SequenceMatcher(a=hyp, b=ref, autojunk=False)\n",
        "    tp = fp = fn = 0\n",
        "    for tag, i1, i2, j1, j2 in sm.get_opcodes():\n",
        "        if tag == 'equal':\n",
        "            tp += hyp[i1:i2].count(',')\n",
        "        else:\n",
        "            fp += hyp[i1:i2].count(',')\n",
        "            fn += ref[j1:j2].count(',')\n",
        "    return tp, fp, fn\n",
        "\n",
        "\n",
        "def eval_commas(refs: list[str], preds: list[str], verbose=False) -> dict[str, float]:\n",
        "    verbose_changes_limit = 5\n",
        "    tp = fp = fn = changes = exact = 0\n",
        "    for hyp, ref in zip(preds, refs):\n",
        "        tpp, fpp, fnn = align_and_count_commas(hyp, ref)\n",
        "        tp += tpp; fp += fpp; fn += fnn\n",
        "        if hyp == ref:\n",
        "            exact += 1\n",
        "        is_changed = re.sub(r'[\\s,]', '', hyp) != re.sub(r'[\\s,]', '', ref)\n",
        "        if is_changed:\n",
        "            changes += 1\n",
        "\n",
        "        if verbose and verbose_changes_limit > 0 and is_changed:\n",
        "            print('--- Changed')\n",
        "            print('REF:', ref)\n",
        "            print('OUT:', hyp)\n",
        "            verbose_changes_limit -= 1\n",
        "\n",
        "    p = tp / (tp + fp) if (tp + fp) else 0.0\n",
        "    r = tp / (tp + fn) if (tp + fn) else 0.0\n",
        "    f1 = 2 * p * r / (p + r) if (p + r) else 0.0\n",
        "    return {\n",
        "        'f1': f1, 'p': p, 'r': r,\n",
        "        'changes': (changes / len(preds) if preds else 0.0),\n",
        "        'exact':  (exact / len(preds) if preds else 0.0),\n",
        "        'tp': tp, 'fp': fp, 'fn': fn,\n",
        "    }\n",
        "\n",
        "\n",
        "def compute_metrics(eval_preds, tokenizer, verbose=False):\n",
        "    preds, labels = eval_preds\n",
        "    pad_id = tokenizer.pad_token_id\n",
        "\n",
        "    # Replace ignore index in preds\n",
        "    labels = np.where(labels != -100, labels, pad_id)\n",
        "    preds = np.where(preds != -100, preds, pad_id)\n",
        "\n",
        "    decoded_preds  = tokenizer.batch_decode(preds,  skip_special_tokens=True)\n",
        "    decoded_labels = tokenizer.batch_decode(labels, skip_special_tokens=True)\n",
        "\n",
        "    return eval_commas(decoded_labels, decoded_preds, verbose=verbose)\n",
        "\n",
        "print(eval_commas(\n",
        "    ['Labi atpūšamies, draugi mīļie, un lai veiksmīga, sportiska, panākumiem bagāta mums visiem jaunā vasaras sezona!'],\n",
        "    ['Labi atpūšamies, draugi, mīļie un lai veiksmīga, sportiska, panākumiem bagāta mums visiem jaunā vasaras sezona!'],\n",
        "))\n",
        "print(eval_commas(\n",
        "    ['Labi atpūšamies, draugi mīļie, un lai veiksmīga, sportiska, panākumiem bagāta mums visiem jaunā vasaras sezona!'],\n",
        "    ['Labi atpūšamies draugi mīļie un lai veiksmīgas, sportiska, panākumiem bagāta mums visiem jaunā vasaras sezona.'],\n",
        "))"
      ]
    },
    {
      "cell_type": "markdown",
      "id": "6fd81c8d",
      "metadata": {
        "lines_to_next_cell": 1,
        "id": "6fd81c8d"
      },
      "source": [
        "# Inference\n",
        "Given plain text, we strip commas, tokenize with word boundaries, run the model, and insert commas after tokens labeled COMMA."
      ]
    },
    {
      "cell_type": "code",
      "execution_count": 10,
      "id": "241e8b94",
      "metadata": {
        "id": "241e8b94"
      },
      "outputs": [],
      "source": [
        "def process_text(text, model, tokenizer: PreTrainedTokenizerBase, max_len=120, verbose=True):\n",
        "    model.eval()\n",
        "    device = next(model.parameters()).device\n",
        "    source = remove_commas(text)\n",
        "    inputs = tokenizer([source], return_tensors='pt', truncation=True, max_length=max_len).to(device)\n",
        "    with torch.no_grad():\n",
        "        gen = model.generate(\n",
        "            **inputs,\n",
        "            max_new_tokens=max_len,\n",
        "        )\n",
        "    result = tokenizer.decode(gen[0], skip_special_tokens=True)\n",
        "    if verbose:\n",
        "        print(f'REF: {text}')\n",
        "        print(f' IN: {source}')\n",
        "        print(f'OUT: {result}')\n",
        "    return result"
      ]
    },
    {
      "cell_type": "markdown",
      "id": "400d8b3a",
      "metadata": {
        "lines_to_next_cell": 1,
        "id": "400d8b3a"
      },
      "source": [
        "# Model fine-tuning\n",
        "- Track loss curves, gradient norms, and evaluation metrics over time\n",
        "- Use an appropriate optimizer and learning rate schedule (e.g., warmup + decay)\n",
        "- Watch for overfitting (gap between train and eval performance)\n",
        "- Adjust batch size, accumulation steps, or precision (fp16/bf16) if needed\n",
        "- Save best checkpoints based on validation metric (e.g., F1)"
      ]
    },
    {
      "cell_type": "code",
      "execution_count": 11,
      "id": "02b22c26",
      "metadata": {
        "colab": {
          "base_uri": "https://localhost:8080/",
          "height": 1000,
          "referenced_widgets": [
            "ab202d7bc3424c03badc59a60c3db65a",
            "24a0650779e44c7591c5deb77c45366f",
            "c03e2f54dcbc48bfbdc667320fb71cc5",
            "5dfb9f5d80e944a1ad441052342fc0dc",
            "b3fe47fea47545faae2987cdb17d142d",
            "db7c42f77e1545ffaee671c5213d6c2a",
            "4d7381d67ee44b8ab0d8568e7189e819",
            "eb3e32fef9744f04ae7c3a751cbe4957",
            "cace52bf9dbb4cdfaa95e05aee05503f",
            "80185cf0a870499ea3b2f6409d968cfc",
            "a043f88286744f7eaf7b118839552e76",
            "c5e371c870f5463eaddda03ca8515cdf",
            "505614715f5b45e3878708382f57f368",
            "fbd6029d4a5b4f64ae96a4d263d22258",
            "5e4cf228bd00427f8cf7c4bcccb284db",
            "3e9bb74904474391834c69117de76d01",
            "247d5cf866964cc9aff93c7b021a8d59",
            "8fd84ad2654d4986a0498c6c8df75bf8",
            "4b6d83f4338f43bb8ca8affcbc3e5772",
            "a9ba834f89314ad5acd400dbe9f65043",
            "6170fb04825a46b39b177dc3994b2911",
            "f3a408b03d574748b67f2d7b47a311b8"
          ]
        },
        "id": "02b22c26",
        "outputId": "0d6edde6-5354-4689-fe08-4166eaf52871"
      },
      "outputs": [
        {
          "output_type": "display_data",
          "data": {
            "text/plain": [
              "<IPython.core.display.HTML object>"
            ],
            "text/html": [
              "creating run (0.0s)"
            ]
          },
          "metadata": {}
        },
        {
          "output_type": "display_data",
          "data": {
            "text/plain": [
              "<IPython.core.display.HTML object>"
            ],
            "text/html": [
              "Tracking run with wandb version 0.21.3"
            ]
          },
          "metadata": {}
        },
        {
          "output_type": "display_data",
          "data": {
            "text/plain": [
              "<IPython.core.display.HTML object>"
            ],
            "text/html": [
              "Run data is saved locally in <code>/content/wandb/run-20250918_101033-gy9gjodi</code>"
            ]
          },
          "metadata": {}
        },
        {
          "output_type": "display_data",
          "data": {
            "text/plain": [
              "<IPython.core.display.HTML object>"
            ],
            "text/html": [
              "Syncing run <strong><a href='https://wandb.ai/artursz/punctuator/runs/gy9gjodi' target=\"_blank\">mt5_punctuator_sample</a></strong> to <a href='https://wandb.ai/artursz/punctuator' target=\"_blank\">Weights & Biases</a> (<a href='https://wandb.me/developer-guide' target=\"_blank\">docs</a>)<br>"
            ]
          },
          "metadata": {}
        },
        {
          "output_type": "display_data",
          "data": {
            "text/plain": [
              "<IPython.core.display.HTML object>"
            ],
            "text/html": [
              " View project at <a href='https://wandb.ai/artursz/punctuator' target=\"_blank\">https://wandb.ai/artursz/punctuator</a>"
            ]
          },
          "metadata": {}
        },
        {
          "output_type": "display_data",
          "data": {
            "text/plain": [
              "<IPython.core.display.HTML object>"
            ],
            "text/html": [
              " View run at <a href='https://wandb.ai/artursz/punctuator/runs/gy9gjodi' target=\"_blank\">https://wandb.ai/artursz/punctuator/runs/gy9gjodi</a>"
            ]
          },
          "metadata": {}
        },
        {
          "output_type": "stream",
          "name": "stdout",
          "text": [
            "Train: {'name': 'mt5_punctuator_sample', 'base_model': 'google/mt5-small', 'max_len': 80, 'seed': 42, 'verbose': True, 'lr': 0.001, 'bs': 8, 'train_samples': 1000, 'dev_samples': 100, 'epochs': 3, 'report_wandb': True, 'wandb_group': None}\n"
          ]
        },
        {
          "output_type": "display_data",
          "data": {
            "text/plain": [
              "Map:   0%|          | 0/1000 [00:00<?, ? examples/s]"
            ],
            "application/vnd.jupyter.widget-view+json": {
              "version_major": 2,
              "version_minor": 0,
              "model_id": "ab202d7bc3424c03badc59a60c3db65a"
            }
          },
          "metadata": {}
        },
        {
          "output_type": "display_data",
          "data": {
            "text/plain": [
              "Map:   0%|          | 0/100 [00:00<?, ? examples/s]"
            ],
            "application/vnd.jupyter.widget-view+json": {
              "version_major": 2,
              "version_minor": 0,
              "model_id": "c5e371c870f5463eaddda03ca8515cdf"
            }
          },
          "metadata": {}
        },
        {
          "output_type": "display_data",
          "data": {
            "text/plain": [
              "<IPython.core.display.HTML object>"
            ],
            "text/html": [
              "\n",
              "    <div>\n",
              "      \n",
              "      <progress value='375' max='375' style='width:300px; height:20px; vertical-align: middle;'></progress>\n",
              "      [375/375 02:53, Epoch 3/3]\n",
              "    </div>\n",
              "    <table border=\"1\" class=\"dataframe\">\n",
              "  <thead>\n",
              " <tr style=\"text-align: left;\">\n",
              "      <th>Epoch</th>\n",
              "      <th>Training Loss</th>\n",
              "      <th>Validation Loss</th>\n",
              "      <th>F1</th>\n",
              "      <th>P</th>\n",
              "      <th>R</th>\n",
              "      <th>Changes</th>\n",
              "      <th>Exact</th>\n",
              "      <th>Tp</th>\n",
              "      <th>Fp</th>\n",
              "      <th>Fn</th>\n",
              "    </tr>\n",
              "  </thead>\n",
              "  <tbody>\n",
              "    <tr>\n",
              "      <td>1</td>\n",
              "      <td>1.260800</td>\n",
              "      <td>0.257187</td>\n",
              "      <td>0.430000</td>\n",
              "      <td>0.605634</td>\n",
              "      <td>0.333333</td>\n",
              "      <td>0.390000</td>\n",
              "      <td>0.300000</td>\n",
              "      <td>43</td>\n",
              "      <td>28</td>\n",
              "      <td>86</td>\n",
              "    </tr>\n",
              "    <tr>\n",
              "      <td>2</td>\n",
              "      <td>0.360500</td>\n",
              "      <td>0.164941</td>\n",
              "      <td>0.547486</td>\n",
              "      <td>0.980000</td>\n",
              "      <td>0.379845</td>\n",
              "      <td>0.020000</td>\n",
              "      <td>0.500000</td>\n",
              "      <td>49</td>\n",
              "      <td>1</td>\n",
              "      <td>80</td>\n",
              "    </tr>\n",
              "    <tr>\n",
              "      <td>3</td>\n",
              "      <td>0.266800</td>\n",
              "      <td>0.149681</td>\n",
              "      <td>0.565217</td>\n",
              "      <td>0.945455</td>\n",
              "      <td>0.403101</td>\n",
              "      <td>0.030000</td>\n",
              "      <td>0.530000</td>\n",
              "      <td>52</td>\n",
              "      <td>3</td>\n",
              "      <td>77</td>\n",
              "    </tr>\n",
              "  </tbody>\n",
              "</table><p>"
            ]
          },
          "metadata": {}
        },
        {
          "output_type": "stream",
          "name": "stdout",
          "text": [
            "--- Changed\n",
            "REF: Polietilēna maisiņā tās ir sasmakušas un tāpat nav ēdamas.\n",
            "OUT: Lietilēna maisiņā tās ir sasmakušas un tāpat nav ēdamas.\n",
            "--- Changed\n",
            "REF: 1997.g. Nīderlandē bezdarba līmenis bija zemāks nekā vidēji ES – nedaudz vairāk par 6% [Visser, Hemerijck, 9].\n",
            "OUT: Neīderlandē bezdarba līmenis bija zemāks nekā vidēji ES – nedaudz vairāk par 6% [Visser Hemerijck 9].\n",
            "--- Changed\n",
            "REF: Tāpat Kuks vērš uzmanību uz rakstniekiem, kurus ir samaitājušas Apgaismības idejas, kuri cionismam piešķir Apgaismības neprāta daļu, izraujot Toru no ebreju apziņas.\n",
            "OUT: Taspat Kuks vērš uzmanību uz rakstniekiem, kurus ir samaitājušas Apgaismības idejas, kuri cionismam piešķir Apgaismības idejas, kuri cionismam piešķir Apgaismības idejas, kuri cionismam piešķir Apgaismības idejas, kuri cionismam piešķir Apgaismības idejas, kuri cionismam piešķir Apgaismības idejas, kuri cionismam piešķir Apgaismības idejas, kuri cionismam piešķir Apgaismības idejas, kuri cionismam piešķir Apgaismības idejas, kuri cionismam piešķir Apgaismības idejas, kuri cionismam piešķir Apgaismības idejas, kuri cionismam\n",
            "--- Changed\n",
            "REF: Tika jautāts par iespēju šķirot atkritumus.\n",
            "OUT: Tasa jautāts par iespēju šķirot atkritumus.\n",
            "--- Changed\n",
            "REF: Ģirts Kuplais: Degviela pašlaik maksā gandrīz latu litrā.\n",
            "OUT: Mandrīz latu litrā.\n",
            "--- Changed\n",
            "REF: 22 mēnešus vecais princis Džordžs cieši tur mazo māsu, nekautrējas to noskūpstīt un veltīt kamerai savu burvīgo smaidu.\n",
            "OUT: 22. mēnešus vecais princis Džordžs cieši tur mazo māsu nekautrējas to noskūpstīt un veltīt kamerai savu burvīgo smaidu.\n",
            "--- Changed\n",
            "REF: ...\n",
            "OUT: \"\n",
            "--- Changed\n",
            "REF: 22 mēnešus vecais princis Džordžs cieši tur mazo māsu, nekautrējas to noskūpstīt un veltīt kamerai savu burvīgo smaidu.\n",
            "OUT: 22. mēnešus vecais princis Džordžs cieši tur mazo māsu nekautrējas to noskūpstīt un veltīt kamerai savu burvīgo smaidu.\n",
            "--- Changed\n",
            "REF: Ja mēs esam slimi vai nevarīgi, ja esam spiesti lietot zāles, ja esam spiesti stāvēt rindās uz izmeklējumiem, pie ārstiem, aptiekās pēc zālēm – kas var padarīt pašsajūtu labāku?\n",
            "OUT: Ja mēs esam slimi vai nevarīgi, ja esam spiesti lietot zāles, ja esam spiesti lietot zāles, ja esam spiesti stāvēt rindās uz izmeklējumiem pie ārstiem aptiekās pēc zālēm – kas var padarīt pašsajūtu labāku?\n",
            "--- Changed\n",
            "REF: ...\n",
            "OUT: \"\n"
          ]
        },
        {
          "output_type": "stream",
          "name": "stderr",
          "text": [
            "There were missing keys in the checkpoint model loaded: ['encoder.embed_tokens.weight', 'decoder.embed_tokens.weight'].\n"
          ]
        },
        {
          "output_type": "stream",
          "name": "stdout",
          "text": [
            "REF: Vēl 9% sacīja, ka nav izlēmuši kā balsot, bet 3,2% atteicās atbildēt.\n",
            " IN: Vēl 9% sacīja ka nav izlēmuši kā balsot bet 3 2% atteicās atbildēt.\n",
            "OUT: Vēl 9% sacīja, ka nav izlēmuši, kā balsot, bet 3 2% atteicās atbildēt.\n"
          ]
        },
        {
          "output_type": "display_data",
          "data": {
            "text/plain": [
              "<IPython.core.display.HTML object>"
            ],
            "text/html": []
          },
          "metadata": {}
        },
        {
          "output_type": "display_data",
          "data": {
            "text/plain": [
              "<IPython.core.display.HTML object>"
            ],
            "text/html": [
              "<br>    <style><br>        .wandb-row {<br>            display: flex;<br>            flex-direction: row;<br>            flex-wrap: wrap;<br>            justify-content: flex-start;<br>            width: 100%;<br>        }<br>        .wandb-col {<br>            display: flex;<br>            flex-direction: column;<br>            flex-basis: 100%;<br>            flex: 1;<br>            padding: 10px;<br>        }<br>    </style><br><div class=\"wandb-row\"><div class=\"wandb-col\"><h3>Run history:</h3><br/><table class=\"wandb\"><tr><td>eval/changes</td><td>█▁▁</td></tr><tr><td>eval/exact</td><td>▁▇█</td></tr><tr><td>eval/f1</td><td>▁▇█</td></tr><tr><td>eval/fn</td><td>█▃▁</td></tr><tr><td>eval/fp</td><td>█▁▂</td></tr><tr><td>eval/loss</td><td>█▂▁</td></tr><tr><td>eval/p</td><td>▁█▇</td></tr><tr><td>eval/r</td><td>▁▆█</td></tr><tr><td>eval/runtime</td><td>█▁▁</td></tr><tr><td>eval/samples_per_second</td><td>▁██</td></tr><tr><td>+7</td><td>...</td></tr></table><br/></div><div class=\"wandb-col\"><h3>Run summary:</h3><br/><table class=\"wandb\"><tr><td>eval/changes</td><td>0.03</td></tr><tr><td>eval/exact</td><td>0.53</td></tr><tr><td>eval/f1</td><td>0.56522</td></tr><tr><td>eval/fn</td><td>77</td></tr><tr><td>eval/fp</td><td>3</td></tr><tr><td>eval/loss</td><td>0.14968</td></tr><tr><td>eval/p</td><td>0.94545</td></tr><tr><td>eval/r</td><td>0.4031</td></tr><tr><td>eval/runtime</td><td>16.6819</td></tr><tr><td>eval/samples_per_second</td><td>5.995</td></tr><tr><td>+12</td><td>...</td></tr></table><br/></div></div>"
            ]
          },
          "metadata": {}
        },
        {
          "output_type": "display_data",
          "data": {
            "text/plain": [
              "<IPython.core.display.HTML object>"
            ],
            "text/html": [
              " View run <strong style=\"color:#cdcd00\">mt5_punctuator_sample</strong> at: <a href='https://wandb.ai/artursz/punctuator/runs/gy9gjodi' target=\"_blank\">https://wandb.ai/artursz/punctuator/runs/gy9gjodi</a><br> View project at: <a href='https://wandb.ai/artursz/punctuator' target=\"_blank\">https://wandb.ai/artursz/punctuator</a><br>Synced 5 W&B file(s), 0 media file(s), 0 artifact file(s) and 0 other file(s)"
            ]
          },
          "metadata": {}
        },
        {
          "output_type": "display_data",
          "data": {
            "text/plain": [
              "<IPython.core.display.HTML object>"
            ],
            "text/html": [
              "Find logs at: <code>./wandb/run-20250918_101033-gy9gjodi/logs</code>"
            ]
          },
          "metadata": {}
        }
      ],
      "source": [
        "def main(\n",
        "    name='punctuator',\n",
        "    base_model='google/mt5-small',\n",
        "    max_len=80,\n",
        "    seed=42,\n",
        "    verbose=True,\n",
        "    lr=1e-3,\n",
        "    bs=8,\n",
        "    train_samples=None,\n",
        "    dev_samples=100,\n",
        "    epochs=3,\n",
        "    report_wandb=True,\n",
        "    wandb_group=None\n",
        "):\n",
        "    with wandb.init(project='punctuator', group=wandb_group, name=name) if report_wandb else nullcontext():\n",
        "        print('Train:', locals())\n",
        "        set_seed(seed)\n",
        "        tokenizer = AutoTokenizer.from_pretrained(base_model)\n",
        "\n",
        "        # Load dataset\n",
        "        ds = build_dataset(tokenizer=tokenizer, train_samples=train_samples, dev_samples=dev_samples, max_length=max_len)\n",
        "\n",
        "        # Initialize base model for tokenize sequence to sequence task\n",
        "        model = AutoModelForSeq2SeqLM.from_pretrained(base_model)\n",
        "        model.config.use_cache = False\n",
        "\n",
        "        # Define training hyperparameters\n",
        "        training_args = Seq2SeqTrainingArguments(\n",
        "            output_dir=name,\n",
        "            report_to='wandb' if report_wandb else 'none',\n",
        "            learning_rate=lr,\n",
        "            per_device_train_batch_size=bs,\n",
        "            per_device_eval_batch_size=bs,\n",
        "            num_train_epochs=epochs,\n",
        "            warmup_ratio=0.05,\n",
        "            gradient_accumulation_steps=1,\n",
        "            gradient_checkpointing=True,\n",
        "            bf16=True,\n",
        "            logging_steps=50,\n",
        "            save_total_limit=1,\n",
        "            save_strategy='epoch',\n",
        "            eval_strategy='epoch',\n",
        "            eval_accumulation_steps=1,\n",
        "            load_best_model_at_end=True,\n",
        "            metric_for_best_model='f1',\n",
        "            greater_is_better=True,\n",
        "            predict_with_generate=True,\n",
        "            generation_max_length=max_len * 2,\n",
        "        )\n",
        "\n",
        "        trainer = Seq2SeqTrainer(\n",
        "            model=model,\n",
        "            args=training_args,\n",
        "            train_dataset=ds['train'],\n",
        "            eval_dataset=ds['dev'],\n",
        "            processing_class=tokenizer,\n",
        "            data_collator=DataCollatorForSeq2Seq(tokenizer=tokenizer),\n",
        "            compute_metrics=lambda p: compute_metrics(p, tokenizer, verbose=verbose),\n",
        "        )\n",
        "\n",
        "        # Actual training\n",
        "        trainer.train()\n",
        "        trainer.save_model(name)\n",
        "        tokenizer.save_pretrained(name)\n",
        "\n",
        "        process_text('Vēl 9% sacīja, ka nav izlēmuši kā balsot, bet 3,2% atteicās atbildēt.', trainer.model, tokenizer, max_len=max_len)\n",
        "\n",
        "main('mt5_punctuator_sample', train_samples=1000)"
      ]
    },
    {
      "cell_type": "markdown",
      "id": "a996926c",
      "metadata": {
        "id": "a996926c"
      },
      "source": [
        "# Inference"
      ]
    },
    {
      "cell_type": "code",
      "execution_count": 12,
      "id": "83fe76c7",
      "metadata": {
        "lines_to_next_cell": 2,
        "id": "83fe76c7",
        "colab": {
          "base_uri": "https://localhost:8080/",
          "height": 140
        },
        "outputId": "bdc26a3d-9e09-41cd-9cef-f5648e48520e"
      },
      "outputs": [
        {
          "output_type": "stream",
          "name": "stdout",
          "text": [
            "REF: Nogalināt nedrīkst, apžēlot!\n",
            " IN: Nogalināt nedrīkst apžēlot!\n",
            "OUT: Nogalināt nedrīkst apžēlot!\n",
            "REF: Palielināt izdevumus nedrīkst taupīt!\n",
            " IN: Palielināt izdevumus nedrīkst taupīt!\n",
            "OUT: Palielināt izdevumus nedrīkst taupīt!\n"
          ]
        },
        {
          "output_type": "execute_result",
          "data": {
            "text/plain": [
              "'Palielināt izdevumus nedrīkst taupīt!'"
            ],
            "application/vnd.google.colaboratory.intrinsic+json": {
              "type": "string"
            }
          },
          "metadata": {},
          "execution_count": 12
        }
      ],
      "source": [
        "m = AutoModelForSeq2SeqLM.from_pretrained('mt5_punctuator_sample')\n",
        "t = AutoTokenizer.from_pretrained('mt5_punctuator_sample')\n",
        "process_text('Nogalināt nedrīkst, apžēlot!', m, t)\n",
        "process_text('Palielināt izdevumus nedrīkst taupīt!', m, t)"
      ]
    },
    {
      "cell_type": "code",
      "source": [],
      "metadata": {
        "id": "YuDkpSNGSnRh"
      },
      "id": "YuDkpSNGSnRh",
      "execution_count": 12,
      "outputs": []
    }
  ],
  "metadata": {
    "jupytext": {
      "cell_metadata_filter": "-all",
      "main_language": "python",
      "notebook_metadata_filter": "-all"
    },
    "colab": {
      "provenance": [],
      "gpuType": "L4",
      "machine_shape": "hm"
    },
    "accelerator": "GPU",
    "language_info": {
      "name": "python"
    },
    "kernelspec": {
      "name": "python3",
      "display_name": "Python 3"
    }
  },
  "nbformat": 4,
  "nbformat_minor": 5
}