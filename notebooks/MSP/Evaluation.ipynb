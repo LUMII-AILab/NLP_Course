{
  "cells": [
    {
      "cell_type": "markdown",
      "metadata": {
        "id": "view-in-github",
        "colab_type": "text"
      },
      "source": [
        "<a href=\"https://colab.research.google.com/github/LUMII-AILab/NLP_Course/blob/main/notebooks/MSP/Evaluation.ipynb\" target=\"_parent\"><img src=\"https://colab.research.google.com/assets/colab-badge.svg\" alt=\"Open In Colab\"/></a>"
      ]
    },
    {
      "cell_type": "markdown",
      "metadata": {
        "id": "blmVDxbrQqlj"
      },
      "source": [
        "# Lielo valodas modeļu novērtēšana"
      ]
    },
    {
      "cell_type": "code",
      "execution_count": null,
      "metadata": {
        "id": "gvRyBghJnscx"
      },
      "outputs": [],
      "source": [
        "# Uzninstalējam OpenAi plaformu LVM darbināšanai\n",
        "!pip install openai"
      ]
    },
    {
      "cell_type": "code",
      "execution_count": null,
      "metadata": {
        "id": "eKIzn29zp6ey"
      },
      "outputs": [],
      "source": [
        "# Izmantosim 3 modeļus: bāzes modeļus TildeOpen un Gemma-2-27b un pielāgoto modeli gemma-2-27b-it\n",
        "models = {\n",
        "    \"google/gemma-2-27b-it\": \"http://gauja.ailab.lv:30051/v1\",\n",
        "    \"google/gemma-2-27b\": \"http://gauja.ailab.lv:30052/v1\",\n",
        "    \"TildeAI/TildeOpen-30b\": \"http://gauja.ailab.lv:30053/v1\"\n",
        "}"
      ]
    },
    {
      "cell_type": "markdown",
      "metadata": {
        "id": "jH3LgfClTY_N"
      },
      "source": [
        "##  Vienkāršota LVM darbināšana"
      ]
    },
    {
      "cell_type": "code",
      "execution_count": null,
      "metadata": {
        "id": "z08W-iUqhKT3"
      },
      "outputs": [],
      "source": [
        "# Vienkāršu uzvedņu piemēri bāzes (my_prompt) un pielāgotajam (my_prompt_instruct) modelim\n",
        "my_prompt_instruct=\"Slavens Latvijas komponists ir Raimonds \\n A: Pauls \\n B: Zirdziņš \\n C: Bērziņš \\n D: Lakstīgala \\n Answer the above question by replying with 'a', 'b', 'c' or 'd', and nothing else. \"\n",
        "my_prompt=\"Slavens Latvijas populārās mūzikas komponists ir Raimonds\"\n",
        "prefix= \"The following are multiple choice questions (with answers).\"\n",
        "\n",
        "prefix_en= \"The following are multiple choice questions (with answers) in Latvian.\"\n",
        "prefix_lv=\"Tālāk seko jautājumi ar vairākām atbilžu izvēlēm (ar atbildēm).\"\n",
        "\n",
        "instruction_lv=\"Atbildiet uz iepriekšējo jautājumu, atbildot ar 'a' vai 'b', un nekas cits.\"\n",
        "instruction_en=\"Answer to the question by replying with '1' or '2' and nothing else.\"\n",
        "myprompt=\"Īrnieki tika izlikti no dzīvokļa.\\nIzvēles:\\na. Viņi savu īri nemaksāja.\\nb. Viņi sapratās ar savu saimnieku.\"\n",
        "# instruction_prompt=\"Question: {text} \\n Options: \\na. {option_a} \\n b. {option_b} \\n c. {option_c} \\n d. {option_d} \\n Answer the above question by replying with 'a', 'b', 'c' or 'd', and nothing else.\""
      ]
    },
    {
      "cell_type": "code",
      "execution_count": null,
      "metadata": {
        "id": "FohvDnpXoo_r"
      },
      "outputs": [],
      "source": [
        "# Bāzes modeļu darbināšana\n",
        "\n",
        "from openai import OpenAI\n",
        "# model = \"TildeAI/TildeOpen-30b\"\n",
        "model = \"google/gemma-2-27b\"\n",
        "client = OpenAI(\n",
        "    base_url=models[model],\n",
        "    api_key=\"any_key\",\n",
        ")\n",
        "response=client.completions.create(\n",
        " #   prompt=\"Latvijā slavens komponists ir Raimonds\",\n",
        "    prompt=my_prompt,\n",
        "    max_tokens=10,\n",
        "    temperature=1,\n",
        "    model=model\n",
        ")\n",
        "print(response.choices[0].text)"
      ]
    },
    {
      "cell_type": "code",
      "execution_count": null,
      "metadata": {
        "id": "Z-Q3n7WFqLXS"
      },
      "outputs": [],
      "source": [
        "# Pielāgota modeļa darbināšana\n",
        "# Completion komanda domāta teksta turpināšanai\n",
        "from openai import OpenAI\n",
        "model = \"google/gemma-2-27b-it\"\n",
        "client = OpenAI(\n",
        "    base_url=models[model],\n",
        "    api_key=\"any_key\"\n",
        ")\n",
        "response=client.completions.create(\n",
        "    prompt=my_prompt,\n",
        "    max_tokens=10,\n",
        "    temperature=1,\n",
        "    model=model\n",
        ")\n",
        "print(response.choices[0].text)"
      ]
    },
    {
      "cell_type": "code",
      "execution_count": null,
      "metadata": {
        "id": "Rc5BUW5cj9zB"
      },
      "outputs": [],
      "source": [
        "# Pielāgota modeļa darbināšana\n",
        "# chat komanda ļauj labāk iegūt atbildi uz jautājumu\n",
        "from openai import OpenAI\n",
        "model = \"google/gemma-2-27b-it\"\n",
        "client = OpenAI(\n",
        "    base_url=models[model],\n",
        "    api_key=\"any_key\",\n",
        ")\n",
        "# Response=client.completions.create\n",
        "response=client.chat.completions.create(\n",
        "    model=model,\n",
        "    messages=[\n",
        "        {\n",
        "            \"role\": \"user\",\n",
        "            \"content\": prefix + my_prompt_instruct,\n",
        "        },\n",
        "    ],\n",
        ")\n",
        "print(response.choices[0].message.content)"
      ]
    },
    {
      "cell_type": "code",
      "source": [],
      "metadata": {
        "id": "FJu4Ds69VlCY"
      },
      "execution_count": null,
      "outputs": []
    },
    {
      "cell_type": "markdown",
      "metadata": {
        "id": "Fv4PzZnoFtN7"
      },
      "source": [
        "## Novērtēšana ar datu kopām\n"
      ]
    },
    {
      "cell_type": "markdown",
      "source": [
        "### COPA"
      ],
      "metadata": {
        "id": "qU2oSFXcoXql"
      }
    },
    {
      "cell_type": "code",
      "source": [
        "import json\n",
        "import requests\n",
        "\n",
        "url = \"https://raw.githubusercontent.com/LUMII-AILab/NLP_Course/main/notebooks/resources/mini-copa.jsonl\"\n",
        "\n",
        "response = requests.get(url)\n",
        "response.raise_for_status()  # check for HTTP errors\n",
        "lines = response.text.strip().split(\"\\n\")\n",
        "test_data = [json.loads(line) for line in lines]\n",
        "\n",
        "\n",
        "from openai import OpenAI\n",
        "model = \"google/gemma-2-27b-it\"\n",
        "client = OpenAI(\n",
        "    base_url=models[model],\n",
        "    api_key=\"any_key\",\n",
        ")\n",
        "correct=0\n",
        "total = len(test_data)\n",
        "for example in test_data:\n",
        "    my_prompt = \"Jautājums:\"+example[\"premise\"]+\"\\nIzvēles: 1. \"+example[\"choice1\"]+\"\\n2. \"+example[\"choice2\"]\n",
        "    correct_answer = example[\"label\"]+1\n",
        "    print(correct_answer)\n",
        "    print(my_prompt)\n",
        "    response=client.chat.completions.create(\n",
        "      model=model,\n",
        "      messages=[\n",
        "        {\n",
        "            \"role\": \"user\",\n",
        "            \"content\": prefix_en + my_prompt+ instruction_en,\n",
        "        },\n",
        "      ],\n",
        "      temperature=1,\n",
        "      max_tokens=10,\n",
        "    )\n",
        "    answer=response.choices[0].message.content.strip()\n",
        "    print(answer)\n",
        "    if answer==str(correct_answer):\n",
        "       correct += 1\n",
        "\n",
        "print(correct)\n",
        "print(total)\n",
        "accuracy = correct / total\n",
        "print(\"Accuracy:\", accuracy)"
      ],
      "metadata": {
        "id": "Y9sfFVMrobeD"
      },
      "execution_count": null,
      "outputs": []
    },
    {
      "cell_type": "markdown",
      "source": [
        "### LV-Exams datu kopa"
      ],
      "metadata": {
        "id": "HTKeJrqFE_Yj"
      }
    },
    {
      "cell_type": "code",
      "execution_count": null,
      "metadata": {
        "id": "TKri-29mFhVc"
      },
      "outputs": [],
      "source": [
        "import re\n",
        "import random\n",
        "import requests\n",
        "from openai import OpenAI\n",
        "\n",
        "model = \"google/gemma-2-27b-it\"\n",
        "client = OpenAI(\n",
        "    base_url=models[model],\n",
        "    api_key=\"any_key\",\n",
        ")\n",
        "\n",
        "questions = requests.get(\"https://raw.githubusercontent.com/LUMII-AILab/NLP_Course/refs/heads/main/notebooks/resources/lv_exams.json\").json()\n",
        "random.seed(42)\n",
        "random.shuffle(questions)\n",
        "\n",
        "def format_question(question):\n",
        "  text = question[\"question\"] + \"\\n\"\n",
        "  for k, v in question[\"options\"].items():\n",
        "    text += f\"{k}: {v}\\n\"\n",
        "\n",
        "  return text\n",
        "\n",
        "correct = 0\n",
        "total = 0\n",
        "for q in questions[:10]:\n",
        "  prompt = format_question(q)\n",
        "  prompt += \"Atbildi formātā 'Atbilde ir: X', kur X ir pareizās atbildes burts.\\n\"\n",
        "\n",
        "\n",
        "  response = client.chat.completions.create(\n",
        "        model=model,\n",
        "        messages=[\n",
        "            {\n",
        "                \"role\": \"user\",\n",
        "                \"content\": [\n",
        "                    {\n",
        "                    \"type\": \"text\",\n",
        "                    \"text\": prompt\n",
        "                    }\n",
        "                ]\n",
        "            }\n",
        "        ],\n",
        "        temperature=1,\n",
        "        max_tokens=10,\n",
        "    )\n",
        "  response_text = response.choices[0].message.content.strip()\n",
        "  m = re.search(r\"Atbilde ir[:*\\s]*([A-Z])\", response_text, re.I | re.U)\n",
        "  model_answer = m.group(1) if m is not None else \"None\"\n",
        "  correct += model_answer == q['answer']\n",
        "  total += 1\n",
        "  print(prompt)\n",
        "  print(\"-------------\")\n",
        "  print(f\"Expected {q['answer']}, full response: {response_text}\")\n",
        "  print(\"\\n========\\n\")\n",
        "\n",
        "print(\"Accuracy:\", correct/total)\n",
        "\n",
        "\n"
      ]
    },
    {
      "cell_type": "markdown",
      "source": [
        "### BeleBele datu kopa"
      ],
      "metadata": {
        "id": "pNOKDA3XH7XB"
      }
    },
    {
      "cell_type": "code",
      "execution_count": null,
      "metadata": {
        "id": "jp_q9EZMF6k5"
      },
      "outputs": [],
      "source": [
        "import json\n",
        "import re\n",
        "import random\n",
        "import datasets\n",
        "from openai import OpenAI\n",
        "\n",
        "model = \"google/gemma-2-27b-it\"\n",
        "client = OpenAI(\n",
        "    base_url=models[model],\n",
        "    api_key=\"any_key\",\n",
        ")\n",
        "\n",
        "def format_question(question):\n",
        "  text = question[\"flores_passage\"] + \"\\n\"\n",
        "  text += question[\"question\"] + \"\\n\"\n",
        "  letters = ['A', 'B', 'C', 'D']\n",
        "  for i in range(4):\n",
        "    text += f\"{letters[i]}: {question['mc_answer'+str(i+1)]}\\n\"\n",
        "    if str(i+1) == question['correct_answer_num']:\n",
        "      question['answer'] = letters[i]\n",
        "\n",
        "  return text\n",
        "\n",
        "dataset = datasets.load_dataset('facebook/belebele', 'lvs_Latn')\n",
        "correct = 0\n",
        "total = 0\n",
        "for q in dataset['test'].select(range(10)):\n",
        "  prompt = format_question(q)\n",
        "  prompt += \"Atbildi formātā 'Atbilde ir: X', kur X ir pareizās atbildes burts.\\n\"\n",
        "\n",
        "\n",
        "  response = client.chat.completions.create(\n",
        "        model=model,\n",
        "        messages=[\n",
        "            {\n",
        "                \"role\": \"user\",\n",
        "                \"content\": [\n",
        "                    {\n",
        "                    \"type\": \"text\",\n",
        "                    \"text\": prompt\n",
        "                    }\n",
        "                ]\n",
        "            }\n",
        "        ],\n",
        "        temperature=1,\n",
        "        max_tokens=10,\n",
        "    )\n",
        "  response_text = response.choices[0].message.content\n",
        "  m = re.search(r\"Atbilde ir[:*\\s]*([A-Z])\", response_text, re.I | re.U)\n",
        "  model_answer = m.group(1) if m is not None else \"None\"\n",
        "  correct += model_answer == q['answer']\n",
        "  total += 1\n",
        "  print(prompt)\n",
        "  print(\"-------------\")\n",
        "  print(f\"Expected {q['answer']}, model guessed {model_answer}, full response: {response_text}\")\n",
        "  print(\"\\n========\\n\")\n",
        "\n",
        "\n",
        "\n",
        "print(\"Accuracy:\", correct/total)\n",
        "\n",
        "\n"
      ]
    },
    {
      "cell_type": "markdown",
      "source": [
        "### 5 piemēru uzvedne"
      ],
      "metadata": {
        "id": "5zKHVWhWnk6c"
      }
    },
    {
      "cell_type": "code",
      "source": [
        "import re\n",
        "import random\n",
        "import requests\n",
        "from openai import OpenAI\n",
        "\n",
        "model = \"google/gemma-2-27b\"\n",
        "client = OpenAI(\n",
        "    base_url=models[model],\n",
        "    api_key=\"any_key\",\n",
        ")\n",
        "\n",
        "questions = requests.get(\"https://raw.githubusercontent.com/LUMII-AILab/NLP_Course/refs/heads/main/notebooks/resources/lv_exams.json\").json()\n",
        "random.seed(42)\n",
        "random.shuffle(questions)\n",
        "\n",
        "def format_question(question, with_answer=False):\n",
        "    text = question[\"question\"] + \"\\n\"\n",
        "    for k, v in question[\"options\"].items():\n",
        "      text += f\"{k}: {v}\\n\"\n",
        "\n",
        "    if with_answer:\n",
        "       text += f\"Atbilde ir: {question['answer']}\\n\"\n",
        "\n",
        "    return text\n",
        "\n",
        "# Number of few-shot examples to use\n",
        "N_SHOTS = 5\n",
        "\n",
        "# Generate few-shot prompt from first N items\n",
        "few_shot_prompt = \"\"\n",
        "for q in questions[:N_SHOTS]:\n",
        "    few_shot_prompt += format_question(q, True)\n",
        "    few_shot_prompt += \"\\n\"\n",
        "\n",
        "correct = 0\n",
        "total = 0\n",
        "\n",
        "# Test on items after the few-shot examples\n",
        "for q in questions[N_SHOTS:N_SHOTS+10]:\n",
        "    prompt = few_shot_prompt + format_question(q)\n",
        "\n",
        "    response = client.completions.create(\n",
        "        model=model,\n",
        "        prompt=prompt,\n",
        "        temperature=0.9,\n",
        "        max_tokens=10,\n",
        "    )\n",
        "\n",
        "    response_text = response.choices[0].text.strip()\n",
        "    m = re.search(r\"Atbilde ir[:*\\s]*([A-Z])\", response_text, re.I | re.U)\n",
        "    model_answer = m.group(1) if m is not None else \"None\"\n",
        "    correct += model_answer == q['answer']\n",
        "    total += 1\n",
        "    print(prompt)\n",
        "    print(\"-------------\")\n",
        "    print(f\"Expected {q['answer']}, full response: {response_text}\")\n",
        "    print(\"\\n========\\n\")\n",
        "\n",
        "print(\"Accuracy:\", correct/total)"
      ],
      "metadata": {
        "id": "U-tEu1bvWUKB"
      },
      "execution_count": null,
      "outputs": []
    },
    {
      "cell_type": "markdown",
      "source": [
        "### Logvarbūtību vērtēšana, bez ģenerēšanas\n",
        "\n"
      ],
      "metadata": {
        "id": "fCuyZJuRs3nf"
      }
    },
    {
      "cell_type": "code",
      "source": [
        "import string, requests, random\n",
        "from openai import OpenAI\n",
        "\n",
        "def predict_best_option(base_url, model, question, options, question_tag=\"Jautājums:\", answer_tag=\"Pareizā atbilde:\"):\n",
        "    client = OpenAI(base_url=base_url, api_key=\"any_key\")\n",
        "    labels = list(string.ascii_uppercase)[:len(options)]\n",
        "    prompt = question_tag + question + \"\\n\" + \"\\n\".join(f\"{k}) {o}\" for k, o in zip(labels, options)) + f\"\\n{answer_tag}\"\n",
        "\n",
        "    def logp(label):\n",
        "        r = client.completions.create(\n",
        "            model=model, prompt=prompt + f\" {label}\",\n",
        "            max_tokens=0, echo=True, logprobs=5,\n",
        "            temperature=0, top_p=1\n",
        "        )\n",
        "        return r.choices[0].logprobs.token_logprobs[-1]\n",
        "\n",
        "    scores = {o: logp(k) for k, o in zip(labels, options)}\n",
        "    return max(scores, key=scores.get)\n",
        "\n",
        "questions = requests.get(\"https://raw.githubusercontent.com/LUMII-AILab/NLP_Course/refs/heads/main/notebooks/resources/lv_exams.json\").json()\n",
        "random.seed(42)\n",
        "random.shuffle(questions)\n",
        "\n",
        "# model = \"google/gemma-2-27b-it\"\n",
        "# model = \"google/gemma-2-27b\"\n",
        "model = \"TildeAI/TildeOpen-30b\"\n",
        "correct = 0\n",
        "sample_questions = questions[:10]\n",
        "for q in sample_questions:\n",
        "    pred = predict_best_option(models[model], model, q[\"question\"], list(q[\"options\"].values()))\n",
        "    pred_label = next(k for k, v in q[\"options\"].items() if v == pred)\n",
        "    gold_label = q[\"answer\"]\n",
        "    print(q['question'])\n",
        "    print(*[k + ': ' + v for k, v in q['options'].items()], sep=\"\\n\")\n",
        "    print(f\"Pred: {pred_label}, Gold: {gold_label}\\n\")\n",
        "    correct += (pred_label == gold_label)\n",
        "\n",
        "print(\"Accuracy:\", correct / len(sample_questions))"
      ],
      "metadata": {
        "colab": {
          "base_uri": "https://localhost:8080/"
        },
        "id": "KjN1iSKutQG3",
        "outputId": "32515da3-e1ad-4128-c760-a115500cfd5b"
      },
      "execution_count": 14,
      "outputs": [
        {
          "output_type": "stream",
          "name": "stdout",
          "text": [
            "Kuras iezīmes raksturīgas cunami?\n",
            "A: Tiem raksturīgi īsi viļņi un liela amplitūda. Parasti pārvietojas ar ātrumu 30 km/h. Viļņu augstums samazinās, sasniedzot piekrasti.\n",
            "B: Tiem raksturīgi gari viļņi un maza amplitūda. Ātrums dažreiz sasniedz 700 km/h. Jūras līčos seklūdens zonā strauji palielinās viļņu augstums.\n",
            "C: Tiem raksturīgi īsi viļņi, kuri veido vairākas viļņu sērijas. Viļņi ļoti strauji sasniedz sauszemi, kuras tuvumā augstums dažreiz pārsniedz 20 metrus.\n",
            "D: Stipra vēja iekustināti lieli viļņi, kuri pārvietojoties attīstās par ļoti spēcīgiem viļņiem. Jūras līčos seklūdens zonā veidojas gigantiska izmēra viļņi.\n",
            "Pred: B, Gold: B\n",
            "\n",
            "Sadedzinot divus litrus gāzveida ogļūdeņraža skābekļa pārākumā, izveidojās astoņi litri ogļskābās gāzes CO2 un desmit litru ūdens tvaika H2O. Visu vielu tilpumi mērīti vienādos apstākļos 100 °C un atmosfēras spiedienā. Kāda ir ogļūdeņraža molekulformula?\n",
            "A: CH4\n",
            "B: C2H4\n",
            "C: C4H10\n",
            "D: C8H10\n",
            "Pred: C, Gold: C\n",
            "\n",
            "Kura fizikālā lieluma precīzai raksturošanai jānorāda gan skaitliskā vērtība, gan virziens?\n",
            "A: elektriskais lādiņš\n",
            "B: magnētiskā lauka indukcija\n",
            "C: elektriskā lauka potenciāls\n",
            "D: kondensatora enerģija\n",
            "Pred: B, Gold: B\n",
            "\n",
            "Kuri ķīmiskās saites veidi ir kālija hidroksīdā KOH?\n",
            "A: jonu saite un nepolāra kovalentā saite\n",
            "B: jonu saite un polāra kovalentā saite\n",
            "C: polāra un nepolāra kovalentā saite\n",
            "D: tikai polāras kovalentās saites\n",
            "Pred: B, Gold: B\n",
            "\n",
            "Neveicot aprēķinus, nosaki, kurā gadījumā sistēmas entropija palielinās!\n",
            "A: CaCO3(c) -> CaO(c) + CO2(g)\n",
            "B: 2Mg(c) + O2(g) -> 2MgO(c)\n",
            "C: N2(g) + 3H2(g) -> 2NH3(g)\n",
            "D: CO(g) + 3H2(g) -> CH4(g) + H2O(g)\n",
            "Pred: D, Gold: A\n",
            "\n",
            "Metāls X veido sāli XCl2. Šī sāls sastāvā jonam X ir 28 elektroni. Nosaki metālu X!\n",
            "A: Zn\n",
            "B: Cu\n",
            "C: Ni\n",
            "D: Fe\n",
            "Pred: D, Gold: A\n",
            "\n",
            "Gaisma krīt caur vienu šauru spraugu, un var novērot gaismas difrakciju. Kādā gadījumā vislabāk var novērot gaismas difrakciju?\n",
            "A: gaismas viļņa garums ir daudz īsāks nekā spraugas platums\n",
            "B: gaismas viļņa garums ir daudz garāks nekā spraugas platums\n",
            "C: gaismas viļņa garums ir salīdzināms ar spraugas platumu\n",
            "D: no situācijas apraksta nevar secināt par krītošās gaismas viļņa garumu\n",
            "Pred: C, Gold: C\n",
            "\n",
            "Ūdeņraža atoms sastāv no protona un elektrona. Kura mijiedarbība ir pamatā tam, ka atoms nesabrūk?\n",
            "A: gravitācijas mijiedarbība\n",
            "B: vājā mijiedarbība\n",
            "C: elektromagnētiskā mijiedarbība\n",
            "D: stiprā mijiedarbība\n",
            "Pred: C, Gold: C\n",
            "\n",
            "Kuras telpiskā zonējuma teritorijas visvairāk palielināsies, attīstoties loģistikas centram Ķekavas apkārtnē?\n",
            "A: dzīvojamais rajons ar daudzstāvu apbūvi\n",
            "B: izglītības un rekreācijas rajons\n",
            "C: darījumu rajons pilsētas perifērijā\n",
            "D: darījumu rajons pilsētas centrā\n",
            "Pred: D, Gold: C\n",
            "\n",
            "Kompleksā savienojuma [Cu(NH3)4](OH)2 ūdens šķīdumu izmanto dabisko polimēru šķīdināšanai, lai iegūtu dažādu veidu šķiedras un plēves. Kāds ir šīs vielas nosaukums pēc IUPAC nomenklatūras?\n",
            "A: tetraamīnvara hidroksīds\n",
            "B: tetraamīnkuprāta(II) hidroksīds\n",
            "C: tetraamīnvara(II) hidroksīds\n",
            "D: tetraamīnvara dihidroksīds\n",
            "Pred: C, Gold: C\n",
            "\n",
            "Accuracy: 0.7\n"
          ]
        }
      ]
    }
  ],
  "metadata": {
    "colab": {
      "provenance": [],
      "toc_visible": true,
      "include_colab_link": true
    },
    "kernelspec": {
      "display_name": "Python 3",
      "name": "python3"
    },
    "language_info": {
      "name": "python"
    }
  },
  "nbformat": 4,
  "nbformat_minor": 0
}
