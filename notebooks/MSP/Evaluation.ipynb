{
  "cells": [
    {
      "cell_type": "markdown",
      "metadata": {
        "id": "view-in-github",
        "colab_type": "text"
      },
      "source": [
        "<a href=\"https://colab.research.google.com/github/LUMII-AILab/NLP_Course/blob/main/notebooks/MSP/Evaluation.ipynb\" target=\"_parent\"><img src=\"https://colab.research.google.com/assets/colab-badge.svg\" alt=\"Open In Colab\"/></a>"
      ]
    },
    {
      "cell_type": "markdown",
      "metadata": {
        "id": "blmVDxbrQqlj"
      },
      "source": [
        "# Lielo valodas modeļu novērtēšana"
      ]
    },
    {
      "cell_type": "code",
      "execution_count": null,
      "metadata": {
        "id": "gvRyBghJnscx",
        "colab": {
          "base_uri": "https://localhost:8080/"
        },
        "outputId": "377a86c1-8f1b-4baf-cc26-5bddd28e979e"
      },
      "outputs": [
        {
          "output_type": "stream",
          "name": "stdout",
          "text": [
            "Requirement already satisfied: openai in /usr/local/lib/python3.12/dist-packages (1.109.1)\n",
            "Requirement already satisfied: anyio<5,>=3.5.0 in /usr/local/lib/python3.12/dist-packages (from openai) (4.11.0)\n",
            "Requirement already satisfied: distro<2,>=1.7.0 in /usr/local/lib/python3.12/dist-packages (from openai) (1.9.0)\n",
            "Requirement already satisfied: httpx<1,>=0.23.0 in /usr/local/lib/python3.12/dist-packages (from openai) (0.28.1)\n",
            "Requirement already satisfied: jiter<1,>=0.4.0 in /usr/local/lib/python3.12/dist-packages (from openai) (0.11.0)\n",
            "Requirement already satisfied: pydantic<3,>=1.9.0 in /usr/local/lib/python3.12/dist-packages (from openai) (2.11.9)\n",
            "Requirement already satisfied: sniffio in /usr/local/lib/python3.12/dist-packages (from openai) (1.3.1)\n",
            "Requirement already satisfied: tqdm>4 in /usr/local/lib/python3.12/dist-packages (from openai) (4.67.1)\n",
            "Requirement already satisfied: typing-extensions<5,>=4.11 in /usr/local/lib/python3.12/dist-packages (from openai) (4.15.0)\n",
            "Requirement already satisfied: idna>=2.8 in /usr/local/lib/python3.12/dist-packages (from anyio<5,>=3.5.0->openai) (3.10)\n",
            "Requirement already satisfied: certifi in /usr/local/lib/python3.12/dist-packages (from httpx<1,>=0.23.0->openai) (2025.8.3)\n",
            "Requirement already satisfied: httpcore==1.* in /usr/local/lib/python3.12/dist-packages (from httpx<1,>=0.23.0->openai) (1.0.9)\n",
            "Requirement already satisfied: h11>=0.16 in /usr/local/lib/python3.12/dist-packages (from httpcore==1.*->httpx<1,>=0.23.0->openai) (0.16.0)\n",
            "Requirement already satisfied: annotated-types>=0.6.0 in /usr/local/lib/python3.12/dist-packages (from pydantic<3,>=1.9.0->openai) (0.7.0)\n",
            "Requirement already satisfied: pydantic-core==2.33.2 in /usr/local/lib/python3.12/dist-packages (from pydantic<3,>=1.9.0->openai) (2.33.2)\n",
            "Requirement already satisfied: typing-inspection>=0.4.0 in /usr/local/lib/python3.12/dist-packages (from pydantic<3,>=1.9.0->openai) (0.4.2)\n"
          ]
        }
      ],
      "source": [
        "# Uzninstalējam OpenAi plaformu LVM darbināšanai\n",
        "!pip install openai"
      ]
    },
    {
      "cell_type": "code",
      "execution_count": null,
      "metadata": {
        "id": "eKIzn29zp6ey"
      },
      "outputs": [],
      "source": [
        "# Izmantosim 3 modeļus: bāzes modeļus TildeOpen un Gemma-2-27b un pielāgoto modeli gemma-2-27b-it\n",
        "models = {\n",
        "    \"google/gemma-2-27b-it\": \"http://gauja.ailab.lv:30051/v1\",\n",
        "    \"google/gemma-2-27b\": \"http://gauja.ailab.lv:30052/v1\",\n",
        "    \"TildeAI/TildeOpen-30b\": \"http://gauja.ailab.lv:30053/v1\"\n",
        "}"
      ]
    },
    {
      "cell_type": "markdown",
      "metadata": {
        "id": "jH3LgfClTY_N"
      },
      "source": [
        "##  Vienkāršota LVM darbināšana"
      ]
    },
    {
      "cell_type": "code",
      "execution_count": null,
      "metadata": {
        "id": "z08W-iUqhKT3"
      },
      "outputs": [],
      "source": [
        "# Vienkāršu uzvedņu piemēri bāzes (my_prompt) un pielāgotajam (my_prompt_instruct) modelim\n",
        "my_prompt_instruct=\"Slavens Latvijas komponists ir Raimonds \\n A: Pauls \\n B: Zirdziņš \\n C: Bērziņš \\n D: Lakstīgala \\n Answer the above question by replying with 'a', 'b', 'c' or 'd', and nothing else. \"\n",
        "my_prompt=\"Slavens Latvijas komponists ir Raimonds \"\n",
        "prefix= \"The following are multiple choice questions (with answers).\"\n",
        "# instruction_prompt=\"Question: {text} \\n Options: \\na. {option_a} \\n b. {option_b} \\n c. {option_c} \\n d. {option_d} \\n Answer the above question by replying with 'a', 'b', 'c' or 'd', and nothing else.\""
      ]
    },
    {
      "cell_type": "code",
      "execution_count": null,
      "metadata": {
        "id": "FohvDnpXoo_r",
        "colab": {
          "base_uri": "https://localhost:8080/"
        },
        "outputId": "1405d1b2-e625-4004-f25c-e56749d3c466"
      },
      "outputs": [
        {
          "output_type": "stream",
          "name": "stdout",
          "text": [
            "Ļaizāns un leks Montero.\n"
          ]
        }
      ],
      "source": [
        "# Bāzes modeļu darbināšana\n",
        "\n",
        "from openai import OpenAI\n",
        "# model = \"TildeAI/TildeOpen-30b\"\n",
        "model = \"google/gemma-2-27b\"\n",
        "client = OpenAI(\n",
        "    base_url=models[model],\n",
        "    api_key=\"any_key\",\n",
        ")\n",
        "response=client.completions.create(\n",
        " #   prompt=\"Latvijā slavens komponists ir Raimonds\",\n",
        "    prompt=my_prompt,\n",
        "    max_tokens=10,\n",
        "    temperature=1,\n",
        "    model=model\n",
        ")\n",
        "print(response.choices[0].text)"
      ]
    },
    {
      "cell_type": "code",
      "execution_count": null,
      "metadata": {
        "id": "Z-Q3n7WFqLXS",
        "colab": {
          "base_uri": "https://localhost:8080/"
        },
        "outputId": "38f48f43-39d3-4e3d-9818-4f8cd1acd646"
      },
      "outputs": [
        {
          "output_type": "stream",
          "name": "stdout",
          "text": [
            "\n",
            "Pauls, kas izveidoja popul\n"
          ]
        }
      ],
      "source": [
        "# Pielāgota modeļa darbināšana\n",
        "# Completion komanda domāta teksta turpināšanai\n",
        "from openai import OpenAI\n",
        "model = \"google/gemma-2-27b-it\"\n",
        "client = OpenAI(\n",
        "    base_url=models[model],\n",
        "    api_key=\"any_key\"\n",
        ")\n",
        "response=client.completions.create(\n",
        "    prompt=my_prompt,\n",
        "    max_tokens=10,\n",
        "    temperature=1,\n",
        "    model=model\n",
        ")\n",
        "print(response.choices[0].text)"
      ]
    },
    {
      "cell_type": "code",
      "execution_count": null,
      "metadata": {
        "id": "Rc5BUW5cj9zB",
        "colab": {
          "base_uri": "https://localhost:8080/"
        },
        "outputId": "08984013-8638-46ec-9c97-9f766675b0a3"
      },
      "outputs": [
        {
          "output_type": "stream",
          "name": "stdout",
          "text": [
            "a\n",
            "\n",
            "\n"
          ]
        }
      ],
      "source": [
        "# Pielāgota modeļa darbināšana\n",
        "# chat komanda ļauj labāk iegūt atbildi uz jautājumu\n",
        "from openai import OpenAI\n",
        "model = \"google/gemma-2-27b-it\"\n",
        "client = OpenAI(\n",
        "    base_url=models[model],\n",
        "    api_key=\"any_key\",\n",
        ")\n",
        "# Response=client.completions.create\n",
        "response=client.chat.completions.create(\n",
        "    model=model,\n",
        "    messages=[\n",
        "        {\n",
        "            \"role\": \"user\",\n",
        "            \"content\": prefix + my_prompt_instruct,\n",
        "        },\n",
        "    ],\n",
        ")\n",
        "print(response.choices[0].message.content)"
      ]
    },
    {
      "cell_type": "code",
      "source": [],
      "metadata": {
        "id": "FJu4Ds69VlCY"
      },
      "execution_count": null,
      "outputs": []
    },
    {
      "cell_type": "markdown",
      "metadata": {
        "id": "Fv4PzZnoFtN7"
      },
      "source": [
        "## Novērtēšana ar datu kopām\n"
      ]
    },
    {
      "cell_type": "markdown",
      "source": [
        "### LV-Exams datu kopa"
      ],
      "metadata": {
        "id": "HTKeJrqFE_Yj"
      }
    },
    {
      "cell_type": "code",
      "execution_count": null,
      "metadata": {
        "id": "TKri-29mFhVc",
        "colab": {
          "base_uri": "https://localhost:8080/"
        },
        "outputId": "bb6aa148-dcf4-4b31-e90d-32e636f5c6d5"
      },
      "outputs": [
        {
          "output_type": "stream",
          "name": "stdout",
          "text": [
            "Kuras iezīmes raksturīgas cunami?\n",
            "A: Tiem raksturīgi īsi viļņi un liela amplitūda. Parasti pārvietojas ar ātrumu 30 km/h. Viļņu augstums samazinās, sasniedzot piekrasti.\n",
            "B: Tiem raksturīgi gari viļņi un maza amplitūda. Ātrums dažreiz sasniedz 700 km/h. Jūras līčos seklūdens zonā strauji palielinās viļņu augstums.\n",
            "C: Tiem raksturīgi īsi viļņi, kuri veido vairākas viļņu sērijas. Viļņi ļoti strauji sasniedz sauszemi, kuras tuvumā augstums dažreiz pārsniedz 20 metrus.\n",
            "D: Stipra vēja iekustināti lieli viļņi, kuri pārvietojoties attīstās par ļoti spēcīgiem viļņiem. Jūras līčos seklūdens zonā veidojas gigantiska izmēra viļņi.\n",
            "Atbildi formātā 'Atbilde ir: X', kur X ir pareizās atbildes burts.\n",
            "\n",
            "-------------\n",
            "Expected B, full response: Atbilde ir: B\n",
            "\n",
            "========\n",
            "\n",
            "Sadedzinot divus litrus gāzveida ogļūdeņraža skābekļa pārākumā, izveidojās astoņi litri ogļskābās gāzes CO2 un desmit litru ūdens tvaika H2O. Visu vielu tilpumi mērīti vienādos apstākļos 100 °C un atmosfēras spiedienā. Kāda ir ogļūdeņraža molekulformula?\n",
            "A: CH4\n",
            "B: C2H4\n",
            "C: C4H10\n",
            "D: C8H10\n",
            "Atbildi formātā 'Atbilde ir: X', kur X ir pareizās atbildes burts.\n",
            "\n",
            "-------------\n",
            "Expected C, full response: Atbilde ir: A \n",
            "\n",
            "**Paska\n",
            "\n",
            "========\n",
            "\n",
            "Kura fizikālā lieluma precīzai raksturošanai jānorāda gan skaitliskā vērtība, gan virziens?\n",
            "A: elektriskais lādiņš\n",
            "B: magnētiskā lauka indukcija\n",
            "C: elektriskā lauka potenciāls\n",
            "D: kondensatora enerģija\n",
            "Atbildi formātā 'Atbilde ir: X', kur X ir pareizās atbildes burts.\n",
            "\n",
            "-------------\n",
            "Expected B, full response: Atbilde ir: B\n",
            "\n",
            "========\n",
            "\n",
            "Kuri ķīmiskās saites veidi ir kālija hidroksīdā KOH?\n",
            "A: jonu saite un nepolāra kovalentā saite\n",
            "B: jonu saite un polāra kovalentā saite\n",
            "C: polāra un nepolāra kovalentā saite\n",
            "D: tikai polāras kovalentās saites\n",
            "Atbildi formātā 'Atbilde ir: X', kur X ir pareizās atbildes burts.\n",
            "\n",
            "-------------\n",
            "Expected B, full response: Atbilde ir: B\n",
            "\n",
            "========\n",
            "\n",
            "Neveicot aprēķinus, nosaki, kurā gadījumā sistēmas entropija palielinās!\n",
            "A: CaCO3(c) -> CaO(c) + CO2(g)\n",
            "B: 2Mg(c) + O2(g) -> 2MgO(c)\n",
            "C: N2(g) + 3H2(g) -> 2NH3(g)\n",
            "D: CO(g) + 3H2(g) -> CH4(g) + H2O(g)\n",
            "Atbildi formātā 'Atbilde ir: X', kur X ir pareizās atbildes burts.\n",
            "\n",
            "-------------\n",
            "Expected A, full response: Atbilde ir: A\n",
            "\n",
            "\n",
            "**Izskaidro\n",
            "\n",
            "========\n",
            "\n",
            "Metāls X veido sāli XCl2. Šī sāls sastāvā jonam X ir 28 elektroni. Nosaki metālu X!\n",
            "A: Zn\n",
            "B: Cu\n",
            "C: Ni\n",
            "D: Fe\n",
            "Atbildi formātā 'Atbilde ir: X', kur X ir pareizās atbildes burts.\n",
            "\n",
            "-------------\n",
            "Expected A, full response: Atbilde ir: A \n",
            "\n",
            "**Izska\n",
            "\n",
            "========\n",
            "\n",
            "Gaisma krīt caur vienu šauru spraugu, un var novērot gaismas difrakciju. Kādā gadījumā vislabāk var novērot gaismas difrakciju?\n",
            "A: gaismas viļņa garums ir daudz īsāks nekā spraugas platums\n",
            "B: gaismas viļņa garums ir daudz garāks nekā spraugas platums\n",
            "C: gaismas viļņa garums ir salīdzināms ar spraugas platumu\n",
            "D: no situācijas apraksta nevar secināt par krītošās gaismas viļņa garumu\n",
            "Atbildi formātā 'Atbilde ir: X', kur X ir pareizās atbildes burts.\n",
            "\n",
            "-------------\n",
            "Expected C, full response: Atbilde ir: C \n",
            "\n",
            "Difrakcija\n",
            "\n",
            "========\n",
            "\n",
            "Ūdeņraža atoms sastāv no protona un elektrona. Kura mijiedarbība ir pamatā tam, ka atoms nesabrūk?\n",
            "A: gravitācijas mijiedarbība\n",
            "B: vājā mijiedarbība\n",
            "C: elektromagnētiskā mijiedarbība\n",
            "D: stiprā mijiedarbība\n",
            "Atbildi formātā 'Atbilde ir: X', kur X ir pareizās atbildes burts.\n",
            "\n",
            "-------------\n",
            "Expected C, full response: Atbilde ir: C\n",
            "\n",
            "========\n",
            "\n",
            "Kuras telpiskā zonējuma teritorijas visvairāk palielināsies, attīstoties loģistikas centram Ķekavas apkārtnē?\n",
            "A: dzīvojamais rajons ar daudzstāvu apbūvi\n",
            "B: izglītības un rekreācijas rajons\n",
            "C: darījumu rajons pilsētas perifērijā\n",
            "D: darījumu rajons pilsētas centrā\n",
            "Atbildi formātā 'Atbilde ir: X', kur X ir pareizās atbildes burts.\n",
            "\n",
            "-------------\n",
            "Expected C, full response: Atbilde ir: C\n",
            "\n",
            "========\n",
            "\n",
            "Kompleksā savienojuma [Cu(NH3)4](OH)2 ūdens šķīdumu izmanto dabisko polimēru šķīdināšanai, lai iegūtu dažādu veidu šķiedras un plēves. Kāds ir šīs vielas nosaukums pēc IUPAC nomenklatūras?\n",
            "A: tetraamīnvara hidroksīds\n",
            "B: tetraamīnkuprāta(II) hidroksīds\n",
            "C: tetraamīnvara(II) hidroksīds\n",
            "D: tetraamīnvara dihidroksīds\n",
            "Atbildi formātā 'Atbilde ir: X', kur X ir pareizās atbildes burts.\n",
            "\n",
            "-------------\n",
            "Expected C, full response: Atbilde ir: **B: tetraamī\n",
            "\n",
            "========\n",
            "\n",
            "Accuracy: 0.8\n"
          ]
        }
      ],
      "source": [
        "import re\n",
        "import random\n",
        "import requests\n",
        "from openai import OpenAI\n",
        "\n",
        "model = \"google/gemma-2-27b-it\"\n",
        "client = OpenAI(\n",
        "    base_url=models[model],\n",
        "    api_key=\"any_key\",\n",
        ")\n",
        "\n",
        "questions = requests.get(\"https://raw.githubusercontent.com/LUMII-AILab/NLP_Course/refs/heads/main/notebooks/resources/lv_exams.json\").json()\n",
        "random.seed(42)\n",
        "random.shuffle(questions)\n",
        "\n",
        "def format_question(question):\n",
        "  text = question[\"question\"] + \"\\n\"\n",
        "  for k, v in question[\"options\"].items():\n",
        "    text += f\"{k}: {v}\\n\"\n",
        "\n",
        "  return text\n",
        "\n",
        "correct = 0\n",
        "total = 0\n",
        "for q in questions[:10]:\n",
        "  prompt = format_question(q)\n",
        "  prompt += \"Atbildi formātā 'Atbilde ir: X', kur X ir pareizās atbildes burts.\\n\"\n",
        "  # prompt += \"Atbildiet uz jautājumu, atbildot ar 'A' vai 'B' vai 'C' vai 'D', un nekas cits.\\n\"\n",
        "\n",
        "\n",
        "  response = client.chat.completions.create(\n",
        "        model=model,\n",
        "        messages=[\n",
        "            {\n",
        "                \"role\": \"user\",\n",
        "                \"content\": [\n",
        "                    {\n",
        "                    \"type\": \"text\",\n",
        "                    \"text\": prompt\n",
        "                    }\n",
        "                ]\n",
        "            }\n",
        "        ],\n",
        "        temperature=1,\n",
        "        max_tokens=10,\n",
        "    )\n",
        "  response_text = response.choices[0].message.content.strip()\n",
        "  m = re.search(r\"Atbilde ir[:*\\s]*([A-Z])\", response_text, re.I | re.U)\n",
        "  model_answer = m.group(1) if m is not None else \"None\"\n",
        "  correct += model_answer == q['answer']\n",
        "  # correct += response_text == q['answer']\n",
        "  total += 1\n",
        "  print(prompt)\n",
        "  print(\"-------------\")\n",
        "  # print(f\"Expected {q['answer']}, model guessed {model_answer}, full response: {response_text}\")\n",
        "  print(f\"Expected {q['answer']}, full response: {response_text}\")\n",
        "  print(\"\\n========\\n\")\n",
        "\n",
        "print(\"Accuracy:\", correct/total)\n",
        "\n",
        "\n"
      ]
    },
    {
      "cell_type": "markdown",
      "source": [
        "### BeleBele datu kopa"
      ],
      "metadata": {
        "id": "pNOKDA3XH7XB"
      }
    },
    {
      "cell_type": "code",
      "execution_count": null,
      "metadata": {
        "id": "jp_q9EZMF6k5",
        "colab": {
          "base_uri": "https://localhost:8080/"
        },
        "outputId": "e0b00fe4-f683-48f5-86ee-e22fb0c2c1aa"
      },
      "outputs": [
        {
          "output_type": "stream",
          "name": "stdout",
          "text": [
            "Gādājiet, lai jūsu roka būtu cik vien iespējams atbrīvota, bet tai pašā laikā visas notis spēlētu pareizi; mēģiniet arī neveikt liekas kustības ar pirkstiem. Tādā veidā jūs nogurdināsiet sevi pēc iespējas mazāk. Atcerieties, ka papildu skaļumam, piemēram, uz klavierēm, nav nepieciešams spiest taustiņus ar lielu spēku. Spēlējot akordeonu, skaļuma palielināšanai plēšas tiek vilktas ar lielāku spiedienu vai ātrumu.\n",
            "Saskaņā ar fragmentu — kas nav uzskatāms par pareizu padomu sekmīgai akordeona spēlēšanai?\n",
            "A: Lai panāktu papildu skaļumu, palieliniet spēku, ar kādu spiežat taustiņus\n",
            "B: Līdz minimumam samaziniet liekas kustības, lai sevi nenogurdinātu\n",
            "C: Domājiet līdzi, kādas notis spēlējat, un vienlaikus saglabājiet atbrīvotu roku\n",
            "D: Lai panāktu papildu skaļumu, palieliniet ātrumu, ar kādu darbināt plēšas\n",
            "Atbildi formātā 'Atbilde ir: X', kur X ir pareizās atbildes burts.\n",
            "\n",
            "-------------\n",
            "Expected A, model guessed A, full response: Atbilde ir: A \n",
            "\n",
            "\n",
            "\n",
            "========\n",
            "\n",
            "Gādājiet, lai jūsu roka būtu cik vien iespējams atbrīvota, bet tai pašā laikā visas notis spēlētu pareizi; mēģiniet arī neveikt liekas kustības ar pirkstiem. Tādā veidā jūs nogurdināsiet sevi pēc iespējas mazāk. Atcerieties, ka papildu skaļumam, piemēram, uz klavierēm, nav nepieciešams spiest taustiņus ar lielu spēku. Spēlējot akordeonu, skaļuma palielināšanai plēšas tiek vilktas ar lielāku spiedienu vai ātrumu.\n",
            "Kas no minētā palīdzēs palielināt skaļumu, spēlējot akordeonu?\n",
            "A: Lielāks ātrums\n",
            "B: Lielāks spēks\n",
            "C: Mazāks spiediens\n",
            "D: Mazāk pirkstu kustību\n",
            "Atbildi formātā 'Atbilde ir: X', kur X ir pareizās atbildes burts.\n",
            "\n",
            "-------------\n",
            "Expected A, model guessed A, full response: Atbilde ir: A \n",
            "\n",
            "\n",
            "\n",
            "========\n",
            "\n",
            "Viena no izplatītākajām problēmām, mēģinot filmu pārveidot DVD formātā, ir attēla izvērse. Vairākums televīzijas programmu ir veidotas tā, lai izpatiktu plašai sabiedrībai. Šī iemesla dēļ viss, ko jūs redzat TV ekrānā, ir iepriekš apgriezts no augšas, apakšas un sāniem. Tas tiek darīts, lai nodrošinātu, ka attēls aptver visu ekrānu. To sauc par attēla izvērsi. Diemžēl, kad veidojat DVD, visticamāk, tiks nogrieztas arī tā apmales, un, ja videoklipam subtitri ir pārāk tuvu apakšai, tie netiks pilnībā parādīti.\n",
            "Kāpēc attēlam televizorā ir apgrieztas malas?\n",
            "A: Lai atstātu vietu subtitriem\n",
            "B: Lai attēls aizpildītu visu ekrānu\n",
            "C: Lai būtu vieglāk pārveidot citos formātos\n",
            "D: Lai apgrieztu subtitrus, kas ir pārāk tuvu apakšai\n",
            "Atbildi formātā 'Atbilde ir: X', kur X ir pareizās atbildes burts.\n",
            "\n",
            "-------------\n",
            "Expected B, model guessed B, full response: Atbilde ir: B\n",
            "\n",
            "\n",
            "========\n",
            "\n",
            "Viena no izplatītākajām problēmām, mēģinot filmu pārveidot DVD formātā, ir attēla izvērse. Vairākums televīzijas programmu ir veidotas tā, lai izpatiktu plašai sabiedrībai. Šī iemesla dēļ viss, ko jūs redzat TV ekrānā, ir iepriekš apgriezts no augšas, apakšas un sāniem. Tas tiek darīts, lai nodrošinātu, ka attēls aptver visu ekrānu. To sauc par attēla izvērsi. Diemžēl, kad veidojat DVD, visticamāk, tiks nogrieztas arī tā apmales, un, ja videoklipam subtitri ir pārāk tuvu apakšai, tie netiks pilnībā parādīti.\n",
            "Saskaņā ar fragmentu — kuras no turpmāk nosauktajām problēmām var rasties, filmu pārveidojot DVD formātā?\n",
            "A: Attēls neaizpilda visu ekrānu\n",
            "B: Daļēji tiek apgriezti subtitri\n",
            "C: Attēls aizpilda visu ekrānu\n",
            "D: Tiek apgrieztas malas\n",
            "Atbildi formātā 'Atbilde ir: X', kur X ir pareizās atbildes burts.\n",
            "\n",
            "-------------\n",
            "Expected B, model guessed B, full response: Atbilde ir: **B, D** \n",
            "\n",
            "========\n",
            "\n",
            "\"Amerikāņu plāns balstījās uz koordinētu uzbrukumu sākšanu no trim dažādām pusēm. Ģenerālis Džons Kadvalders uzsāktu novirzīšanas uzbrukumu pret britu garnizonu Bordentaunā, lai neļautu tiem saņemt papildspēkus. Ģenerālis Džeims Evings pie \"\"Trenton Ferry\"\" pārceltu pāri upei 700 karavīrus, ieņemtu tiltu pāri Asunpinkas pietekai un neļautu izbēgt ienaidnieku karaspēkiem. Galvenie uzbrukuma spēki, kas sastāv no 2400 vīriem, šķērsotu upi deviņas jūdzes uz ziemeļiem no Trentonas un pēc tam sadalītos divās grupās, viena būtu Grīna un otra Salivana pakļautībā, ar nolūku sākt uzbrukumu pirms rītausmas.\"\n",
            "Kur atradās britu garnizons?\n",
            "A: Pie Asunpinkas pietekas\n",
            "B: Trentonā\n",
            "C: Bordentaunā\n",
            "D: Prinstonā\n",
            "Atbildi formātā 'Atbilde ir: X', kur X ir pareizās atbildes burts.\n",
            "\n",
            "-------------\n",
            "Expected C, model guessed C, full response: Atbilde ir: C\n",
            "\n",
            "\n",
            "========\n",
            "\n",
            "\"Pēc tās pieņemšanas Kongresā 4. jūlijā, Kongresa prezidenta Džona Hankoka un sekretāra Čārlza Tomsona ar roku parakstītais dokumenta projekts tika nosūtīts Džona Dunlapa tipogrāfijai, kas atradās pāris kvartālus tālāk. Nakts laikā tika izgatavoti no 150 līdz 200 eksemplāriem, kas tagad ir zināmi kā \"\"Dunlap broadsides\"\" (Neatkarības deklarācija). Pirmo publisko dokumenta lasījumu veica Džons Niksons Neatkarības pils pagalmā 8. jūlijā. Viens eksemplārs 6. jūlijā tika nosūtīts Džordžam Vašingtonam, un 9. jūlijā viņš to nolasīja savam karapulkam Ņujorkā. Viens eksemplārs 10. augustā sasniedza Londonu. 25 \"\"Dunlap broadsides\"\", par kurām zināms, ka tās joprojām pastāv, ir visvecākās saglabājušās dokumenta kopijas. Oriģinālais, ar roku rakstītais eksemplārs nav saglabājies.\"\n",
            "Kurš parakstīja ar roku rakstīto dokumenta projektu?\n",
            "A: Džons Dunlaps\n",
            "B: Džordžs Vašingtons\n",
            "C: Džons Niksons\n",
            "D: Čārlzs Tomsons\n",
            "Atbildi formātā 'Atbilde ir: X', kur X ir pareizās atbildes burts.\n",
            "\n",
            "-------------\n",
            "Expected D, model guessed D, full response: Atbilde ir: D\n",
            "\n",
            "\n",
            "========\n",
            "\n",
            "\"Pēc tās pieņemšanas Kongresā 4. jūlijā, Kongresa prezidenta Džona Hankoka un sekretāra Čārlza Tomsona ar roku parakstītais dokumenta projekts tika nosūtīts Džona Dunlapa tipogrāfijai, kas atradās pāris kvartālus tālāk. Nakts laikā tika izgatavoti no 150 līdz 200 eksemplāriem, kas tagad ir zināmi kā \"\"Dunlap broadsides\"\" (Neatkarības deklarācija). Pirmo publisko dokumenta lasījumu veica Džons Niksons Neatkarības pils pagalmā 8. jūlijā. Viens eksemplārs 6. jūlijā tika nosūtīts Džordžam Vašingtonam, un 9. jūlijā viņš to nolasīja savam karapulkam Ņujorkā. Viens eksemplārs 10. augustā sasniedza Londonu. 25 \"\"Dunlap broadsides\"\", par kurām zināms, ka tās joprojām pastāv, ir visvecākās saglabājušās dokumenta kopijas. Oriģinālais, ar roku rakstītais eksemplārs nav saglabājies.\"\n",
            "\"Kurā no minētajām vietām pēdējā nonāca \"\"\"\"Dunlap broadside\"\"\"\"?\"\n",
            "A: Ņujorkā\n",
            "B: Dunlapa tipogrāfijā\n",
            "C: Londonā\n",
            "D: Neatkarības pilī\n",
            "Atbildi formātā 'Atbilde ir: X', kur X ir pareizās atbildes burts.\n",
            "\n",
            "-------------\n",
            "Expected C, model guessed C, full response: Atbilde ir: C\n",
            "\n",
            "\n",
            "========\n",
            "\n",
            "Kolonisti, redzot šo darbību, arī bija izsaukuši palīgspēkus. Karaspēki, kas pastiprināja priekšējās pozīcijas, ietvēra 1. un 3. Ņūhempšīras pulku ar 200 vīriem pulkvežu Džona Starka un Džeimsa Rīda vadībā (vēlāk abi kļuva par ģenerāļiem). Starka vīri ieņēma pozīcijas gar žogu ziemeļu galā no kolonistu pozīcijām. Kad bēgums pavēra plaisu gar Mistikas upi gar pussalas ziemeļaustrumu daļu, viņi ātri uz ziemeļiem izstiepa žogu ar īsu akmens sienu, kas beidzās pie ūdens daļas nelielā pludmalē. Gridlijs vai Stārks nolika pie sētas apmēram 100 pēdas (30 m) augstu mietu un pavēlēja, lai neviens nešauj, kamēr garām paiet armijas karavīri.\n",
            "Kur atradās pulkveža Starka karaspēki?\n",
            "A: Ziemeļu galā, gar žogu\n",
            "B: Pludmalē pie ūdens līnijas\n",
            "C: Gar pussalas ziemeļaustrumu daļu\n",
            "D: Priekšā žogam\n",
            "Atbildi formātā 'Atbilde ir: X', kur X ir pareizās atbildes burts.\n",
            "\n",
            "-------------\n",
            "Expected A, model guessed A, full response: Atbilde ir: A\n",
            "\n",
            "\n",
            "========\n",
            "\n",
            "Kolonisti, redzot šo darbību, arī bija izsaukuši palīgspēkus. Karaspēki, kas pastiprināja priekšējās pozīcijas, ietvēra 1. un 3. Ņūhempšīras pulku ar 200 vīriem pulkvežu Džona Starka un Džeimsa Rīda vadībā (vēlāk abi kļuva par ģenerāļiem). Starka vīri ieņēma pozīcijas gar žogu ziemeļu galā no kolonistu pozīcijām. Kad bēgums pavēra plaisu gar Mistikas upi gar pussalas ziemeļaustrumu daļu, viņi ātri uz ziemeļiem izstiepa žogu ar īsu akmens sienu, kas beidzās pie ūdens daļas nelielā pludmalē. Gridlijs vai Stārks nolika pie sētas apmēram 100 pēdas (30 m) augstu mietu un pavēlēja, lai neviens nešauj, kamēr garām paiet armijas karavīri.\n",
            "Saskaņā ar fragmentu — kad Starka vīri izstiepa žogu?\n",
            "A: Kamēr kolonisti izsauca papildspēkus\n",
            "B: Pēc tam, kad garām pagāja armijas karavīri\n",
            "C: Bēguma laikā\n",
            "D: Karaspēkiem pastiprinot priekšējās pozīcijas\n",
            "Atbildi formātā 'Atbilde ir: X', kur X ir pareizās atbildes burts.\n",
            "\n",
            "-------------\n",
            "Expected C, model guessed C, full response: Atbilde ir: C\n",
            "\n",
            "\n",
            "========\n",
            "\n",
            "Senajā Ķīnā bija unikāls veids, kā attēlot atšķirīgus laika periodus; ikviens Ķīnas attīstības posms vai ikviena ģimene, kas bija pie varas, bija atšķirīga dinastija. Turklāt starp katru dinastiju bija nestabils dalītu provinču periods. Pazīstamākais no šiem periodiem bija Trīs karaļvalstu ēra, kas ilga 60 gadus starp Han un Jiņ dinastijām. Šajos periodos daudzu dižciltīgo starpā notika nežēlīga cīņa par troni. Trīs valstu posms bija viens no asiņainākajiem laikmetiem Senās Ķīnas vēsturē, tūkstošiem cilvēku gāja bojā, cīnoties par svarīgāko vietu Siaņas lielajā pilī.\n",
            "Saskaņā ar fragmentu — kurš bija viens no Ķīnas vardarbīgākajiem periodiem?\n",
            "A: Jiņ dinastija\n",
            "B: Siaņas ēra\n",
            "C: Han dinastija\n",
            "D: Trīs karaļvalstu ēra\n",
            "Atbildi formātā 'Atbilde ir: X', kur X ir pareizās atbildes burts.\n",
            "\n",
            "-------------\n",
            "Expected D, model guessed D, full response: Atbilde ir: D\n",
            "\n",
            "\n",
            "========\n",
            "\n",
            "Accuracy: 1.0\n"
          ]
        }
      ],
      "source": [
        "import json\n",
        "import re\n",
        "import random\n",
        "import datasets\n",
        "from openai import OpenAI\n",
        "\n",
        "model = \"google/gemma-2-27b-it\"\n",
        "client = OpenAI(\n",
        "    base_url=models[model],\n",
        "    api_key=\"any_key\",\n",
        ")\n",
        "\n",
        "def format_question(question):\n",
        "  text = question[\"flores_passage\"] + \"\\n\"\n",
        "  text += question[\"question\"] + \"\\n\"\n",
        "  letters = ['A', 'B', 'C', 'D']\n",
        "  for i in range(4):\n",
        "    text += f\"{letters[i]}: {question['mc_answer'+str(i+1)]}\\n\"\n",
        "    if str(i+1) == question['correct_answer_num']:\n",
        "      question['answer'] = letters[i]\n",
        "\n",
        "  return text\n",
        "\n",
        "dataset = datasets.load_dataset('facebook/belebele', 'lvs_Latn')\n",
        "correct = 0\n",
        "total = 0\n",
        "for q in dataset['test'].select(range(10)):\n",
        "  prompt = format_question(q)\n",
        "  prompt += \"Atbildi formātā 'Atbilde ir: X', kur X ir pareizās atbildes burts.\\n\"\n",
        "\n",
        "\n",
        "  response = client.chat.completions.create(\n",
        "        model=model,\n",
        "        messages=[\n",
        "            {\n",
        "                \"role\": \"user\",\n",
        "                \"content\": [\n",
        "                    {\n",
        "                    \"type\": \"text\",\n",
        "                    \"text\": prompt\n",
        "                    }\n",
        "                ]\n",
        "            }\n",
        "        ],\n",
        "        temperature=1,\n",
        "        max_tokens=10,\n",
        "    )\n",
        "  response_text = response.choices[0].message.content\n",
        "  m = re.search(r\"Atbilde ir[:*\\s]*([A-Z])\", response_text, re.I | re.U)\n",
        "  model_answer = m.group(1) if m is not None else \"None\"\n",
        "  correct += model_answer == q['answer']\n",
        "  total += 1\n",
        "  print(prompt)\n",
        "  print(\"-------------\")\n",
        "  print(f\"Expected {q['answer']}, model guessed {model_answer}, full response: {response_text}\")\n",
        "  print(\"\\n========\\n\")\n",
        "\n",
        "\n",
        "\n",
        "print(\"Accuracy:\", correct/total)\n",
        "\n",
        "\n"
      ]
    }
  ],
  "metadata": {
    "colab": {
      "provenance": [],
      "toc_visible": true,
      "include_colab_link": true
    },
    "kernelspec": {
      "display_name": "Python 3",
      "name": "python3"
    },
    "language_info": {
      "name": "python"
    }
  },
  "nbformat": 4,
  "nbformat_minor": 0
}