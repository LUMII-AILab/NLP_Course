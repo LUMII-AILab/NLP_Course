{
  "nbformat": 4,
  "nbformat_minor": 0,
  "metadata": {
    "colab": {
      "provenance": [],
      "gpuType": "T4",
      "toc_visible": true
    },
    "kernelspec": {
      "name": "python3",
      "display_name": "Python 3"
    },
    "language_info": {
      "name": "python"
    },
    "accelerator": "GPU"
  },
  "cells": [
    {
      "cell_type": "markdown",
      "source": [
        "<a href=\"https://colab.research.google.com/github/LUMII-AILab/NLP_Course/blob/main/notebooks/MSP/TextClassificationWithBERT.ipynb\" target=\"_new\"><img src=\"https://colab.research.google.com/assets/colab-badge.svg\" alt=\"Open in Colab\"/></a>"
      ],
      "metadata": {
        "id": "fkWv6p4KNGlJ"
      }
    },
    {
      "cell_type": "markdown",
      "source": [
        "# Teksta klasificēšana ar loģistisko regresiju un BERT"
      ],
      "metadata": {
        "id": "htrlt1a3W_tI"
      }
    },
    {
      "cell_type": "markdown",
      "source": [
        "Piezīme: Colab izpildlaika vides parametros izvēlieties bezmaksas GPU (T4)."
      ],
      "metadata": {
        "id": "y1Lu0Y7KgmU_"
      }
    },
    {
      "cell_type": "markdown",
      "source": [
        "## GoEmotions datu kopa\n",
        "\n",
        "* Publikācija: https://aclanthology.org/2020.acl-main.372/\n",
        "* Oriģinālā datu kopa: https://github.com/google-research/google-research/tree/master/goemotions\n",
        "* Priekšapstrādāta **EN** versija: https://huggingface.co/datasets/google-research-datasets/go_emotions\n",
        "* Priekšapstrādāta **LV** versija: https://huggingface.co/datasets/AiLab-IMCS-UL/go_emotions-lv"
      ],
      "metadata": {
        "id": "1YyrICAj8Q0R"
      }
    },
    {
      "cell_type": "markdown",
      "source": [
        "## Loģistiskā regresija"
      ],
      "metadata": {
        "id": "POPDmG8v8Ovd"
      }
    },
    {
      "cell_type": "markdown",
      "source": [
        "### Izpildes vides sagatavošana"
      ],
      "metadata": {
        "id": "kMMoRC4fApbj"
      }
    },
    {
      "cell_type": "code",
      "source": [
        "!pip install scikit-learn\n",
        "!pip install nltk"
      ],
      "metadata": {
        "collapsed": true,
        "id": "CZHFbxVZAr9k"
      },
      "execution_count": null,
      "outputs": []
    },
    {
      "cell_type": "code",
      "source": [
        "from sklearn.linear_model import LogisticRegression\n",
        "from sklearn.model_selection import train_test_split\n",
        "from sklearn.metrics import classification_report"
      ],
      "metadata": {
        "id": "KxCPVCxmBEU3"
      },
      "execution_count": null,
      "outputs": []
    },
    {
      "cell_type": "markdown",
      "source": [
        "### Datu kopas lejupielāde"
      ],
      "metadata": {
        "id": "vvNPa42BC0rq"
      }
    },
    {
      "cell_type": "code",
      "source": [
        "!wget -q https://raw.githubusercontent.com/google-research/google-research/refs/heads/master/goemotions/data/dev.tsv\n",
        "!wget -q https://raw.githubusercontent.com/google-research/google-research/refs/heads/master/goemotions/data/train.tsv\n",
        "!wget -q https://raw.githubusercontent.com/google-research/google-research/refs/heads/master/goemotions/data/test.tsv"
      ],
      "metadata": {
        "id": "7c6czL8-E2ij",
        "collapsed": true
      },
      "execution_count": null,
      "outputs": []
    },
    {
      "cell_type": "markdown",
      "source": [
        "## BERT"
      ],
      "metadata": {
        "id": "Ldgp4KF2AeAk"
      }
    },
    {
      "cell_type": "markdown",
      "source": [
        "### Izpildes vides sagatavošana"
      ],
      "metadata": {
        "id": "skNUN8iH_0rJ"
      }
    },
    {
      "cell_type": "code",
      "source": [
        "!pip install transformers\n",
        "!pip install datasets"
      ],
      "metadata": {
        "id": "DszSNZBeXMnk",
        "collapsed": true
      },
      "execution_count": null,
      "outputs": []
    },
    {
      "cell_type": "code",
      "source": [
        "from transformers import BertForSequenceClassification, BertTokenizer\n",
        "from transformers import TrainingArguments, Trainer, DataCollatorWithPadding\n",
        "from datasets import load_dataset"
      ],
      "metadata": {
        "id": "cIqoRNUJYsi6"
      },
      "execution_count": 13,
      "outputs": []
    },
    {
      "cell_type": "markdown",
      "source": [
        "### BERT modeļa izvēle un tekstvienību dalītāja ielāde RAM\n",
        "\n",
        "* Oficiālie Google BERT modeļi - `base` un `large` versijas: https://huggingface.co/google-bert\n",
        "* Neoficiālas mazākas BERT versijas, piem., `small`: https://huggingface.co/prajjwal1/bert-small\n",
        "\n",
        "Piezīme: Obligāti jāizmanto modelim atbilstošais tekstvienību dalītājs (*tokenizer*)."
      ],
      "metadata": {
        "id": "UY41FVqWEGSf"
      }
    },
    {
      "cell_type": "code",
      "source": [
        "# Ielādē CPU atmiņā izvēlētā BERT modeļa tekstvienību dalītāju no Hugging Face\n",
        "bert_tokenizer = BertTokenizer.from_pretrained('google-bert/bert-base-uncased')"
      ],
      "metadata": {
        "id": "B5pdOfpsYuzy"
      },
      "execution_count": 14,
      "outputs": []
    },
    {
      "cell_type": "markdown",
      "source": [
        "### Datu kopas ielāde un priekšapstrāde"
      ],
      "metadata": {
        "id": "PiqYCO6xJ7fA"
      }
    },
    {
      "cell_type": "code",
      "source": [
        "def is_single_label(sample):\n",
        "    value = sample[\"labels\"]\n",
        "    if isinstance(value, (list, tuple)):\n",
        "        return len(value) == 1\n",
        "    else:\n",
        "        return False\n",
        "\n",
        "def to_int_label(sample):\n",
        "    return {\"labels\": sample[\"labels\"][0]}\n",
        "\n",
        "def tokenize(batch):\n",
        "    return bert_tokenizer(batch[\"text\"], truncation=True)"
      ],
      "metadata": {
        "id": "CWJE700-W-4x"
      },
      "execution_count": 15,
      "outputs": []
    },
    {
      "cell_type": "code",
      "source": [
        "data_set = load_dataset(\"google-research-datasets/go_emotions\", \"simplified\")\n",
        "\n",
        "filtered_data_set = data_set.filter(is_single_label)\n",
        "flattened_data_set = filtered_data_set.map(to_int_label)\n",
        "\n",
        "tokenized_data_set = flattened_data_set.map(tokenize, batched=True)\n",
        "final_data_set = tokenized_data_set.select_columns([\"input_ids\", \"labels\"])\n",
        "\n",
        "print(\"data_set:\", data_set[\"train\"][0])\n",
        "print(\"filtered_data_set:\", filtered_data_set[\"train\"][0])\n",
        "print(\"flattened_data_set:\", flattened_data_set[\"train\"][0])\n",
        "print(\"tokenized_data_set:\", tokenized_data_set[\"train\"][0])\n",
        "print(\"final_data_set:\", final_data_set[\"train\"][0])\n",
        "\n",
        "train_set = final_data_set[\"train\"]\n",
        "validation_set = final_data_set[\"validation\"]\n",
        "test_set = final_data_set[\"test\"]"
      ],
      "metadata": {
        "collapsed": true,
        "id": "y_Ez1YdXKHKA"
      },
      "execution_count": null,
      "outputs": []
    },
    {
      "cell_type": "markdown",
      "source": [
        "### Sagatavošanās bāzes modeļa pielāgošanai"
      ],
      "metadata": {
        "id": "Sva67XzZfS5z"
      }
    },
    {
      "cell_type": "code",
      "source": [
        "# Nosaka dažādo klašu skaitu apmācības datu  kopā\n",
        "label_count = len(data_set[\"train\"].features[\"labels\"].feature.names)\n",
        "print(\"label_count\", label_count)\n",
        "\n",
        "# Ielādē RAM izvēlēto BERT modeli, izveido tam atbilstošu klasificēšanas \"galvu\"\n",
        "bert_model = BertForSequenceClassification.from_pretrained(\n",
        "    'google-bert/bert-base-uncased', num_labels=label_count\n",
        ")\n",
        "\n",
        "# Nodefinē vienkāršotu novērtēšanas metriku - \"accuracy\"\n",
        "def eval_metrics(p):\n",
        "    preds = p.predictions.argmax(-1)\n",
        "    return {\"accuracy\": float((preds == p.label_ids).mean())}\n",
        "\n",
        "# Specificē modeļa apmācības hiperparametrus\n",
        "args = TrainingArguments(\n",
        "    output_dir = \"bert-base-uncased-go_emotions\",\n",
        "    learning_rate = 2e-5,              # tipiski BERT modeļiem\n",
        "    per_device_train_batch_size = 64,  # atkarībā no GPU atmiņas; var ietekmēt rezultātu\n",
        "    per_device_eval_batch_size = 128,  # atkarībā no GPU atmiņas\n",
        "    num_train_epochs = 5,\n",
        "    fp16 = True,                       # ātrdarbībai uz T4\n",
        "    metric_for_best_model = \"accuracy\",\n",
        "    save_strategy = \"epoch\",\n",
        "    eval_strategy = \"epoch\",\n",
        "    load_best_model_at_end = True,\n",
        "    report_to = \"none\"                 # neizmantot W&B servisu\n",
        ")\n",
        "\n",
        "# Izveido apmācības \"dzinēju\"\n",
        "trainer = Trainer(\n",
        "    model = bert_model,\n",
        "    args = args,\n",
        "    train_dataset = train_set,\n",
        "    eval_dataset = validation_set,\n",
        "    compute_metrics = eval_metrics,\n",
        "    processing_class = bert_tokenizer,\n",
        "    data_collator = DataCollatorWithPadding(bert_tokenizer)\n",
        ")"
      ],
      "metadata": {
        "id": "lXLkrGL6faPy"
      },
      "execution_count": null,
      "outputs": []
    },
    {
      "cell_type": "markdown",
      "source": [
        "### Bāzes modeļa pielāgošana klasificēšanas uzdevumam"
      ],
      "metadata": {
        "id": "yfLcePIjta-i"
      }
    },
    {
      "cell_type": "code",
      "source": [
        "trainer.train()"
      ],
      "metadata": {
        "colab": {
          "base_uri": "https://localhost:8080/",
          "height": 284
        },
        "id": "UjgJeYSbM82Q",
        "outputId": "fc40e6f9-f873-4354-83e2-eb5e1718ad75"
      },
      "execution_count": 27,
      "outputs": [
        {
          "output_type": "display_data",
          "data": {
            "text/plain": [
              "<IPython.core.display.HTML object>"
            ],
            "text/html": [
              "\n",
              "    <div>\n",
              "      \n",
              "      <progress value='2840' max='2840' style='width:300px; height:20px; vertical-align: middle;'></progress>\n",
              "      [2840/2840 11:22, Epoch 5/5]\n",
              "    </div>\n",
              "    <table border=\"1\" class=\"dataframe\">\n",
              "  <thead>\n",
              " <tr style=\"text-align: left;\">\n",
              "      <th>Epoch</th>\n",
              "      <th>Training Loss</th>\n",
              "      <th>Validation Loss</th>\n",
              "      <th>Accuracy</th>\n",
              "    </tr>\n",
              "  </thead>\n",
              "  <tbody>\n",
              "    <tr>\n",
              "      <td>1</td>\n",
              "      <td>1.888300</td>\n",
              "      <td>1.400555</td>\n",
              "      <td>0.600704</td>\n",
              "    </tr>\n",
              "    <tr>\n",
              "      <td>2</td>\n",
              "      <td>1.320400</td>\n",
              "      <td>1.289372</td>\n",
              "      <td>0.622911</td>\n",
              "    </tr>\n",
              "    <tr>\n",
              "      <td>3</td>\n",
              "      <td>1.147800</td>\n",
              "      <td>1.281488</td>\n",
              "      <td>0.620053</td>\n",
              "    </tr>\n",
              "    <tr>\n",
              "      <td>4</td>\n",
              "      <td>1.037400</td>\n",
              "      <td>1.299102</td>\n",
              "      <td>0.621152</td>\n",
              "    </tr>\n",
              "    <tr>\n",
              "      <td>5</td>\n",
              "      <td>0.928600</td>\n",
              "      <td>1.329054</td>\n",
              "      <td>0.614336</td>\n",
              "    </tr>\n",
              "  </tbody>\n",
              "</table><p>"
            ]
          },
          "metadata": {}
        },
        {
          "output_type": "execute_result",
          "data": {
            "text/plain": [
              "TrainOutput(global_step=2840, training_loss=1.2214983658051826, metrics={'train_runtime': 682.411, 'train_samples_per_second': 266.027, 'train_steps_per_second': 4.162, 'total_flos': 3611501508638112.0, 'train_loss': 1.2214983658051826, 'epoch': 5.0})"
            ]
          },
          "metadata": {},
          "execution_count": 27
        }
      ]
    },
    {
      "cell_type": "markdown",
      "source": [
        "### Labākās pielāgotās versijas testēšana"
      ],
      "metadata": {
        "id": "9mbSqUSXts6u"
      }
    },
    {
      "cell_type": "code",
      "source": [
        "trainer.evaluate(test_set)"
      ],
      "metadata": {
        "colab": {
          "base_uri": "https://localhost:8080/",
          "height": 141
        },
        "id": "NehMTD24soSI",
        "outputId": "c1ebbf1f-059d-4813-d9c6-9e41b8944715"
      },
      "execution_count": 28,
      "outputs": [
        {
          "output_type": "display_data",
          "data": {
            "text/plain": [
              "<IPython.core.display.HTML object>"
            ],
            "text/html": [
              "\n",
              "    <div>\n",
              "      \n",
              "      <progress value='36' max='36' style='width:300px; height:20px; vertical-align: middle;'></progress>\n",
              "      [36/36 00:02]\n",
              "    </div>\n",
              "    "
            ]
          },
          "metadata": {}
        },
        {
          "output_type": "execute_result",
          "data": {
            "text/plain": [
              "{'eval_loss': 1.2845581769943237,\n",
              " 'eval_accuracy': 0.6250544662309369,\n",
              " 'eval_runtime': 2.4701,\n",
              " 'eval_samples_per_second': 1858.224,\n",
              " 'eval_steps_per_second': 14.574,\n",
              " 'epoch': 5.0}"
            ]
          },
          "metadata": {},
          "execution_count": 28
        }
      ]
    }
  ]
}