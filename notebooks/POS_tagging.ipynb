{
  "nbformat": 4,
  "nbformat_minor": 0,
  "metadata": {
    "colab": {
      "provenance": [],
      "toc_visible": true,
      "include_colab_link": true
    },
    "kernelspec": {
      "name": "python3",
      "display_name": "Python 3"
    },
    "language_info": {
      "name": "python"
    }
  },
  "cells": [
    {
      "cell_type": "markdown",
      "metadata": {
        "id": "view-in-github",
        "colab_type": "text"
      },
      "source": [
        "<a href=\"https://colab.research.google.com/github/LUMII-AILab/NLP_Course/blob/main/notebooks/POS_tagging.ipynb\" target=\"_parent\"><img src=\"https://colab.research.google.com/assets/colab-badge.svg\" alt=\"Open In Colab\"/></a>"
      ]
    },
    {
      "cell_type": "markdown",
      "source": [
        "## Some tools for Part of Speech (POS) Tagging  "
      ],
      "metadata": {
        "id": "xKeDcPb7dvra"
      }
    },
    {
      "cell_type": "code",
      "source": [
        "!pip install nltk spacy stanza\n",
        "import nltk\n",
        "import spacy\n",
        "import stanza"
      ],
      "metadata": {
        "id": "dHqh9c2ceS-5"
      },
      "execution_count": null,
      "outputs": []
    },
    {
      "cell_type": "markdown",
      "source": [
        "# POS tagging with NLTK"
      ],
      "metadata": {
        "id": "0y53N3s2j5DD"
      }
    },
    {
      "cell_type": "code",
      "execution_count": null,
      "metadata": {
        "id": "DuGo-jadcztt"
      },
      "outputs": [],
      "source": [
        "nltk.download('punkt_tab') # before 'punkt'\n",
        "from nltk.tokenize import word_tokenize\n",
        "\n",
        "\n",
        "text='Time flies like an arrow.'\n",
        "tokens=word_tokenize(text)\n",
        "print(tokens)\n",
        "\n",
        "nltk.download('averaged_perceptron_tagger_eng') #before averaged_perceptron_tagger\n",
        "\n",
        "nltk.pos_tag(tokens)"
      ]
    },
    {
      "cell_type": "markdown",
      "source": [
        "# POS tagging with Spacy"
      ],
      "metadata": {
        "id": "-Ut47zmcdrpd"
      }
    },
    {
      "cell_type": "code",
      "source": [
        "nlp=spacy.load(\"en_core_web_sm\")\n",
        "spacy_doc=nlp(text)\n",
        "for token in spacy_doc:\n",
        "     print(token,token.pos_)"
      ],
      "metadata": {
        "id": "Vp0b0KjHkQ2l"
      },
      "execution_count": null,
      "outputs": []
    },
    {
      "cell_type": "markdown",
      "source": [
        "# POS tagging with Stanza"
      ],
      "metadata": {
        "id": "CGUkTU7cq-I9"
      }
    },
    {
      "cell_type": "code",
      "source": [
        "nlp = stanza.Pipeline(lang='en', processors='tokenize,pos', logging_level=\"ERROR\")\n",
        "doc = nlp(text)\n",
        "print(*[f'{word.text}\\t{word.upos}' for sent in doc.sentences for word in sent.words], sep='\\n')"
      ],
      "metadata": {
        "id": "_a49br5Mq9cW"
      },
      "execution_count": null,
      "outputs": []
    },
    {
      "cell_type": "code",
      "source": [
        "lv_text = \"Laiks skrien vēja spārniem.\"\n",
        "\n",
        "nlp_lv = stanza.Pipeline(lang='lv', processors='tokenize,pos', logging_level=\"ERROR\")\n",
        "doc = nlp_lv(lv_text)\n",
        "print(*[f'{word.text}\\t{word.upos}' for sent in doc.sentences for word in sent.words], sep='\\n')"
      ],
      "metadata": {
        "id": "Qn60Iwmsr8E9"
      },
      "execution_count": null,
      "outputs": []
    },
    {
      "cell_type": "markdown",
      "source": [
        "# BERT-based POS taggers"
      ],
      "metadata": {
        "id": "MF42dQ8FdsiL"
      }
    },
    {
      "cell_type": "code",
      "source": [
        "#Example from Hugging Face: https://huggingface.co/QCRI/bert-base-multilingual-cased-pos-english\n",
        "\n",
        "from transformers import AutoTokenizer, AutoModelForTokenClassification, TokenClassificationPipeline\n",
        "\n",
        "model_name = \"QCRI/bert-base-multilingual-cased-pos-english\"\n",
        "tokenizer = AutoTokenizer.from_pretrained(model_name)\n",
        "model = AutoModelForTokenClassification.from_pretrained(model_name)\n",
        "\n",
        "pipeline = TokenClassificationPipeline(model=model, tokenizer=tokenizer)\n",
        "outputs = pipeline(\"Time flies like an arrow.\")\n",
        "print(outputs)"
      ],
      "metadata": {
        "id": "qk9kZH6C0L9G"
      },
      "execution_count": null,
      "outputs": []
    },
    {
      "cell_type": "code",
      "source": [
        "import tensorflow as tf\n",
        "from transformers import BertTokenizer, TFBertForTokenClassification\n",
        "\n",
        "\n",
        "# Load the BERT tokenizer\n",
        "tokenizer = BertTokenizer.from_pretrained('bert-base-uncased')\n",
        "\n",
        "# Tokenize input text\n",
        "input_tokens = tokenizer.tokenize(text)\n",
        "input_ids = tokenizer.convert_tokens_to_ids(input_tokens)\n",
        "\n",
        "# Load the BERT model for POS tagging\n",
        "model = TFBertForTokenClassification.from_pretrained('bert-base-uncased')\n",
        "\n",
        "# Predict POS tags for the input text\n",
        "predictions = model(tf.expand_dims(input_ids, 0))\n",
        "predicted_tags = [tokenizer.convert_ids_to_tokens([i])[0] for i in tf.argmax(predictions[0], axis=2).numpy()[0]]\n",
        "\n",
        "# Print the input text and the predicted POS tags\n",
        "print(f'Input text: {text}')\n",
        "print(f'Predicted POS tags: {predicted_tags}')"
      ],
      "metadata": {
        "id": "NAIjIyMltj-h"
      },
      "execution_count": null,
      "outputs": []
    },
    {
      "cell_type": "markdown",
      "source": [
        "# FLAIR"
      ],
      "metadata": {
        "id": "5h-FZEJt6Tzu"
      }
    },
    {
      "cell_type": "code",
      "source": [
        "!pip install flair\n",
        "\n",
        "from flair.data import Sentence\n",
        "from flair.models import SequenceTagger\n",
        "\n",
        "# load tagger\n",
        "tagger = SequenceTagger.load(\"flair/pos-english\")\n",
        "\n",
        "# make example sentence\n",
        "sentence = Sentence(\"Time flies like an arrow.\")\n",
        "\n",
        "# predict NER tags\n",
        "tagger.predict(sentence)\n",
        "\n",
        "# print sentence\n",
        "print(sentence)\n",
        "\n",
        "# print predicted NER spans\n",
        "print('The following NER tags are found:')\n",
        "# iterate over entities and print\n",
        "for entity in sentence.get_spans('pos'):\n",
        "    print(entity)"
      ],
      "metadata": {
        "id": "wA01tDzi6XhK"
      },
      "execution_count": null,
      "outputs": []
    }
  ]
}