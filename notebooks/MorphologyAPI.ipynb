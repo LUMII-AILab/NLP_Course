{
  "nbformat": 4,
  "nbformat_minor": 0,
  "metadata": {
    "colab": {
      "provenance": [],
      "authorship_tag": "ABX9TyMS0IMVChNH/Lj7Br+tm+92",
      "include_colab_link": true
    },
    "kernelspec": {
      "name": "python3",
      "display_name": "Python 3"
    },
    "language_info": {
      "name": "python"
    }
  },
  "cells": [
    {
      "cell_type": "markdown",
      "metadata": {
        "id": "view-in-github",
        "colab_type": "text"
      },
      "source": [
        "<a href=\"https://colab.research.google.com/github/LUMII-AILab/NLP_Course/blob/main/notebooks/MorphologyAPI.ipynb\" target=\"_parent\"><img src=\"https://colab.research.google.com/assets/colab-badge.svg\" alt=\"Open In Colab\"/></a>"
      ]
    },
    {
      "cell_type": "markdown",
      "source": [
        "# Tēzaurs morhpology rīks\n",
        "### API izsaukšana\n",
        "Tēzaurā ir pieejami dažādi latviešu valodas vārdu apstrādes un locīšanas rīki, kas primāri balstās uz likumos balstītu vārdu apstrādi. <br>\n",
        "Plašākiem pielietojumiem skatīt: https://api.tezaurs.lv/\n"
      ],
      "metadata": {
        "id": "GLIeDRVXGoa-"
      }
    },
    {
      "cell_type": "code",
      "source": [
        "import requests  # Import the requests library\n",
        "import pprint"
      ],
      "metadata": {
        "id": "TG1CO8AzECw5"
      },
      "execution_count": 5,
      "outputs": []
    },
    {
      "cell_type": "code",
      "source": [
        "def api_call(url):\n",
        "    response = requests.get(url)  # Make a GET request to the URL\n",
        "\n",
        "    # Print status code (and associated text)\n",
        "    print(f\"Request returned {response.status_code} : '{response.reason}'\")\n",
        "\n",
        "    # Print data returned (parsing as JSON)\n",
        "    payload = response.json()  # Parse `response.text` into JSON\n",
        "\n",
        "    return payload"
      ],
      "metadata": {
        "id": "oaowJDfjEoNS"
      },
      "execution_count": 24,
      "outputs": []
    },
    {
      "cell_type": "markdown",
      "source": [
        "### Morfoloģiskā analīze"
      ],
      "metadata": {
        "id": "lljCn5jJEU6M"
      }
    },
    {
      "cell_type": "markdown",
      "source": [
        "Tēzaura API, kas veic individuāla vārda morfoloģisko analīzi.<br>\n",
        "Rezultātā izvadā dod visas iespējamās vārdu homoformas, kas atbilst dotajam ievada vārdam."
      ],
      "metadata": {
        "id": "cmZDofH6E8gf"
      }
    },
    {
      "cell_type": "code",
      "source": [
        "analyze_url = \"http://api.tezaurs.lv:8182/analyze/\"\n",
        "\n",
        "def analyze_word(word):\n",
        "    options = api_call(analyze_url + word)\n",
        "    for lemma in options:\n",
        "        print(lemma[\"Pamatforma\"], lemma)"
      ],
      "metadata": {
        "id": "xuDpB8hOLgj1"
      },
      "execution_count": 38,
      "outputs": []
    },
    {
      "cell_type": "code",
      "source": [
        "# Šeit atbilstoši pamata leksēma var būt \"roka\" (ķermeņa daļa) vai arī \"roks\" (\"mūzikas žanrs\")\n",
        "analyze_word(\"roku\")"
      ],
      "metadata": {
        "id": "mE2EZzZfEGmz"
      },
      "execution_count": null,
      "outputs": []
    },
    {
      "cell_type": "code",
      "source": [
        "# Identiskas formas vienskaitļa akuzatīvā un dauzskaitļa ģenetīvā\n",
        "analyze_word(\"medu\")"
      ],
      "metadata": {
        "id": "mNI3MlTqFdhx"
      },
      "execution_count": null,
      "outputs": []
    },
    {
      "cell_type": "markdown",
      "source": [
        "### Vārdformu ģenerēšana\n"
      ],
      "metadata": {
        "id": "q9OBoZ9pHtTf"
      }
    },
    {
      "cell_type": "markdown",
      "source": [
        "Tēzaura API, kas veic individuāla vārda visu potenciālo locījuma formu ģenerēšanu.<br>\n",
        "Atsevišķām vārdšķirām ir nepieciešams sniegt papildus informāciju par saknes alternatīvām formām."
      ],
      "metadata": {
        "id": "XUiPCNdgMvgw"
      }
    },
    {
      "cell_type": "code",
      "source": [
        "generate_url = \"https://api.tezaurs.lv/v1/inflections/\"\n",
        "\n",
        "def generate_wordforms(word, paradigm, **kwargs):\n",
        "    url = generate_url + word + \"?paradigm=\" + paradigm\n",
        "    for arg in kwargs:\n",
        "        url += \"&\" + arg + \"=\" + kwargs.get(arg)\n",
        "    options = api_call(url)\n",
        "    for word in options:\n",
        "        for lemma in word:\n",
        "            print(lemma[\"Vārds\"], lemma)"
      ],
      "metadata": {
        "id": "mwLGiR4uNVF2"
      },
      "execution_count": 65,
      "outputs": []
    },
    {
      "cell_type": "code",
      "execution_count": null,
      "metadata": {
        "id": "0aBVeMUICjls"
      },
      "outputs": [],
      "source": [
        "generate_wordforms(\"doma\", \"noun-4f\")"
      ]
    },
    {
      "cell_type": "code",
      "source": [
        "generate_wordforms(\"ēst\", \"verb-1\", Stem1=\"ēs\", stem2=\"ēd\", stem3=\"ēd\")"
      ],
      "metadata": {
        "id": "tHkTROpqRaLF"
      },
      "execution_count": null,
      "outputs": []
    }
  ]
}