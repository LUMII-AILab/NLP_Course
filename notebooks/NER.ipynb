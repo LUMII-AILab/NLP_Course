{
  "nbformat": 4,
  "nbformat_minor": 0,
  "metadata": {
    "colab": {
      "provenance": [],
      "authorship_tag": "ABX9TyMJI8IdwsKO2dLzerUkqB9Q",
      "include_colab_link": true
    },
    "kernelspec": {
      "name": "python3",
      "display_name": "Python 3"
    },
    "language_info": {
      "name": "python"
    }
  },
  "cells": [
    {
      "cell_type": "markdown",
      "metadata": {
        "id": "view-in-github",
        "colab_type": "text"
      },
      "source": [
        "<a href=\"https://colab.research.google.com/github/LUMII-AILab/NLP_Course/blob/main/notebooks/NER.ipynb\" target=\"_parent\"><img src=\"https://colab.research.google.com/assets/colab-badge.svg\" alt=\"Open In Colab\"/></a>"
      ]
    },
    {
      "cell_type": "markdown",
      "source": [
        "# **NER**: Nosaukto entitāšu marķēšana | Named Entity Recognition"
      ],
      "metadata": {
        "id": "0_7g1SK40Lbb"
      }
    },
    {
      "cell_type": "markdown",
      "source": [
        "## Flair"
      ],
      "metadata": {
        "id": "-EfiuYed0SP6"
      }
    },
    {
      "cell_type": "markdown",
      "source": [
        "![image.png](data:image/png;base64,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)"
      ],
      "metadata": {
        "id": "IVrgOusXrlkk"
      }
    },
    {
      "cell_type": "markdown",
      "source": [
        "Flair allows to apply state-of-the-art natural language processing (NLP) models to text, such as named entity recognition (NER), sentiment analysis, part-of-speech tagging (PoS), etc. More info: https://github.com/flairNLP/flair"
      ],
      "metadata": {
        "id": "bTTstXkc0Gts"
      }
    },
    {
      "cell_type": "markdown",
      "source": [
        "### Setting up the environment"
      ],
      "metadata": {
        "id": "fElewPNO5geV"
      }
    },
    {
      "cell_type": "code",
      "execution_count": null,
      "metadata": {
        "collapsed": true,
        "id": "SjpzOn9h2ipL"
      },
      "outputs": [],
      "source": [
        "!pip install flair"
      ]
    },
    {
      "cell_type": "code",
      "source": [
        "from flair.data import Sentence\n",
        "from flair.nn import Classifier\n",
        "from flair.data import Corpus\n",
        "from flair.trainers import ModelTrainer\n",
        "from flair.models import SequenceTagger\n",
        "from flair.datasets import ColumnCorpus\n",
        "from flair.embeddings import TokenEmbeddings, WordEmbeddings, StackedEmbeddings, PooledFlairEmbeddings\n",
        "from typing import List"
      ],
      "metadata": {
        "id": "cJ_o8iLi5aC0"
      },
      "execution_count": null,
      "outputs": []
    },
    {
      "cell_type": "markdown",
      "source": [
        "___\n",
        "NER tagging"
      ],
      "metadata": {
        "id": "oXpIVJP2mRTi"
      }
    },
    {
      "cell_type": "code",
      "source": [
        "def ner_tag(sentence, model='ner'):\n",
        "    # make a sentence\n",
        "    sentence = Sentence(sentence)\n",
        "\n",
        "    # load the NER tagger\n",
        "    tagger = Classifier.load(model)\n",
        "\n",
        "    # run NER over sentence\n",
        "    tagger.predict(sentence)\n",
        "\n",
        "    return sentence"
      ],
      "metadata": {
        "id": "Uoh2moi_5-rP"
      },
      "execution_count": null,
      "outputs": []
    },
    {
      "cell_type": "code",
      "source": [
        "example = \"George Washington was the first president of the United States of America.\"\n",
        "sentence = ner_tag(example)\n",
        "# print the sentence with all annotations\n",
        "print(sentence)"
      ],
      "metadata": {
        "id": "oj4JNy8T6Zpy"
      },
      "execution_count": null,
      "outputs": []
    },
    {
      "cell_type": "code",
      "source": [
        "for entity in sentence.get_spans('ner'):\n",
        "    print(entity)"
      ],
      "metadata": {
        "id": "66cf1qSI7VBV"
      },
      "execution_count": null,
      "outputs": []
    },
    {
      "cell_type": "markdown",
      "source": [
        "___\n",
        "**Different NER models offered by Flair**\n",
        "___\n",
        "Standard Flair NER model offers 4 classes:\n",
        "* PER (person),\n",
        "* ORG (organization),\n",
        "* LOC (location),\n",
        "* MISC (miscellanious)\n",
        "\n",
        "\n",
        "Alternatively the 'ner-ontonotes-large' offers 18 seperate classes."
      ],
      "metadata": {
        "id": "PLu-_uwPl0By"
      }
    },
    {
      "cell_type": "code",
      "source": [
        "sentence = 'On September 1st George won 1 dollar while watching Game of Thrones.'\n",
        "\n",
        "# Standard Flair NER model offer\n",
        "ner_tag(sentence)\n",
        "# Expanded NER model\n",
        "ner_tag(sentence, 'ner-ontonotes-large')"
      ],
      "metadata": {
        "collapsed": true,
        "id": "4KmD260Gl5VK"
      },
      "execution_count": null,
      "outputs": []
    },
    {
      "cell_type": "markdown",
      "source": [
        "### Training a custom Flair NER model\n",
        "\n",
        "\n",
        "Example of code for training English NER model: https://github.com/flairNLP/flair/blob/master/resources/docs/EXPERIMENTS.md"
      ],
      "metadata": {
        "id": "V5UqmbBRw-6r"
      }
    },
    {
      "cell_type": "code",
      "source": [
        "!git clone https://github.com/flairNLP/CleanCoNLL.git"
      ],
      "metadata": {
        "id": "cJ5fZRJ1HkHH"
      },
      "execution_count": null,
      "outputs": []
    },
    {
      "cell_type": "code",
      "source": [
        "%cd CleanCoNLL/\n",
        "!chmod u+x create_cleanconll_from_conll03.sh\n",
        "!SCRIPT_ROOT=. bash create_cleanconll_from_conll03.sh\n",
        "%cd .."
      ],
      "metadata": {
        "id": "6h5ZsyuRLC3D"
      },
      "execution_count": null,
      "outputs": []
    },
    {
      "cell_type": "code",
      "source": [
        "# # define columns\n",
        "columns = {0 : 'text', 1 : 'pos', 2 : 'wiki', 3 : 'ner', 4 : 'ner_old'}\n",
        "\n",
        "# # directory where the data resides\n",
        "data_folder = 'CleanCoNLL/data/cleanconll/'\n",
        "\n",
        "# initializing the corpus\n",
        "corpus: Corpus = ColumnCorpus(data_folder, columns,\n",
        "                              train_file='cleanconll.train',\n",
        "                              test_file='cleanconll.test',\n",
        "                              dev_file='cleanconll.dev')"
      ],
      "metadata": {
        "id": "Krh7jsQuIife"
      },
      "execution_count": null,
      "outputs": []
    },
    {
      "cell_type": "code",
      "source": [
        "# tag to predict\n",
        "tag_type = 'ner'\n",
        "\n",
        "# make tag dictionary from the corpus\n",
        "tag_dictionary = corpus.make_label_dictionary(label_type=tag_type)"
      ],
      "metadata": {
        "id": "_OyIIheEK15J"
      },
      "execution_count": null,
      "outputs": []
    },
    {
      "cell_type": "code",
      "source": [
        "# initialize embeddings\n",
        "embedding_types: List[TokenEmbeddings] = [\n",
        "\n",
        "    # GloVe embeddings\n",
        "    WordEmbeddings('glove'),\n",
        "\n",
        "    # contextual string embeddings, forward\n",
        "    PooledFlairEmbeddings('news-forward', pooling='min'),\n",
        "\n",
        "    # contextual string embeddings, backward\n",
        "    PooledFlairEmbeddings('news-backward', pooling='min'),\n",
        "]\n",
        "\n",
        "\n",
        "embeddings : StackedEmbeddings = StackedEmbeddings(embeddings=embedding_types)\n",
        "\n",
        "tagger : SequenceTagger = SequenceTagger(hidden_size=256,\n",
        "                                       embeddings=embeddings,\n",
        "                                       tag_dictionary=tag_dictionary,\n",
        "                                       tag_type=tag_type,\n",
        "                                       use_crf=True)\n",
        "print(tagger)"
      ],
      "metadata": {
        "id": "4q_iRCRgLArc"
      },
      "execution_count": null,
      "outputs": []
    },
    {
      "cell_type": "code",
      "source": [
        "trainer: ModelTrainer = ModelTrainer(tagger, corpus)\n",
        "\n",
        "trainer.train('resources/taggers/example-ner',\n",
        "              train_with_dev=True,\n",
        "              max_epochs=10)"
      ],
      "metadata": {
        "id": "DNChcrWNMYTQ"
      },
      "execution_count": null,
      "outputs": []
    },
    {
      "cell_type": "code",
      "source": [
        "# load the trained model\n",
        "model = SequenceTagger.load('resources/taggers/example-ner/final-model.pt')\n",
        "\n",
        "# create example sentence\n",
        "sentence = Sentence('I love Berlin')\n",
        "\n",
        "# predict the tags\n",
        "model.predict(sentence)\n",
        "\n",
        "print(sentence.to_tagged_string())"
      ],
      "metadata": {
        "id": "ZYg3Vx-OLxIY"
      },
      "execution_count": null,
      "outputs": []
    },
    {
      "cell_type": "markdown",
      "source": [
        "## LV-PIPE API: NER latviešu valodas tekstam | NER for Latvian"
      ],
      "metadata": {
        "id": "fKN8DLc01Zgo"
      }
    },
    {
      "cell_type": "code",
      "source": [
        "import requests\n",
        "import urllib\n",
        "import json\n",
        "\n",
        "text_lv = \"Ģertrūdes ielas teātris aicina uz Baltijas neatkarīgo teātru viesizrādēm, kas notiks 3. aprīlī.\"\n",
        "\n",
        "\n",
        "# Calls the LV-PIPE REST API\n",
        "def process_lvpipe(text, steps=None, api_url=\"https://nlp.ailab.lv/api/nlp\"):\n",
        "    steps = steps or ['tokenizer', 'morpho', 'parser', 'ner']\n",
        "\n",
        "    response = requests.post(api_url, json={'data': {'text': text}, 'steps': steps})\n",
        "    return response.json()['data']\n",
        "\n",
        "\n",
        "doc = process_lvpipe(text_lv)\n",
        "\n",
        "with open(\"lvpipe_output.json\", 'w') as f:\n",
        "    json.dump(doc, f, indent=4, ensure_ascii=False)\n",
        "\n",
        "with open(\"lvpipe_output.json\", 'r') as f:\n",
        "    print(f.read())"
      ],
      "metadata": {
        "id": "J849Z1aW2hjC"
      },
      "execution_count": null,
      "outputs": []
    },
    {
      "cell_type": "code",
      "source": [
        "with open(\"lvpipe_output.json\", encoding=\"utf-8\") as j_file:\n",
        "    data = json.load(j_file)\n",
        "    sents = data[\"sentences\"]\n",
        "    for sent in sents:\n",
        "        if sent[\"ner\"]:\n",
        "            for ner in sent[\"ner\"]:\n",
        "                print(ner)"
      ],
      "metadata": {
        "id": "nGeWqf1j2nba"
      },
      "execution_count": null,
      "outputs": []
    }
  ]
}