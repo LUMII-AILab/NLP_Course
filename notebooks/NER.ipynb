{
  "nbformat": 4,
  "nbformat_minor": 0,
  "metadata": {
    "colab": {
      "provenance": [],
      "authorship_tag": "ABX9TyORuaklyRjsHlQhac4rSBMr",
      "include_colab_link": true
    },
    "kernelspec": {
      "name": "python3",
      "display_name": "Python 3"
    },
    "language_info": {
      "name": "python"
    }
  },
  "cells": [
    {
      "cell_type": "markdown",
      "metadata": {
        "id": "view-in-github",
        "colab_type": "text"
      },
      "source": [
        "<a href=\"https://colab.research.google.com/github/LUMII-AILab/NLP_Course/blob/main/notebooks/NER.ipynb\" target=\"_parent\"><img src=\"https://colab.research.google.com/assets/colab-badge.svg\" alt=\"Open In Colab\"/></a>"
      ]
    },
    {
      "cell_type": "markdown",
      "source": [
        "### Setting up the environment"
      ],
      "metadata": {
        "id": "fElewPNO5geV"
      }
    },
    {
      "cell_type": "code",
      "execution_count": null,
      "metadata": {
        "collapsed": true,
        "id": "SjpzOn9h2ipL"
      },
      "outputs": [],
      "source": [
        "!pip install flair"
      ]
    },
    {
      "cell_type": "code",
      "source": [
        "from flair.data import Sentence\n",
        "from flair.nn import Classifier\n",
        "from flair.data import Corpus\n",
        "from flair.trainers import ModelTrainer\n",
        "from flair.models import SequenceTagger\n",
        "from flair.datasets import ColumnCorpus\n",
        "from flair.embeddings import TokenEmbeddings, WordEmbeddings, StackedEmbeddings, PooledFlairEmbeddings\n",
        "from typing import List"
      ],
      "metadata": {
        "id": "cJ_o8iLi5aC0"
      },
      "execution_count": null,
      "outputs": []
    },
    {
      "cell_type": "markdown",
      "source": [
        "___\n",
        "NER tagging"
      ],
      "metadata": {
        "id": "oXpIVJP2mRTi"
      }
    },
    {
      "cell_type": "code",
      "source": [
        "def ner_tag(sentence, model='ner'):\n",
        "    # make a sentence\n",
        "    sentence = Sentence(sentence)\n",
        "\n",
        "    # load the NER tagger\n",
        "    tagger = Classifier.load(model)\n",
        "\n",
        "    # run NER over sentence\n",
        "    tagger.predict(sentence)\n",
        "\n",
        "    return sentence"
      ],
      "metadata": {
        "id": "Uoh2moi_5-rP"
      },
      "execution_count": null,
      "outputs": []
    },
    {
      "cell_type": "code",
      "source": [
        "example = \"George Washington was the first president of the United States of America.\"\n",
        "sentence = ner_tag(example)\n",
        "# print the sentence with all annotations\n",
        "print(sentence)"
      ],
      "metadata": {
        "id": "oj4JNy8T6Zpy"
      },
      "execution_count": null,
      "outputs": []
    },
    {
      "cell_type": "code",
      "source": [
        "for entity in sentence.get_spans('ner'):\n",
        "    print(entity)"
      ],
      "metadata": {
        "id": "66cf1qSI7VBV"
      },
      "execution_count": null,
      "outputs": []
    },
    {
      "cell_type": "markdown",
      "source": [
        "___\n",
        "**Different NER models offered by Flair**\n",
        "___\n",
        "Standard Flair NER model offers 4 classes:\n",
        "* PER (person),\n",
        "* ORG (organization),\n",
        "* LOC (location),\n",
        "* MISC (miscellanious)\n",
        "\n",
        "\n",
        "Alternatively the 'ner-ontonotes-large' offers 18 seperate classes."
      ],
      "metadata": {
        "id": "PLu-_uwPl0By"
      }
    },
    {
      "cell_type": "code",
      "source": [
        "sentence = 'On September 1st George won 1 dollar while watching Game of Thrones.'\n",
        "\n",
        "# Standard Flair NER model offer\n",
        "ner_tag(sentence)\n",
        "# Expanded NER model\n",
        "ner_tag(sentence, 'ner-ontonotes-large')"
      ],
      "metadata": {
        "collapsed": true,
        "id": "4KmD260Gl5VK"
      },
      "execution_count": null,
      "outputs": []
    },
    {
      "cell_type": "markdown",
      "source": [
        "### Training a custom Flair NER model\n",
        "\n",
        "\n",
        "Example of code for training English NER model: https://github.com/flairNLP/flair/blob/master/resources/docs/EXPERIMENTS.md"
      ],
      "metadata": {
        "id": "V5UqmbBRw-6r"
      }
    },
    {
      "cell_type": "code",
      "source": [
        "!git clone https://github.com/flairNLP/CleanCoNLL.git"
      ],
      "metadata": {
        "id": "cJ5fZRJ1HkHH"
      },
      "execution_count": null,
      "outputs": []
    },
    {
      "cell_type": "code",
      "source": [
        "%cd CleanCoNLL/\n",
        "!chmod u+x create_cleanconll_from_conll03.sh\n",
        "!SCRIPT_ROOT=. bash create_cleanconll_from_conll03.sh\n",
        "%cd .."
      ],
      "metadata": {
        "id": "6h5ZsyuRLC3D"
      },
      "execution_count": null,
      "outputs": []
    },
    {
      "cell_type": "code",
      "source": [
        "# # define columns\n",
        "columns = {0 : 'text', 1 : 'pos', 2 : 'wiki', 3 : 'ner', 4 : 'ner_old'}\n",
        "\n",
        "# # directory where the data resides\n",
        "data_folder = 'CleanCoNLL/data/cleanconll/'\n",
        "\n",
        "# initializing the corpus\n",
        "corpus: Corpus = ColumnCorpus(data_folder, columns,\n",
        "                              train_file='cleanconll.train',\n",
        "                              test_file='cleanconll.test',\n",
        "                              dev_file='cleanconll.dev')"
      ],
      "metadata": {
        "id": "Krh7jsQuIife"
      },
      "execution_count": null,
      "outputs": []
    },
    {
      "cell_type": "code",
      "source": [
        "# tag to predict\n",
        "tag_type = 'ner'\n",
        "\n",
        "# make tag dictionary from the corpus\n",
        "tag_dictionary = corpus.make_label_dictionary(label_type=tag_type)"
      ],
      "metadata": {
        "id": "_OyIIheEK15J"
      },
      "execution_count": null,
      "outputs": []
    },
    {
      "cell_type": "code",
      "source": [
        "# initialize embeddings\n",
        "embedding_types: List[TokenEmbeddings] = [\n",
        "\n",
        "    # GloVe embeddings\n",
        "    WordEmbeddings('glove'),\n",
        "\n",
        "    # contextual string embeddings, forward\n",
        "    PooledFlairEmbeddings('news-forward', pooling='min'),\n",
        "\n",
        "    # contextual string embeddings, backward\n",
        "    PooledFlairEmbeddings('news-backward', pooling='min'),\n",
        "]\n",
        "\n",
        "\n",
        "embeddings : StackedEmbeddings = StackedEmbeddings(embeddings=embedding_types)\n",
        "\n",
        "tagger : SequenceTagger = SequenceTagger(hidden_size=256,\n",
        "                                       embeddings=embeddings,\n",
        "                                       tag_dictionary=tag_dictionary,\n",
        "                                       tag_type=tag_type,\n",
        "                                       use_crf=True)\n",
        "print(tagger)"
      ],
      "metadata": {
        "id": "4q_iRCRgLArc"
      },
      "execution_count": null,
      "outputs": []
    },
    {
      "cell_type": "code",
      "source": [
        "trainer: ModelTrainer = ModelTrainer(tagger, corpus)\n",
        "\n",
        "trainer.train('resources/taggers/example-ner',\n",
        "              train_with_dev=True,\n",
        "              max_epochs=10)"
      ],
      "metadata": {
        "id": "DNChcrWNMYTQ"
      },
      "execution_count": null,
      "outputs": []
    },
    {
      "cell_type": "code",
      "source": [
        "# load the trained model\n",
        "model = SequenceTagger.load('resources/taggers/example-ner/final-model.pt')\n",
        "\n",
        "# create example sentence\n",
        "sentence = Sentence('I love Berlin')\n",
        "\n",
        "# predict the tags\n",
        "model.predict(sentence)\n",
        "\n",
        "print(sentence.to_tagged_string())"
      ],
      "metadata": {
        "id": "ZYg3Vx-OLxIY"
      },
      "execution_count": null,
      "outputs": []
    }
  ]
}