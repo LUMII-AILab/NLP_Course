{
  "nbformat": 4,
  "nbformat_minor": 0,
  "metadata": {
    "colab": {
      "provenance": []
    },
    "kernelspec": {
      "name": "python3",
      "display_name": "Python 3"
    },
    "language_info": {
      "name": "python"
    }
  },
  "cells": [
    {
      "cell_type": "markdown",
      "source": [
        "<a href=\"https://colab.research.google.com/github/LUMII-AILab/NLP_Course/blob/main/notebooks/OpenGrm.ipynb\" target=\"_new\"><img src=\"https://colab.research.google.com/assets/colab-badge.svg\" alt=\"Open in Colab\"/></a>"
      ],
      "metadata": {
        "id": "lVtA3m48_oBd"
      }
    },
    {
      "cell_type": "markdown",
      "source": [
        "# OpenGrm toolkit"
      ],
      "metadata": {
        "id": "w2neZzt_fO4Z"
      }
    },
    {
      "cell_type": "markdown",
      "source": [
        "## Pynini\n",
        "\n",
        "The Python module for compiling and applying FST grammars: https://www.openfst.org/twiki/bin/view/GRM/Pynini"
      ],
      "metadata": {
        "id": "h9tVDn3ffmPW"
      }
    },
    {
      "cell_type": "code",
      "source": [
        "!pip install pynini"
      ],
      "metadata": {
        "id": "NV42lMW0C2Y0"
      },
      "execution_count": null,
      "outputs": []
    },
    {
      "cell_type": "code",
      "source": [
        "import pynini\n",
        "\n",
        "from pynini.lib.rewrite import top_rewrite"
      ],
      "metadata": {
        "id": "fTA95xmyc7Vl"
      },
      "execution_count": 3,
      "outputs": []
    },
    {
      "cell_type": "markdown",
      "source": [
        "**TODO**: Upload the `expand.far` and `collapse.far` grammars compiled with Thrax."
      ],
      "metadata": {
        "id": "dYwzW4VZRMb0"
      }
    },
    {
      "cell_type": "code",
      "source": [
        "def get_fst(far_path):\n",
        "    return pynini.Far(far_path).get_fst()\n",
        "\n",
        "fst_exp: pynini.Fst = get_fst(\"expand.far\")\n",
        "fst_col: pynini.Fst = get_fst(\"collapse.far\")"
      ],
      "metadata": {
        "id": "NDA7IlI9fJg6"
      },
      "execution_count": 12,
      "outputs": []
    },
    {
      "cell_type": "code",
      "source": [
        "print(top_rewrite(top_rewrite('13.03.2024. - 127 mg/l', fst_exp), fst_exp))"
      ],
      "metadata": {
        "id": "EHrgpDoUkGWn"
      },
      "execution_count": null,
      "outputs": []
    },
    {
      "cell_type": "code",
      "source": [
        "print(top_rewrite('trīspadsmitais marts divtūkstoš divdesmit ceturtais gads - simt divdesmit septiņi miligrami litrā', fst_col))"
      ],
      "metadata": {
        "id": "GyzDndaRlclx"
      },
      "execution_count": null,
      "outputs": []
    },
    {
      "cell_type": "code",
      "source": [
        "print(top_rewrite('pirmais segments līdz piektais segments', fst_col))\n",
        "print(top_rewrite('pirmais segments piektais segments', fst_col))\n",
        "print(top_rewrite('pirmais līdz piektais segments', fst_col))\n",
        "print(top_rewrite('pirmais piektais segments', fst_col))"
      ],
      "metadata": {
        "id": "fnRzjXHgpmrk"
      },
      "execution_count": null,
      "outputs": []
    },
    {
      "cell_type": "markdown",
      "source": [
        "**FIXME**: improve the grammar to handle segment intervals – the above test cases should all result in \"S1–S5\".\n",
        "\n",
        "In the `inverse.grm` module:\n",
        "\n",
        "* *Add*: `segments_short = inssegment (one_to_ten deldot | ordinal_one_to_ten);`\n",
        "\n",
        "* *Change*: `insinterval = (\" \"|\" līdz \" : \"–\");`\n",
        "\n",
        "* *Change*: `format_interval = (segments | segments_short) insinterval segments;`\n",
        "\n",
        "* *Remove*: `interval_item = \"S1\" | \"S2\" | \"S3\" | \"S4\" | \"S5\" | \"S6\" | \"S7\" | \"S8\" | \"S9\" | \"S10\";`"
      ],
      "metadata": {
        "id": "_l8h--9jYde5"
      }
    }
  ]
}