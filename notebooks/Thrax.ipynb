{
  "nbformat": 4,
  "nbformat_minor": 0,
  "metadata": {
    "colab": {
      "provenance": []
    },
    "kernelspec": {
      "name": "python3",
      "display_name": "Python 3"
    },
    "language_info": {
      "name": "python"
    }
  },
  "cells": [
    {
      "cell_type": "markdown",
      "source": [
        "<a href=\"https://colab.research.google.com/github/LUMII-AILab/NLP_Course/blob/main/notebooks/OpenGrm.ipynb\" target=\"_new\"><img src=\"https://colab.research.google.com/assets/colab-badge.svg\" alt=\"Open in Colab\"/></a>"
      ],
      "metadata": {
        "id": "lVtA3m48_oBd"
      }
    },
    {
      "cell_type": "markdown",
      "source": [
        "# OpenGrm rīkkopa | OpenGrm toolkit"
      ],
      "metadata": {
        "id": "w2neZzt_fO4Z"
      }
    },
    {
      "cell_type": "markdown",
      "source": [
        "## Thrax\n",
        "\n",
        "The command line toolkit for compiling and applying FST grammars: https://www.openfst.org/twiki/bin/view/GRM/Thrax"
      ],
      "metadata": {
        "id": "q6z8pbVFe3md"
      }
    },
    {
      "cell_type": "code",
      "execution_count": null,
      "metadata": {
        "id": "8Dd1FJbJdb3b"
      },
      "outputs": [],
      "source": [
        "# Install the (Mini)Conda package manager in the Colab environment.\n",
        "# See https://docs.conda.io for more detail.\n",
        "\n",
        "# Download the installation script and make it executable\n",
        "!wget https://repo.anaconda.com/miniconda/Miniconda3-latest-Linux-x86_64.sh\n",
        "!chmod +x Miniconda3-latest-Linux-x86_64.sh\n",
        "\n",
        "# Install Miniconda (-b: silently, -f: forcefully, -p: path)\n",
        "!./Miniconda3-latest-Linux-x86_64.sh -b -f -p /usr/local"
      ]
    },
    {
      "cell_type": "code",
      "source": [
        "# Install Thrax via Conda (-c: channel, -y: non-interactive)\n",
        "!conda install -c conda-forge thrax -y"
      ],
      "metadata": {
        "id": "XtVmZNSRdg2M"
      },
      "execution_count": null,
      "outputs": []
    },
    {
      "cell_type": "code",
      "source": [
        "# Get an FST grammar for text rewriting in the medical domain.\n",
        "# Developed by IMCS at University of Latvia (https://ailab.lv/projects/latviesu-valodas-runas-atpazisana-un-sinteze-medicinas-lietojumiem/).\n",
        "\n",
        "!wget https://raw.githubusercontent.com/LUMII-AILab/NLP_Course/main/notebooks/resources/OpenGrm/expand.grm\n",
        "!wget https://raw.githubusercontent.com/LUMII-AILab/NLP_Course/main/notebooks/resources/OpenGrm/collapse.grm\n",
        "!wget https://raw.githubusercontent.com/LUMII-AILab/NLP_Course/main/notebooks/resources/OpenGrm/numbers.grm\n",
        "!wget https://raw.githubusercontent.com/LUMII-AILab/NLP_Course/main/notebooks/resources/OpenGrm/declensions.grm\n",
        "!wget https://raw.githubusercontent.com/LUMII-AILab/NLP_Course/main/notebooks/resources/OpenGrm/inverse.grm\n",
        "!wget https://raw.githubusercontent.com/LUMII-AILab/NLP_Course/main/notebooks/resources/OpenGrm/byte.grm\n",
        "\n",
        "# Get a build script\n",
        "!wget https://raw.githubusercontent.com/LUMII-AILab/NLP_Course/main/notebooks/resources/OpenGrm/Makefile"
      ],
      "metadata": {
        "id": "_rE6v1rcETFZ"
      },
      "execution_count": null,
      "outputs": []
    },
    {
      "cell_type": "code",
      "source": [
        "# Compile the grammar (.grm => .far)\n",
        "# See Makefile\n",
        "\n",
        "!make all\n",
        "!make clean"
      ],
      "metadata": {
        "id": "bdnreCAheOQc"
      },
      "execution_count": null,
      "outputs": []
    },
    {
      "cell_type": "code",
      "source": [
        "# Rewrite text to expand it into full words\n",
        "!thraxrewrite-tester --far=expand.far --rules=TOKENIZER\n",
        "\n",
        "# A test case: \"13.03.2024\""
      ],
      "metadata": {
        "id": "o6PhVa3ifD0b"
      },
      "execution_count": null,
      "outputs": []
    },
    {
      "cell_type": "code",
      "source": [
        "# Rewrite text to collapse it into shortened tokens\n",
        "!thraxrewrite-tester --far=collapse.far --rules=TOKENIZER\n",
        "\n",
        "# A test case: \"trīspadsmitais marts divtūkstoš divdesmit ceturtais gads\""
      ],
      "metadata": {
        "id": "Xc7dIA_5gJBa"
      },
      "execution_count": null,
      "outputs": []
    },
    {
      "cell_type": "markdown",
      "source": [
        "**TODO**: Download the compiled `expand.far` and `collapse.far` grammars for the use with Pynini."
      ],
      "metadata": {
        "id": "Qpk5Ph3lVQoF"
      }
    }
  ]
}