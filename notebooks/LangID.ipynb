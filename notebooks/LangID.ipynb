{
  "nbformat": 4,
  "nbformat_minor": 0,
  "metadata": {
    "colab": {
      "provenance": [],
      "toc_visible": true
    },
    "kernelspec": {
      "name": "python3",
      "display_name": "Python 3"
    },
    "language_info": {
      "name": "python"
    }
  },
  "cells": [
    {
      "cell_type": "markdown",
      "source": [
        "<a href=\"https://colab.research.google.com/github/LUMII-AILab/NLP_Course/blob/main/notebooks/LangID.ipynb\" target=\"_new\"><img src=\"https://colab.research.google.com/assets/colab-badge.svg\" alt=\"Open in Colab\"/></a>"
      ],
      "metadata": {
        "id": "fkWv6p4KNGlJ"
      }
    },
    {
      "cell_type": "markdown",
      "source": [
        "# Python libs for language identification"
      ],
      "metadata": {
        "id": "xcVNYWCBasNW"
      }
    },
    {
      "cell_type": "markdown",
      "source": [
        "## LangID\n",
        "\n",
        "LangID (2016): https://github.com/saffsd/langid.py\n",
        "* Lightweight;\n",
        "* Trained on Wikipedia, etc.;\n",
        "* Using character n-grams and NB classification.\n"
      ],
      "metadata": {
        "id": "0kpwv_jQLNWx"
      }
    },
    {
      "cell_type": "code",
      "source": [
        "!pip install langid\n",
        "\n",
        "import langid"
      ],
      "metadata": {
        "id": "NV42lMW0C2Y0"
      },
      "execution_count": null,
      "outputs": []
    },
    {
      "cell_type": "code",
      "source": [
        "print(\"1\", langid.classify(\"this is just a test\"))\n",
        "print(\"2\", langid.classify(\"šis ir tikai tests\"))\n",
        "print(\"3\", langid.classify(\"tai tik testas\"))"
      ],
      "metadata": {
        "id": "fehEcwe7ULSN"
      },
      "execution_count": null,
      "outputs": []
    },
    {
      "cell_type": "code",
      "source": [
        "langid.set_languages(['en','lv'])\n",
        "\n",
        "print(\"1\", langid.classify(\"this is just a test\"))\n",
        "print(\"2\", langid.classify(\"šis ir tikai tests\"))"
      ],
      "metadata": {
        "id": "c05XyqzaUgMu"
      },
      "execution_count": null,
      "outputs": []
    },
    {
      "cell_type": "code",
      "source": [
        "langid.set_languages(['lv','lt'])\n",
        "\n",
        "print(\"1\", langid.rank(\"šis ir tests\"))\n",
        "print(\"2\", langid.rank(\"šis ir tests latviešu valodā\"))"
      ],
      "metadata": {
        "id": "m8bn4kgVx7co"
      },
      "execution_count": null,
      "outputs": []
    },
    {
      "cell_type": "code",
      "source": [
        "langid.set_languages(['uk','ru'])\n",
        "\n",
        "print(\"1\", langid.classify(\"зазнав ракетного удару агресора\"))\n",
        "print(\"2\", langid.classify(\"зазнав ракетного удару агресора: є загиблі\"))\n",
        "print(\"3\", langid.classify(\"але загроза затоплення не минула\"))\n",
        "\n",
        "print(\"4\", langid.classify(\"Сборная Латвии по хоккею сыграет свою первую игру на чемпионате мира в Чехии в субботу\"))"
      ],
      "metadata": {
        "id": "-6T2Hpw1XAK3"
      },
      "execution_count": null,
      "outputs": []
    },
    {
      "cell_type": "code",
      "source": [
        "def get_top_k(text, k=3):\n",
        "    # Rank all languages by probability\n",
        "    all_predictions = langid.rank(text)\n",
        "\n",
        "    # Return the top-k languages\n",
        "    return all_predictions[:k]\n",
        "\n",
        "# Reset languages\n",
        "langid.set_languages()\n",
        "\n",
        "print(get_top_k(\"Latvijas hokeja valstsvienība sestdien Čehijā aizvadīs pirmo spēli pasaules čempionātā\", k=5))\n",
        "print(get_top_k(\"Сборная Латвии по хоккею сыграет свою первую игру на чемпионате мира в Чехии в субботу\", k=5))\n",
        "\n",
        "# See https://en.wikipedia.org/wiki/List_of_ISO_639_language_codes"
      ],
      "metadata": {
        "id": "-yESFiX1OI6X"
      },
      "execution_count": null,
      "outputs": []
    },
    {
      "cell_type": "markdown",
      "source": [
        "## fastText\n",
        "\n",
        "fastText (2020): https://fasttext.cc\n",
        "* A library for word embedding calculation and text classification;\n",
        "* Pre-trained models for 176 languages;\n",
        "* Robust language detection (incl. short texts)."
      ],
      "metadata": {
        "id": "L_SWumiCLRcg"
      }
    },
    {
      "cell_type": "code",
      "source": [
        "!pip install fasttext\n",
        "\n",
        "!wget https://dl.fbaipublicfiles.com/fasttext/supervised-models/lid.176.bin\n",
        "\n",
        "import fasttext"
      ],
      "metadata": {
        "id": "TklvgoM2XVwJ"
      },
      "execution_count": null,
      "outputs": []
    },
    {
      "cell_type": "code",
      "source": [
        "# Load the pre-trained language detection model\n",
        "model = fasttext.load_model('lid.176.bin')"
      ],
      "metadata": {
        "id": "ApKvS9YJOjiO"
      },
      "execution_count": null,
      "outputs": []
    },
    {
      "cell_type": "code",
      "source": [
        "# P.S. See https://stackoverflow.com/questions/66353366/cant-suppress-fasttext-warning-load-model-does-not-return\n",
        "\n",
        "!pip show fasttext\n",
        "\n",
        "fasttext.FastText.eprint = lambda x: None"
      ],
      "metadata": {
        "id": "_6x-HvOn6E8B"
      },
      "execution_count": null,
      "outputs": []
    },
    {
      "cell_type": "code",
      "source": [
        "test_set = [\n",
        "    \"šis ir tikai tests\", # +'vienkāršs' (fastText, LangID)\n",
        "    \"tai tik testas\",\n",
        "    \"šis ir tests latviešu valodā\",\n",
        "    \"зазнав ракетного удару агресора\",\n",
        "    \"але загроза затоплення не минула\",\n",
        "    \"сыграет игру на чемпионате мира\"\n",
        "]\n",
        "\n",
        "for test in test_set:\n",
        "    # Return the TOP k predictions\n",
        "    predictions = model.predict(test, k=5)\n",
        "\n",
        "    print(test)\n",
        "    for k in range(len(predictions[0])):\n",
        "        print(f\"{predictions[0][k][-2:]}={round(predictions[1][k], 5):.5f}\", end=' ')\n",
        "    print('\\n')"
      ],
      "metadata": {
        "id": "29qsJsnfYQKp"
      },
      "execution_count": null,
      "outputs": []
    }
  ]
}