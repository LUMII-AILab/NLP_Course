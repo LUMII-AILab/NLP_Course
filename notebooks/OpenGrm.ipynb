{
  "nbformat": 4,
  "nbformat_minor": 0,
  "metadata": {
    "colab": {
      "provenance": [],
      "toc_visible": true
    },
    "kernelspec": {
      "name": "python3",
      "display_name": "Python 3"
    },
    "language_info": {
      "name": "python"
    }
  },
  "cells": [
    {
      "cell_type": "markdown",
      "source": [
        "<a href=\"https://colab.research.google.com/github/LUMII-AILab/NLP_Course/blob/main/notebooks/OpenGrm.ipynb\" target=\"_new\"><img src=\"https://colab.research.google.com/assets/colab-badge.svg\" alt=\"Open in Colab\"/></a>"
      ],
      "metadata": {
        "id": "lVtA3m48_oBd"
      }
    },
    {
      "cell_type": "markdown",
      "source": [
        "# OpenGrm rīkkopa | OpenGrm toolkit\n",
        "https://www.openfst.org/twiki/bin/view/GRM/\n",
        "\n",
        "**LV**: Atvērtā pirmkoda rīki FST gramatiku izveidei un lietošanai.\n",
        "\n",
        "**EN**: Open-source tools for creating and applying FST grammars."
      ],
      "metadata": {
        "id": "w2neZzt_fO4Z"
      }
    },
    {
      "cell_type": "markdown",
      "source": [
        "## Thrax\n",
        "https://www.openfst.org/twiki/bin/view/GRM/Thrax"
      ],
      "metadata": {
        "id": "q6z8pbVFe3md"
      }
    },
    {
      "cell_type": "code",
      "execution_count": null,
      "metadata": {
        "id": "8Dd1FJbJdb3b"
      },
      "outputs": [],
      "source": [
        "# Install the (Mini)Conda package manager in the Colab environment.\n",
        "# See https://docs.conda.io for more detail.\n",
        "\n",
        "# Download the installation script and make it executable\n",
        "!wget https://repo.anaconda.com/miniconda/Miniconda3-latest-Linux-x86_64.sh\n",
        "!chmod +x Miniconda3-latest-Linux-x86_64.sh\n",
        "\n",
        "# Install Miniconda (-b: silently, -f: forcefully, -p: path)\n",
        "!bash Miniconda3-latest-Linux-x86_64.sh -b -f -p /usr/local\n",
        "\n",
        "# Initialize\n",
        "!conda init bash"
      ]
    },
    {
      "cell_type": "code",
      "source": [
        "# Install Thrax via Conda (-c: channel, -y: non-interactive)\n",
        "!conda install -c conda-forge thrax -y"
      ],
      "metadata": {
        "id": "XtVmZNSRdg2M"
      },
      "execution_count": null,
      "outputs": []
    },
    {
      "cell_type": "code",
      "source": [
        "#!wget *.grm\n",
        "#!wget Makefile"
      ],
      "metadata": {
        "id": "_rE6v1rcETFZ"
      },
      "execution_count": null,
      "outputs": []
    },
    {
      "cell_type": "code",
      "source": [
        "# Gramatikas kompilēšana (.grm => .far)\n",
        "# Sk. Makefile\n",
        "!make all"
      ],
      "metadata": {
        "id": "bdnreCAheOQc"
      },
      "execution_count": null,
      "outputs": []
    },
    {
      "cell_type": "code",
      "source": [
        "# Teksta izvēršana\n",
        "!thraxrewrite-tester --far=expand.far --rules=TOKENIZER"
      ],
      "metadata": {
        "id": "o6PhVa3ifD0b"
      },
      "execution_count": null,
      "outputs": []
    },
    {
      "cell_type": "code",
      "source": [
        "# Teksta savēršana\n",
        "!thraxrewrite-tester --far=collapse.far --rules=TOKENIZER"
      ],
      "metadata": {
        "id": "Xc7dIA_5gJBa"
      },
      "execution_count": null,
      "outputs": []
    },
    {
      "cell_type": "markdown",
      "source": [
        "## Pynini\n",
        "https://www.openfst.org/twiki/bin/view/GRM/Pynini"
      ],
      "metadata": {
        "id": "h9tVDn3ffmPW"
      }
    },
    {
      "cell_type": "code",
      "source": [
        "!pip install --only-binary :all: pynini"
      ],
      "metadata": {
        "id": "NV42lMW0C2Y0"
      },
      "execution_count": null,
      "outputs": []
    },
    {
      "cell_type": "code",
      "source": [
        "# TODO"
      ],
      "metadata": {
        "id": "fTA95xmyc7Vl"
      },
      "execution_count": null,
      "outputs": []
    }
  ]
}