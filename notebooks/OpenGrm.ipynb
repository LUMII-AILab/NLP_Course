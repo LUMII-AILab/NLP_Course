{
  "nbformat": 4,
  "nbformat_minor": 0,
  "metadata": {
    "colab": {
      "provenance": []
    },
    "kernelspec": {
      "name": "python3",
      "display_name": "Python 3"
    },
    "language_info": {
      "name": "python"
    }
  },
  "cells": [
    {
      "cell_type": "markdown",
      "source": [
        "<a href=\"https://colab.research.google.com/github/LUMII-AILab/NLP_Course/blob/main/notebooks/OpenGrm.ipynb\" target=\"_new\"><img src=\"https://colab.research.google.com/assets/colab-badge.svg\" alt=\"Open in Colab\"/></a>"
      ],
      "metadata": {
        "id": "lVtA3m48_oBd"
      }
    },
    {
      "cell_type": "markdown",
      "source": [
        "# OpenGrm rīkkopa | OpenGrm toolkit\n",
        "\n",
        "https://www.openfst.org/twiki/bin/view/GRM/\n",
        "\n",
        "**LV**: Atvērtā pirmkoda rīki FST gramatiku kompilēšanai un lietošanai.\n",
        "\n",
        "**EN**: Open-source tools for compiling and applying FST grammars."
      ],
      "metadata": {
        "id": "w2neZzt_fO4Z"
      }
    },
    {
      "cell_type": "markdown",
      "source": [
        "## Thrax\n",
        "\n",
        "https://www.openfst.org/twiki/bin/view/GRM/Thrax\n",
        "\n",
        "The command line toolkit."
      ],
      "metadata": {
        "id": "q6z8pbVFe3md"
      }
    },
    {
      "cell_type": "code",
      "execution_count": null,
      "metadata": {
        "id": "8Dd1FJbJdb3b"
      },
      "outputs": [],
      "source": [
        "# Install the (Mini)Conda package manager in the Colab environment.\n",
        "# See https://docs.conda.io for more detail.\n",
        "\n",
        "# Download the installation script and make it executable\n",
        "!wget https://repo.anaconda.com/miniconda/Miniconda3-latest-Linux-x86_64.sh\n",
        "!chmod +x Miniconda3-latest-Linux-x86_64.sh\n",
        "\n",
        "# Install Miniconda (-b: silently, -f: forcefully, -p: path)\n",
        "!bash Miniconda3-latest-Linux-x86_64.sh -b -f -p /usr/local\n",
        "\n",
        "# Initialize\n",
        "!conda init bash"
      ]
    },
    {
      "cell_type": "code",
      "source": [
        "# Install Thrax via Conda (-c: channel, -y: non-interactive)\n",
        "!conda install -c conda-forge thrax -y"
      ],
      "metadata": {
        "id": "XtVmZNSRdg2M"
      },
      "execution_count": null,
      "outputs": []
    },
    {
      "cell_type": "code",
      "source": [
        "# Get an FST grammar for text rewriting in the medical domain.\n",
        "# Developed by IMCS at University of Latvia (https://ailab.lv/projects/latviesu-valodas-runas-atpazisana-un-sinteze-medicinas-lietojumiem/).\n",
        "\n",
        "!wget https://raw.githubusercontent.com/LUMII-AILab/NLP_Course/main/notebooks/resources/OpenGrm/expand.grm\n",
        "!wget https://raw.githubusercontent.com/LUMII-AILab/NLP_Course/main/notebooks/resources/OpenGrm/collapse.grm\n",
        "!wget https://raw.githubusercontent.com/LUMII-AILab/NLP_Course/main/notebooks/resources/OpenGrm/numbers.grm\n",
        "!wget https://raw.githubusercontent.com/LUMII-AILab/NLP_Course/main/notebooks/resources/OpenGrm/declensions.grm\n",
        "!wget https://raw.githubusercontent.com/LUMII-AILab/NLP_Course/main/notebooks/resources/OpenGrm/inverse.grm\n",
        "!wget https://raw.githubusercontent.com/LUMII-AILab/NLP_Course/main/notebooks/resources/OpenGrm/byte.grm\n",
        "\n",
        "# Get a build script\n",
        "!wget https://raw.githubusercontent.com/LUMII-AILab/NLP_Course/main/notebooks/resources/OpenGrm/Makefile"
      ],
      "metadata": {
        "id": "_rE6v1rcETFZ"
      },
      "execution_count": null,
      "outputs": []
    },
    {
      "cell_type": "code",
      "source": [
        "# Compile the grammar (.grm => .far)\n",
        "# See Makefile\n",
        "\n",
        "!make all\n",
        "!make clean"
      ],
      "metadata": {
        "id": "bdnreCAheOQc"
      },
      "execution_count": null,
      "outputs": []
    },
    {
      "cell_type": "code",
      "source": [
        "# Rewrite text to expand it into full words\n",
        "!thraxrewrite-tester --far=expand.far --rules=TOKENIZER"
      ],
      "metadata": {
        "id": "o6PhVa3ifD0b"
      },
      "execution_count": null,
      "outputs": []
    },
    {
      "cell_type": "code",
      "source": [
        "# Rewrite text to collapse it into shortened tokens\n",
        "!thraxrewrite-tester --far=collapse.far --rules=TOKENIZER"
      ],
      "metadata": {
        "id": "Xc7dIA_5gJBa"
      },
      "execution_count": null,
      "outputs": []
    },
    {
      "cell_type": "markdown",
      "source": [
        "## Pynini\n",
        "\n",
        "https://www.openfst.org/twiki/bin/view/GRM/Pynini\n",
        "\n",
        "The Python module."
      ],
      "metadata": {
        "id": "h9tVDn3ffmPW"
      }
    },
    {
      "cell_type": "code",
      "source": [
        "!pip install pynini"
      ],
      "metadata": {
        "id": "NV42lMW0C2Y0"
      },
      "execution_count": null,
      "outputs": []
    },
    {
      "cell_type": "code",
      "source": [
        "import pynini\n",
        "from pynini.lib.rewrite import top_rewrite"
      ],
      "metadata": {
        "id": "fTA95xmyc7Vl"
      },
      "execution_count": 2,
      "outputs": []
    },
    {
      "cell_type": "code",
      "source": [
        "def get_fst(far_path):\n",
        "    return pynini.Far(far_path).get_fst()\n",
        "\n",
        "fst_exp: pynini.Fst = get_fst(\"expand.far\")\n",
        "fst_col: pynini.Fst = get_fst(\"collapse.far\")"
      ],
      "metadata": {
        "id": "NDA7IlI9fJg6"
      },
      "execution_count": 8,
      "outputs": []
    },
    {
      "cell_type": "code",
      "source": [
        "print(top_rewrite(top_rewrite('13.03.2024. - 127 mg/l', fst_exp), fst_exp))"
      ],
      "metadata": {
        "id": "EHrgpDoUkGWn"
      },
      "execution_count": null,
      "outputs": []
    },
    {
      "cell_type": "code",
      "source": [
        "print(top_rewrite('trīspadsmitais marts divtūkstoš divdesmit ceturtais gads - simt divdesmit septiņi miligrami litrā', fst_col))"
      ],
      "metadata": {
        "id": "GyzDndaRlclx"
      },
      "execution_count": null,
      "outputs": []
    },
    {
      "cell_type": "code",
      "source": [
        "# TODO: improve the grammar to handle segment intervals.\n",
        "# All the below test cases should result in 'S1-S5'.\n",
        "\n",
        "print(top_rewrite('pirmais segments līdz piektais segments', fst_col))\n",
        "print(top_rewrite('pirmais segments piektais segments', fst_col))\n",
        "print(top_rewrite('pirmais līdz piektais segments', fst_col))\n",
        "print(top_rewrite('pirmais piektais segments', fst_col))"
      ],
      "metadata": {
        "id": "fnRzjXHgpmrk"
      },
      "execution_count": null,
      "outputs": []
    }
  ]
}