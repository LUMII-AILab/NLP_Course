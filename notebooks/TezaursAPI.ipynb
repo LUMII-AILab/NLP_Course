{
  "nbformat": 4,
  "nbformat_minor": 0,
  "metadata": {
    "colab": {
      "provenance": [],
      "toc_visible": true
    },
    "kernelspec": {
      "name": "python3",
      "display_name": "Python 3"
    },
    "language_info": {
      "name": "python"
    }
  },
  "cells": [
    {
      "cell_type": "markdown",
      "metadata": {
        "id": "view-in-github"
      },
      "source": [
        "<a href=\"https://colab.research.google.com/github/LUMII-AILab/NLP_Course/blob/main/notebooks/TezaursAPI.ipynb\" target=\"_parent\"><img src=\"https://colab.research.google.com/assets/colab-badge.svg\" alt=\"Open in Colab\"/></a>"
      ]
    },
    {
      "cell_type": "markdown",
      "source": [
        "# Tēzaura API: LV morfoloģiskā analīze un sintēze\n",
        "\n",
        "Vairāk nekā 100k (no 400k) [Tēzaurā](https://tezaurs.lv) iekļautajiem latviešu valodas vārdiem un vārdu savienojumiem ir norādītas to skaitļojamās [locīšanas paradigmas](https://github.com/PeterisP/morphology/blob/master/docs/paradigms.pdf). Šo informāciju izmanto LU MII morfoloģiskās analīzes un sintēzes [atvērtā pirmkoda bibliotēka](https://github.com/PeterisP/morphology), kas pieejama arī kā daļa no Tēzaura API: https://api.tezaurs.lv"
      ],
      "metadata": {
        "id": "GLIeDRVXGoa-"
      }
    },
    {
      "cell_type": "code",
      "source": [
        "import requests"
      ],
      "metadata": {
        "id": "TG1CO8AzECw5"
      },
      "execution_count": 1,
      "outputs": []
    },
    {
      "cell_type": "code",
      "source": [
        "def api_call(url):\n",
        "    # Make a GET request to the URL\n",
        "    response = requests.get(url)\n",
        "\n",
        "    # Print the status code and the associated message\n",
        "    print(f\"{response.status_code}: '{response.reason}'\")\n",
        "\n",
        "    # Get the returned data as a JSON object\n",
        "    payload = response.json()\n",
        "\n",
        "    return payload"
      ],
      "metadata": {
        "id": "oaowJDfjEoNS"
      },
      "execution_count": 2,
      "outputs": []
    },
    {
      "cell_type": "markdown",
      "source": [
        "## Morfoloģiskā analīze"
      ],
      "metadata": {
        "id": "lljCn5jJEU6M"
      }
    },
    {
      "cell_type": "markdown",
      "source": [
        "Izolētas vārdformas morfoloģiskā analīze.\n",
        "\n",
        "API atgriež visus iespējamos analīzes variantus. Atsevišķi tiek izdrukāta pamatforma un vārdšķiras norāde."
      ],
      "metadata": {
        "id": "cmZDofH6E8gf"
      }
    },
    {
      "cell_type": "code",
      "source": [
        "analyze_url = \"http://api.tezaurs.lv:8182/analyze/\"\n",
        "\n",
        "def analyze_word(word):\n",
        "    options = api_call(analyze_url + word)\n",
        "\n",
        "    for opt in options:\n",
        "        print(opt[\"Pamatforma\"], opt[\"Vārdšķira\"], opt)"
      ],
      "metadata": {
        "id": "xuDpB8hOLgj1"
      },
      "execution_count": 3,
      "outputs": []
    },
    {
      "cell_type": "code",
      "source": [
        "analyze_word(\"roku\")"
      ],
      "metadata": {
        "id": "mE2EZzZfEGmz"
      },
      "execution_count": null,
      "outputs": []
    },
    {
      "cell_type": "code",
      "source": [
        "analyze_word(\"medu\")"
      ],
      "metadata": {
        "id": "mNI3MlTqFdhx"
      },
      "execution_count": null,
      "outputs": []
    },
    {
      "cell_type": "markdown",
      "source": [
        "## Vārdformu sintēze\n"
      ],
      "metadata": {
        "id": "q9OBoZ9pHtTf"
      }
    },
    {
      "cell_type": "markdown",
      "source": [
        "Individuāla vārda (pamatformas) visu vārdformu (locījumu) ģenerēšana.\n",
        "\n",
        "Atsevišķos gadījumos nepieciešams norādīt papildu informāciju par saknes alternatīvajām formām (1. konjugācijas darbības vārdiem). Lielai daļai latviešu valodas vārdu šī informācija ir pieejama Tēzaura [atvērtajos datos](http://hdl.handle.net/20.500.12574/92)."
      ],
      "metadata": {
        "id": "XUiPCNdgMvgw"
      }
    },
    {
      "cell_type": "code",
      "source": [
        "generate_url = \"https://api.tezaurs.lv/v1/inflections/\"\n",
        "\n",
        "def generate_wordforms(word, paradigm, **kwargs):\n",
        "    url = generate_url + word + \"?paradigm=\" + paradigm\n",
        "\n",
        "    for arg in kwargs:\n",
        "        url += \"&\" + arg + \"=\" + kwargs.get(arg)\n",
        "\n",
        "    options = api_call(url)\n",
        "\n",
        "    for word in options:\n",
        "        print(\"Vārdformu skaits:\", len(word))\n",
        "\n",
        "        for wf in word:\n",
        "            print(wf[\"Vārds\"], wf)"
      ],
      "metadata": {
        "id": "mwLGiR4uNVF2"
      },
      "execution_count": 11,
      "outputs": []
    },
    {
      "cell_type": "code",
      "execution_count": null,
      "metadata": {
        "id": "0aBVeMUICjls"
      },
      "outputs": [],
      "source": [
        "generate_wordforms(\"doma\", \"noun-4f\")"
      ]
    },
    {
      "cell_type": "code",
      "source": [
        "generate_wordforms(\"ēst\", \"verb-1\", Stem1=\"ēs\", stem2=\"ēd\", stem3=\"ēd\")"
      ],
      "metadata": {
        "id": "tHkTROpqRaLF"
      },
      "execution_count": null,
      "outputs": []
    }
  ]
}